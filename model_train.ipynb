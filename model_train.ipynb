{
 "cells": [
  {
   "cell_type": "code",
   "execution_count": 1,
   "metadata": {
    "collapsed": true,
    "pycharm": {
     "name": "#%%\n"
    }
   },
   "outputs": [],
   "source": [
    "import torch\n",
    "from cnnf.model_cifar import WideResNet\n",
    "import torchvision\n",
    "from torchvision import datasets, transforms\n",
    "import matplotlib.pyplot as plt\n",
    "from utils import *\n",
    "from tqdm import tqdm\n",
    "from train import train_adv, test, test_pgd"
   ]
  },
  {
   "cell_type": "code",
   "execution_count": 2,
   "outputs": [],
   "source": [
    "#args\n",
    "class Arg:\n",
    "    pass\n",
    "#opt params\n",
    "args = Arg()\n",
    "args.batch_size = 256\n",
    "args.test_batch_size = 128\n",
    "args.epochs = 500\n",
    "args.lr = 0.05\n",
    "args.power = 0.9\n",
    "args.momentum = 0.9\n",
    "args.wd = 5e-4\n",
    "args.grad_clip = True\n",
    "args.dataset = 'cifar10'\n",
    "args.schedule = 'poly'\n",
    "args.no_cuda = True\n",
    "args.seed = 1\n",
    "args.log_interval = 400\n",
    "\n",
    "#adver training params\n",
    "args.eps = 0.063\n",
    "args.eps_iter = 0.02\n",
    "args.nb_iter = 7\n",
    "args.clean = 'supclean'\n",
    "\n",
    "#hyper params\n",
    "args.mse_parameter = 0.1\n",
    "args.clean_parameter = 0.05\n",
    "args.res_parameter = 0.1\n",
    "\n",
    "#model params\n",
    "args.layers = 40\n",
    "args.widen_factor = 2\n",
    "args.droprate = 0.0\n",
    "args.ind = 5\n",
    "args.max_cycles = 2\n",
    "args.save_model = 'CNNF_superes_cifar'\n",
    "args.model_dir = 'models'"
   ],
   "metadata": {
    "collapsed": false,
    "pycharm": {
     "name": "#%%\n"
    }
   }
  },
  {
   "cell_type": "code",
   "execution_count": 3,
   "outputs": [],
   "source": [
    "#params cuda\n",
    "use_cuda = torch.cuda.is_available()\n",
    "device = torch.device(\"cuda\" if use_cuda else \"cpu\")\n",
    "kwargs = {'num_workers': 1, 'pin_memory': True} if use_cuda else {}"
   ],
   "metadata": {
    "collapsed": false,
    "pycharm": {
     "name": "#%%\n"
    }
   }
  },
  {
   "cell_type": "code",
   "execution_count": 4,
   "outputs": [],
   "source": [
    "#transforms\n",
    "train_transform_cifar = transforms.Compose(\n",
    "  [transforms.RandomHorizontalFlip(),\n",
    "   transforms.RandomCrop(32, padding=4),\n",
    "   transforms.ToTensor(),\n",
    "   transforms.Normalize([0.5] * 3, [0.5] * 3)])\n",
    "\n",
    "test_transform_cifar = transforms.Compose(\n",
    "  [transforms.ToTensor(),\n",
    "   transforms.Normalize([0.5] * 3, [0.5] * 3)])"
   ],
   "metadata": {
    "collapsed": false,
    "pycharm": {
     "name": "#%%\n"
    }
   }
  },
  {
   "cell_type": "code",
   "execution_count": 5,
   "outputs": [
    {
     "name": "stdout",
     "output_type": "stream",
     "text": [
      "Files already downloaded and verified\n",
      "Files already downloaded and verified\n"
     ]
    }
   ],
   "source": [
    "#model and dataset\n",
    "train_data = datasets.CIFAR10(\n",
    "    'data', train=True, transform=train_transform_cifar, download=True)\n",
    "test_data = datasets.CIFAR10(\n",
    "    'data', train=False, transform=test_transform_cifar, download=True)\n",
    "train_loader = torch.utils.data.DataLoader(\n",
    "  train_data, batch_size=args.batch_size,\n",
    "  shuffle=True, num_workers=4, pin_memory=True)\n",
    "test_loader = torch.utils.data.DataLoader(\n",
    "  test_data, batch_size=args.test_batch_size,\n",
    "  shuffle=True, num_workers=4, pin_memory=True)\n",
    "num_classes = 10\n",
    "model = WideResNet(args.layers, 10, args.widen_factor, args.droprate, args.ind, args.max_cycles, args.res_parameter).to(device)"
   ],
   "metadata": {
    "collapsed": false,
    "pycharm": {
     "name": "#%%\n"
    }
   }
  },
  {
   "cell_type": "code",
   "execution_count": 6,
   "outputs": [],
   "source": [
    "#optimizer and scheduler\n",
    "optimizer = torch.optim.SGD(\n",
    "      model.parameters(),\n",
    "      args.lr,\n",
    "      momentum=args.momentum,\n",
    "      weight_decay=args.wd)\n",
    "\n",
    "scheduler = torch.optim.lr_scheduler.LambdaLR(\n",
    "  optimizer, lr_lambda=lambda step: lr_poly(1.0, step, args.epochs * len(train_loader), args.power))"
   ],
   "metadata": {
    "collapsed": false,
    "pycharm": {
     "name": "#%%\n"
    }
   }
  },
  {
   "cell_type": "code",
   "execution_count": 7,
   "outputs": [
    {
     "name": "stderr",
     "output_type": "stream",
     "text": [
      "  0%|          | 0/500 [00:00<?, ?it/s]"
     ]
    },
    {
     "name": "stdout",
     "output_type": "stream",
     "text": [
      "Train Epoch: 0 [0/50000 (0%)]\tLoss: 2.558999\n"
     ]
    },
    {
     "name": "stderr",
     "output_type": "stream",
     "text": [
      "  0%|          | 1/500 [03:36<30:03:48, 216.89s/it]"
     ]
    },
    {
     "name": "stdout",
     "output_type": "stream",
     "text": [
      "\n",
      "Test set: Average loss: 2.3029, Accuracy: 1000/10000 (10%)\n",
      "\n",
      "Epoch 0:\n",
      "loss train: tensor(180.9271, device='cuda:0', grad_fn=<DivBackward0>)\n",
      "acc train: 0.10004\n",
      "loss test: 2.3029255195617675\n",
      "acc test: 0.1\n",
      "Train Epoch: 1 [0/50000 (0%)]\tLoss: 1264.664551\n"
     ]
    },
    {
     "name": "stderr",
     "output_type": "stream",
     "text": [
      "  0%|          | 2/500 [07:07<29:28:11, 213.04s/it]"
     ]
    },
    {
     "name": "stdout",
     "output_type": "stream",
     "text": [
      "\n",
      "Test set: Average loss: 2.3028, Accuracy: 1000/10000 (10%)\n",
      "\n",
      "Epoch 1:\n",
      "loss train: tensor(22354.2578, device='cuda:0', grad_fn=<DivBackward0>)\n",
      "acc train: 0.1\n",
      "loss test: 2.3027957050323486\n",
      "acc test: 0.1\n",
      "Train Epoch: 2 [0/50000 (0%)]\tLoss: 60441.625000\n"
     ]
    },
    {
     "name": "stderr",
     "output_type": "stream",
     "text": [
      "  1%|          | 3/500 [10:38<29:16:26, 212.05s/it]"
     ]
    },
    {
     "name": "stdout",
     "output_type": "stream",
     "text": [
      "\n",
      "Test set: Average loss: 2.3028, Accuracy: 1000/10000 (10%)\n",
      "\n",
      "Epoch 2:\n",
      "loss train: tensor(137802.1875, device='cuda:0', grad_fn=<DivBackward0>)\n",
      "acc train: 0.1\n",
      "loss test: 2.3027965705871583\n",
      "acc test: 0.1\n",
      "Train Epoch: 3 [0/50000 (0%)]\tLoss: 245698.781250\n"
     ]
    },
    {
     "name": "stderr",
     "output_type": "stream",
     "text": [
      "  1%|          | 4/500 [14:08<29:06:14, 211.24s/it]"
     ]
    },
    {
     "name": "stdout",
     "output_type": "stream",
     "text": [
      "\n",
      "Test set: Average loss: 2.3028, Accuracy: 1000/10000 (10%)\n",
      "\n",
      "Epoch 3:\n",
      "loss train: tensor(436466.0625, device='cuda:0', grad_fn=<DivBackward0>)\n",
      "acc train: 0.1\n",
      "loss test: 2.302773366546631\n",
      "acc test: 0.1\n",
      "Train Epoch: 4 [0/50000 (0%)]\tLoss: 648181.375000\n"
     ]
    },
    {
     "name": "stderr",
     "output_type": "stream",
     "text": [
      "  1%|          | 5/500 [17:38<29:00:01, 210.91s/it]"
     ]
    },
    {
     "name": "stdout",
     "output_type": "stream",
     "text": [
      "\n",
      "Test set: Average loss: 2.3028, Accuracy: 1000/10000 (10%)\n",
      "\n",
      "Epoch 4:\n",
      "loss train: tensor(907663.6250, device='cuda:0', grad_fn=<DivBackward0>)\n",
      "acc train: 0.1\n",
      "loss test: 2.302757122039795\n",
      "acc test: 0.1\n",
      "Train Epoch: 5 [0/50000 (0%)]\tLoss: 1281857.250000\n"
     ]
    },
    {
     "name": "stderr",
     "output_type": "stream",
     "text": [
      "  1%|          | 6/500 [21:08<28:54:58, 210.73s/it]"
     ]
    },
    {
     "name": "stdout",
     "output_type": "stream",
     "text": [
      "\n",
      "Test set: Average loss: 2.3027, Accuracy: 1000/10000 (10%)\n",
      "\n",
      "Epoch 5:\n",
      "loss train: tensor(1865443.2500, device='cuda:0', grad_fn=<DivBackward0>)\n",
      "acc train: 0.1\n",
      "loss test: 2.302745420074463\n",
      "acc test: 0.1\n",
      "Train Epoch: 6 [0/50000 (0%)]\tLoss: 2428503.250000\n"
     ]
    },
    {
     "name": "stderr",
     "output_type": "stream",
     "text": [
      "  1%|▏         | 7/500 [24:38<28:49:08, 210.44s/it]"
     ]
    },
    {
     "name": "stdout",
     "output_type": "stream",
     "text": [
      "\n",
      "Test set: Average loss: 2.3031, Accuracy: 1000/10000 (10%)\n",
      "\n",
      "Epoch 6:\n",
      "loss train: tensor(3495697.2500, device='cuda:0', grad_fn=<DivBackward0>)\n",
      "acc train: 0.10002\n",
      "loss test: 2.3030586742401122\n",
      "acc test: 0.1\n",
      "Train Epoch: 7 [0/50000 (0%)]\tLoss: 4606632.000000\n"
     ]
    },
    {
     "name": "stderr",
     "output_type": "stream",
     "text": [
      "  2%|▏         | 8/500 [28:08<28:44:27, 210.30s/it]"
     ]
    },
    {
     "name": "stdout",
     "output_type": "stream",
     "text": [
      "\n",
      "Test set: Average loss: 2.3037, Accuracy: 1000/10000 (10%)\n",
      "\n",
      "Epoch 7:\n",
      "loss train: tensor(5840857.5000, device='cuda:0', grad_fn=<DivBackward0>)\n",
      "acc train: 0.0999\n",
      "loss test: 2.30370315284729\n",
      "acc test: 0.1\n",
      "Train Epoch: 8 [0/50000 (0%)]\tLoss: 7268532.000000\n"
     ]
    },
    {
     "name": "stderr",
     "output_type": "stream",
     "text": [
      "  2%|▏         | 9/500 [31:38<28:40:59, 210.31s/it]"
     ]
    },
    {
     "name": "stdout",
     "output_type": "stream",
     "text": [
      "\n",
      "Test set: Average loss: 2.3042, Accuracy: 1000/10000 (10%)\n",
      "\n",
      "Epoch 8:\n",
      "loss train: tensor(10393561., device='cuda:0', grad_fn=<DivBackward0>)\n",
      "acc train: 0.0983\n",
      "loss test: 2.304246440887451\n",
      "acc test: 0.1\n",
      "Train Epoch: 9 [0/50000 (0%)]\tLoss: 14428663.000000\n"
     ]
    },
    {
     "name": "stderr",
     "output_type": "stream",
     "text": [
      "  2%|▏         | 10/500 [35:08<28:36:44, 210.21s/it]"
     ]
    },
    {
     "name": "stdout",
     "output_type": "stream",
     "text": [
      "\n",
      "Test set: Average loss: 2.3040, Accuracy: 1000/10000 (10%)\n",
      "\n",
      "Epoch 9:\n",
      "loss train: tensor(18426862., device='cuda:0', grad_fn=<DivBackward0>)\n",
      "acc train: 0.10032\n",
      "loss test: 2.30400186920166\n",
      "acc test: 0.1\n",
      "Train Epoch: 10 [0/50000 (0%)]\tLoss: 21837442.000000\n"
     ]
    },
    {
     "name": "stderr",
     "output_type": "stream",
     "text": [
      "  2%|▏         | 11/500 [38:38<28:32:37, 210.14s/it]"
     ]
    },
    {
     "name": "stdout",
     "output_type": "stream",
     "text": [
      "\n",
      "Test set: Average loss: 2.3070, Accuracy: 1000/10000 (10%)\n",
      "\n",
      "Epoch 10:\n",
      "loss train: tensor(30206576., device='cuda:0', grad_fn=<DivBackward0>)\n",
      "acc train: 0.1\n",
      "loss test: 2.306996061706543\n",
      "acc test: 0.1\n",
      "Train Epoch: 11 [0/50000 (0%)]\tLoss: 41119184.000000\n"
     ]
    },
    {
     "name": "stderr",
     "output_type": "stream",
     "text": [
      "  2%|▏         | 12/500 [41:56<27:57:04, 206.20s/it]"
     ]
    },
    {
     "name": "stdout",
     "output_type": "stream",
     "text": [
      "\n",
      "Test set: Average loss: 2.3073, Accuracy: 1000/10000 (10%)\n",
      "\n",
      "Epoch 11:\n",
      "loss train: tensor(56352192., device='cuda:0', grad_fn=<DivBackward0>)\n",
      "acc train: 0.10062\n",
      "loss test: 2.3072902736663816\n",
      "acc test: 0.1\n",
      "Train Epoch: 12 [0/50000 (0%)]\tLoss: 74509776.000000\n"
     ]
    },
    {
     "name": "stderr",
     "output_type": "stream",
     "text": [
      "  3%|▎         | 13/500 [45:12<27:30:14, 203.31s/it]"
     ]
    },
    {
     "name": "stdout",
     "output_type": "stream",
     "text": [
      "\n",
      "Test set: Average loss: 2.3084, Accuracy: 1000/10000 (10%)\n",
      "\n",
      "Epoch 12:\n",
      "loss train: tensor(88618856., device='cuda:0', grad_fn=<DivBackward0>)\n",
      "acc train: 0.10056\n",
      "loss test: 2.3083688732147216\n",
      "acc test: 0.1\n",
      "Train Epoch: 13 [0/50000 (0%)]\tLoss: 95581984.000000\n"
     ]
    },
    {
     "name": "stderr",
     "output_type": "stream",
     "text": [
      "  3%|▎         | 14/500 [48:29<27:11:38, 201.44s/it]"
     ]
    },
    {
     "name": "stdout",
     "output_type": "stream",
     "text": [
      "\n",
      "Test set: Average loss: 2.3097, Accuracy: 1000/10000 (10%)\n",
      "\n",
      "Epoch 13:\n",
      "loss train: tensor(1.0128e+08, device='cuda:0', grad_fn=<DivBackward0>)\n",
      "acc train: 0.1\n",
      "loss test: 2.309697232437134\n",
      "acc test: 0.1\n",
      "Train Epoch: 14 [0/50000 (0%)]\tLoss: 112099616.000000\n"
     ]
    },
    {
     "name": "stderr",
     "output_type": "stream",
     "text": [
      "  3%|▎         | 15/500 [51:46<26:55:57, 199.91s/it]"
     ]
    },
    {
     "name": "stdout",
     "output_type": "stream",
     "text": [
      "\n",
      "Test set: Average loss: 2.3090, Accuracy: 1000/10000 (10%)\n",
      "\n",
      "Epoch 14:\n",
      "loss train: tensor(1.3947e+08, device='cuda:0', grad_fn=<DivBackward0>)\n",
      "acc train: 0.1\n",
      "loss test: 2.3090432891845705\n",
      "acc test: 0.1\n",
      "Train Epoch: 15 [0/50000 (0%)]\tLoss: 170395648.000000\n"
     ]
    },
    {
     "name": "stderr",
     "output_type": "stream",
     "text": [
      "  3%|▎         | 16/500 [55:02<26:44:36, 198.92s/it]"
     ]
    },
    {
     "name": "stdout",
     "output_type": "stream",
     "text": [
      "\n",
      "Test set: Average loss: 2.3079, Accuracy: 1000/10000 (10%)\n",
      "\n",
      "Epoch 15:\n",
      "loss train: tensor(2.0093e+08, device='cuda:0', grad_fn=<DivBackward0>)\n",
      "acc train: 0.1\n",
      "loss test: 2.3079118156433105\n",
      "acc test: 0.1\n",
      "Train Epoch: 16 [0/50000 (0%)]\tLoss: 239824800.000000\n"
     ]
    },
    {
     "name": "stderr",
     "output_type": "stream",
     "text": [
      "  3%|▎         | 17/500 [58:19<26:36:15, 198.29s/it]"
     ]
    },
    {
     "name": "stdout",
     "output_type": "stream",
     "text": [
      "\n",
      "Test set: Average loss: 2.3087, Accuracy: 1000/10000 (10%)\n",
      "\n",
      "Epoch 16:\n",
      "loss train: tensor(2.6446e+08, device='cuda:0', grad_fn=<DivBackward0>)\n",
      "acc train: 0.1\n",
      "loss test: 2.308729305267334\n",
      "acc test: 0.1\n",
      "Train Epoch: 17 [0/50000 (0%)]\tLoss: 283865504.000000\n"
     ]
    },
    {
     "name": "stderr",
     "output_type": "stream",
     "text": [
      "  4%|▎         | 18/500 [1:01:36<26:29:20, 197.84s/it]"
     ]
    },
    {
     "name": "stdout",
     "output_type": "stream",
     "text": [
      "\n",
      "Test set: Average loss: 2.3085, Accuracy: 1000/10000 (10%)\n",
      "\n",
      "Epoch 17:\n",
      "loss train: tensor(3.0757e+08, device='cuda:0', grad_fn=<DivBackward0>)\n",
      "acc train: 0.1\n",
      "loss test: 2.3084606143951416\n",
      "acc test: 0.1\n",
      "Train Epoch: 18 [0/50000 (0%)]\tLoss: 334118272.000000\n"
     ]
    },
    {
     "name": "stderr",
     "output_type": "stream",
     "text": [
      "  4%|▍         | 19/500 [1:04:53<26:23:48, 197.56s/it]"
     ]
    },
    {
     "name": "stdout",
     "output_type": "stream",
     "text": [
      "\n",
      "Test set: Average loss: 2.3083, Accuracy: 1000/10000 (10%)\n",
      "\n",
      "Epoch 18:\n",
      "loss train: tensor(3.4075e+08, device='cuda:0', grad_fn=<DivBackward0>)\n",
      "acc train: 0.1\n",
      "loss test: 2.3082931297302247\n",
      "acc test: 0.1\n",
      "Train Epoch: 19 [0/50000 (0%)]\tLoss: 362531040.000000\n"
     ]
    },
    {
     "name": "stderr",
     "output_type": "stream",
     "text": [
      "  4%|▍         | 20/500 [1:08:10<26:18:52, 197.36s/it]"
     ]
    },
    {
     "name": "stdout",
     "output_type": "stream",
     "text": [
      "\n",
      "Test set: Average loss: 2.3081, Accuracy: 1000/10000 (10%)\n",
      "\n",
      "Epoch 19:\n",
      "loss train: tensor(3.8946e+08, device='cuda:0', grad_fn=<DivBackward0>)\n",
      "acc train: 0.1\n",
      "loss test: 2.3080646446228026\n",
      "acc test: 0.1\n",
      "Train Epoch: 20 [0/50000 (0%)]\tLoss: 408616128.000000\n"
     ]
    },
    {
     "name": "stderr",
     "output_type": "stream",
     "text": [
      "  4%|▍         | 21/500 [1:11:27<26:14:08, 197.18s/it]"
     ]
    },
    {
     "name": "stdout",
     "output_type": "stream",
     "text": [
      "\n",
      "Test set: Average loss: 2.3083, Accuracy: 1000/10000 (10%)\n",
      "\n",
      "Epoch 20:\n",
      "loss train: tensor(4.3843e+08, device='cuda:0', grad_fn=<DivBackward0>)\n",
      "acc train: 0.1\n",
      "loss test: 2.308259591293335\n",
      "acc test: 0.1\n",
      "Train Epoch: 21 [0/50000 (0%)]\tLoss: 464058752.000000\n"
     ]
    },
    {
     "name": "stderr",
     "output_type": "stream",
     "text": [
      "  4%|▍         | 22/500 [1:14:43<26:09:52, 197.06s/it]"
     ]
    },
    {
     "name": "stdout",
     "output_type": "stream",
     "text": [
      "\n",
      "Test set: Average loss: 2.3079, Accuracy: 1000/10000 (10%)\n",
      "\n",
      "Epoch 21:\n",
      "loss train: tensor(4.8878e+08, device='cuda:0', grad_fn=<DivBackward0>)\n",
      "acc train: 0.1\n",
      "loss test: 2.307857190704346\n",
      "acc test: 0.1\n",
      "Train Epoch: 22 [0/50000 (0%)]\tLoss: 525210816.000000\n"
     ]
    },
    {
     "name": "stderr",
     "output_type": "stream",
     "text": [
      "  5%|▍         | 23/500 [1:18:00<26:05:51, 196.96s/it]"
     ]
    },
    {
     "name": "stdout",
     "output_type": "stream",
     "text": [
      "\n",
      "Test set: Average loss: 2.3078, Accuracy: 1000/10000 (10%)\n",
      "\n",
      "Epoch 22:\n",
      "loss train: tensor(5.6425e+08, device='cuda:0', grad_fn=<DivBackward0>)\n",
      "acc train: 0.1\n",
      "loss test: 2.307831327056885\n",
      "acc test: 0.1\n",
      "Train Epoch: 23 [0/50000 (0%)]\tLoss: 598043776.000000\n"
     ]
    },
    {
     "name": "stderr",
     "output_type": "stream",
     "text": [
      "  5%|▍         | 24/500 [1:21:17<26:02:12, 196.92s/it]"
     ]
    },
    {
     "name": "stdout",
     "output_type": "stream",
     "text": [
      "\n",
      "Test set: Average loss: 2.3076, Accuracy: 1000/10000 (10%)\n",
      "\n",
      "Epoch 23:\n",
      "loss train: tensor(6.3055e+08, device='cuda:0', grad_fn=<DivBackward0>)\n",
      "acc train: 0.1\n",
      "loss test: 2.3076321517944334\n",
      "acc test: 0.1\n",
      "Train Epoch: 24 [0/50000 (0%)]\tLoss: 638057792.000000\n"
     ]
    },
    {
     "name": "stderr",
     "output_type": "stream",
     "text": [
      "  5%|▌         | 25/500 [1:24:34<25:59:16, 196.96s/it]"
     ]
    },
    {
     "name": "stdout",
     "output_type": "stream",
     "text": [
      "\n",
      "Test set: Average loss: 2.3077, Accuracy: 1000/10000 (10%)\n",
      "\n",
      "Epoch 24:\n",
      "loss train: tensor(6.6502e+08, device='cuda:0', grad_fn=<DivBackward0>)\n",
      "acc train: 0.1\n",
      "loss test: 2.3076560722351074\n",
      "acc test: 0.1\n",
      "Train Epoch: 25 [0/50000 (0%)]\tLoss: 709536640.000000\n"
     ]
    },
    {
     "name": "stderr",
     "output_type": "stream",
     "text": [
      "  5%|▌         | 26/500 [1:27:51<25:56:14, 196.99s/it]"
     ]
    },
    {
     "name": "stdout",
     "output_type": "stream",
     "text": [
      "\n",
      "Test set: Average loss: 2.3074, Accuracy: 1000/10000 (10%)\n",
      "\n",
      "Epoch 25:\n",
      "loss train: tensor(7.1489e+08, device='cuda:0', grad_fn=<DivBackward0>)\n",
      "acc train: 0.1\n",
      "loss test: 2.3074121376037597\n",
      "acc test: 0.1\n",
      "Train Epoch: 26 [0/50000 (0%)]\tLoss: 722565888.000000\n"
     ]
    },
    {
     "name": "stderr",
     "output_type": "stream",
     "text": [
      "  5%|▌         | 27/500 [1:31:08<25:52:46, 196.97s/it]"
     ]
    },
    {
     "name": "stdout",
     "output_type": "stream",
     "text": [
      "\n",
      "Test set: Average loss: 2.3074, Accuracy: 1000/10000 (10%)\n",
      "\n",
      "Epoch 26:\n",
      "loss train: tensor(7.4988e+08, device='cuda:0', grad_fn=<DivBackward0>)\n",
      "acc train: 0.1\n",
      "loss test: 2.307438077545166\n",
      "acc test: 0.1\n",
      "Train Epoch: 27 [0/50000 (0%)]\tLoss: 785968448.000000\n"
     ]
    },
    {
     "name": "stderr",
     "output_type": "stream",
     "text": [
      "  6%|▌         | 28/500 [1:34:25<25:49:29, 196.97s/it]"
     ]
    },
    {
     "name": "stdout",
     "output_type": "stream",
     "text": [
      "\n",
      "Test set: Average loss: 2.3075, Accuracy: 1000/10000 (10%)\n",
      "\n",
      "Epoch 27:\n",
      "loss train: tensor(8.2713e+08, device='cuda:0', grad_fn=<DivBackward0>)\n",
      "acc train: 0.1\n",
      "loss test: 2.3074781410217287\n",
      "acc test: 0.1\n",
      "Train Epoch: 28 [0/50000 (0%)]\tLoss: 846446016.000000\n"
     ]
    },
    {
     "name": "stderr",
     "output_type": "stream",
     "text": [
      "  6%|▌         | 29/500 [1:37:42<25:47:02, 197.07s/it]"
     ]
    },
    {
     "name": "stdout",
     "output_type": "stream",
     "text": [
      "\n",
      "Test set: Average loss: 2.3071, Accuracy: 1000/10000 (10%)\n",
      "\n",
      "Epoch 28:\n",
      "loss train: tensor(8.5060e+08, device='cuda:0', grad_fn=<DivBackward0>)\n",
      "acc train: 0.1\n",
      "loss test: 2.3071351551055908\n",
      "acc test: 0.1\n",
      "Train Epoch: 29 [0/50000 (0%)]\tLoss: 853245632.000000\n"
     ]
    },
    {
     "name": "stderr",
     "output_type": "stream",
     "text": [
      "  6%|▌         | 30/500 [1:40:59<25:44:02, 197.11s/it]"
     ]
    },
    {
     "name": "stdout",
     "output_type": "stream",
     "text": [
      "\n",
      "Test set: Average loss: 2.3081, Accuracy: 1000/10000 (10%)\n",
      "\n",
      "Epoch 29:\n",
      "loss train: tensor(8.8864e+08, device='cuda:0', grad_fn=<DivBackward0>)\n",
      "acc train: 0.1\n",
      "loss test: 2.3080696464538573\n",
      "acc test: 0.1\n",
      "Train Epoch: 30 [0/50000 (0%)]\tLoss: 920094528.000000\n"
     ]
    },
    {
     "name": "stderr",
     "output_type": "stream",
     "text": [
      "  6%|▌         | 31/500 [1:44:17<25:40:58, 197.14s/it]"
     ]
    },
    {
     "name": "stdout",
     "output_type": "stream",
     "text": [
      "\n",
      "Test set: Average loss: 2.3083, Accuracy: 1000/10000 (10%)\n",
      "\n",
      "Epoch 30:\n",
      "loss train: tensor(9.1106e+08, device='cuda:0', grad_fn=<DivBackward0>)\n",
      "acc train: 0.1\n",
      "loss test: 2.3082564548492432\n",
      "acc test: 0.1\n",
      "Train Epoch: 31 [0/50000 (0%)]\tLoss: 902694592.000000\n"
     ]
    },
    {
     "name": "stderr",
     "output_type": "stream",
     "text": [
      "  6%|▋         | 32/500 [1:47:34<25:37:48, 197.16s/it]"
     ]
    },
    {
     "name": "stdout",
     "output_type": "stream",
     "text": [
      "\n",
      "Test set: Average loss: 2.3086, Accuracy: 1000/10000 (10%)\n",
      "\n",
      "Epoch 31:\n",
      "loss train: tensor(9.1203e+08, device='cuda:0', grad_fn=<DivBackward0>)\n",
      "acc train: 0.1\n",
      "loss test: 2.30855945892334\n",
      "acc test: 0.1\n",
      "Train Epoch: 32 [0/50000 (0%)]\tLoss: 932247936.000000\n"
     ]
    },
    {
     "name": "stderr",
     "output_type": "stream",
     "text": [
      "  7%|▋         | 33/500 [1:50:51<25:34:42, 197.18s/it]"
     ]
    },
    {
     "name": "stdout",
     "output_type": "stream",
     "text": [
      "\n",
      "Test set: Average loss: 2.3081, Accuracy: 1000/10000 (10%)\n",
      "\n",
      "Epoch 32:\n",
      "loss train: tensor(9.1565e+08, device='cuda:0', grad_fn=<DivBackward0>)\n",
      "acc train: 0.1\n",
      "loss test: 2.3081333362579346\n",
      "acc test: 0.1\n",
      "Train Epoch: 33 [0/50000 (0%)]\tLoss: 893846784.000000\n"
     ]
    },
    {
     "name": "stderr",
     "output_type": "stream",
     "text": [
      "  7%|▋         | 34/500 [1:54:08<25:31:30, 197.19s/it]"
     ]
    },
    {
     "name": "stdout",
     "output_type": "stream",
     "text": [
      "\n",
      "Test set: Average loss: 2.3079, Accuracy: 1000/10000 (10%)\n",
      "\n",
      "Epoch 33:\n",
      "loss train: tensor(8.8696e+08, device='cuda:0', grad_fn=<DivBackward0>)\n",
      "acc train: 0.1\n",
      "loss test: 2.3079224979400634\n",
      "acc test: 0.1\n",
      "Train Epoch: 34 [0/50000 (0%)]\tLoss: 879224512.000000\n"
     ]
    },
    {
     "name": "stderr",
     "output_type": "stream",
     "text": [
      "  7%|▋         | 35/500 [1:57:26<25:28:20, 197.21s/it]"
     ]
    },
    {
     "name": "stdout",
     "output_type": "stream",
     "text": [
      "\n",
      "Test set: Average loss: 2.3074, Accuracy: 1000/10000 (10%)\n",
      "\n",
      "Epoch 34:\n",
      "loss train: tensor(8.6365e+08, device='cuda:0', grad_fn=<DivBackward0>)\n",
      "acc train: 0.1\n",
      "loss test: 2.307354923629761\n",
      "acc test: 0.1\n",
      "Train Epoch: 35 [0/50000 (0%)]\tLoss: 849924928.000000\n"
     ]
    },
    {
     "name": "stderr",
     "output_type": "stream",
     "text": [
      "  7%|▋         | 36/500 [2:00:43<25:25:01, 197.20s/it]"
     ]
    },
    {
     "name": "stdout",
     "output_type": "stream",
     "text": [
      "\n",
      "Test set: Average loss: 2.3074, Accuracy: 1000/10000 (10%)\n",
      "\n",
      "Epoch 35:\n",
      "loss train: tensor(8.5446e+08, device='cuda:0', grad_fn=<DivBackward0>)\n",
      "acc train: 0.1\n",
      "loss test: 2.3074471336364746\n",
      "acc test: 0.1\n",
      "Train Epoch: 36 [0/50000 (0%)]\tLoss: 860981760.000000\n"
     ]
    },
    {
     "name": "stderr",
     "output_type": "stream",
     "text": [
      "  7%|▋         | 37/500 [2:04:00<25:21:35, 197.18s/it]"
     ]
    },
    {
     "name": "stdout",
     "output_type": "stream",
     "text": [
      "\n",
      "Test set: Average loss: 2.3072, Accuracy: 1000/10000 (10%)\n",
      "\n",
      "Epoch 36:\n",
      "loss train: tensor(8.5751e+08, device='cuda:0', grad_fn=<DivBackward0>)\n",
      "acc train: 0.1\n",
      "loss test: 2.3071884071350097\n",
      "acc test: 0.1\n",
      "Train Epoch: 37 [0/50000 (0%)]\tLoss: 840680896.000000\n"
     ]
    },
    {
     "name": "stderr",
     "output_type": "stream",
     "text": [
      "  8%|▊         | 38/500 [2:07:17<25:18:19, 197.19s/it]"
     ]
    },
    {
     "name": "stdout",
     "output_type": "stream",
     "text": [
      "\n",
      "Test set: Average loss: 2.3072, Accuracy: 1000/10000 (10%)\n",
      "\n",
      "Epoch 37:\n",
      "loss train: tensor(8.3510e+08, device='cuda:0', grad_fn=<DivBackward0>)\n",
      "acc train: 0.1\n",
      "loss test: 2.307244973754883\n",
      "acc test: 0.1\n",
      "Train Epoch: 38 [0/50000 (0%)]\tLoss: 841969728.000000\n"
     ]
    },
    {
     "name": "stderr",
     "output_type": "stream",
     "text": [
      "  8%|▊         | 39/500 [2:10:34<25:14:43, 197.14s/it]"
     ]
    },
    {
     "name": "stdout",
     "output_type": "stream",
     "text": [
      "\n",
      "Test set: Average loss: 2.3072, Accuracy: 1000/10000 (10%)\n",
      "\n",
      "Epoch 38:\n",
      "loss train: tensor(8.4406e+08, device='cuda:0', grad_fn=<DivBackward0>)\n",
      "acc train: 0.1\n",
      "loss test: 2.307203610229492\n",
      "acc test: 0.1\n",
      "Train Epoch: 39 [0/50000 (0%)]\tLoss: 832305280.000000\n"
     ]
    },
    {
     "name": "stderr",
     "output_type": "stream",
     "text": [
      "  8%|▊         | 40/500 [2:13:51<25:11:33, 197.16s/it]"
     ]
    },
    {
     "name": "stdout",
     "output_type": "stream",
     "text": [
      "\n",
      "Test set: Average loss: 2.3085, Accuracy: 1000/10000 (10%)\n",
      "\n",
      "Epoch 39:\n",
      "loss train: tensor(8.1020e+08, device='cuda:0', grad_fn=<DivBackward0>)\n",
      "acc train: 0.1\n",
      "loss test: 2.308538828659058\n",
      "acc test: 0.1\n",
      "Train Epoch: 40 [0/50000 (0%)]\tLoss: 782760384.000000\n"
     ]
    },
    {
     "name": "stderr",
     "output_type": "stream",
     "text": [
      "  8%|▊         | 41/500 [2:17:08<25:08:16, 197.16s/it]"
     ]
    },
    {
     "name": "stdout",
     "output_type": "stream",
     "text": [
      "\n",
      "Test set: Average loss: 2.3082, Accuracy: 1000/10000 (10%)\n",
      "\n",
      "Epoch 40:\n",
      "loss train: tensor(7.6046e+08, device='cuda:0', grad_fn=<DivBackward0>)\n",
      "acc train: 0.1\n",
      "loss test: 2.308165172576904\n",
      "acc test: 0.1\n",
      "Train Epoch: 41 [0/50000 (0%)]\tLoss: 736166720.000000\n"
     ]
    },
    {
     "name": "stderr",
     "output_type": "stream",
     "text": [
      "  8%|▊         | 42/500 [2:20:26<25:04:57, 197.16s/it]"
     ]
    },
    {
     "name": "stdout",
     "output_type": "stream",
     "text": [
      "\n",
      "Test set: Average loss: 2.3078, Accuracy: 1000/10000 (10%)\n",
      "\n",
      "Epoch 41:\n",
      "loss train: tensor(7.2215e+08, device='cuda:0', grad_fn=<DivBackward0>)\n",
      "acc train: 0.1\n",
      "loss test: 2.3078041091918946\n",
      "acc test: 0.1\n",
      "Train Epoch: 42 [0/50000 (0%)]\tLoss: 708676032.000000\n"
     ]
    },
    {
     "name": "stderr",
     "output_type": "stream",
     "text": [
      "  9%|▊         | 43/500 [2:23:43<25:01:18, 197.11s/it]"
     ]
    },
    {
     "name": "stdout",
     "output_type": "stream",
     "text": [
      "\n",
      "Test set: Average loss: 2.3077, Accuracy: 1000/10000 (10%)\n",
      "\n",
      "Epoch 42:\n",
      "loss train: tensor(7.0380e+08, device='cuda:0', grad_fn=<DivBackward0>)\n",
      "acc train: 0.1\n",
      "loss test: 2.307704306793213\n",
      "acc test: 0.1\n",
      "Train Epoch: 43 [0/50000 (0%)]\tLoss: 696957760.000000\n"
     ]
    },
    {
     "name": "stderr",
     "output_type": "stream",
     "text": [
      "  9%|▉         | 44/500 [2:27:00<24:58:13, 197.13s/it]"
     ]
    },
    {
     "name": "stdout",
     "output_type": "stream",
     "text": [
      "\n",
      "Test set: Average loss: 2.3075, Accuracy: 1000/10000 (10%)\n",
      "\n",
      "Epoch 43:\n",
      "loss train: tensor(6.8304e+08, device='cuda:0', grad_fn=<DivBackward0>)\n",
      "acc train: 0.1\n",
      "loss test: 2.3075076122283935\n",
      "acc test: 0.1\n",
      "Train Epoch: 44 [0/50000 (0%)]\tLoss: 671487360.000000\n"
     ]
    },
    {
     "name": "stderr",
     "output_type": "stream",
     "text": [
      "  9%|▉         | 45/500 [2:30:17<24:54:20, 197.06s/it]"
     ]
    },
    {
     "name": "stdout",
     "output_type": "stream",
     "text": [
      "\n",
      "Test set: Average loss: 2.3075, Accuracy: 1000/10000 (10%)\n",
      "\n",
      "Epoch 44:\n",
      "loss train: tensor(6.6187e+08, device='cuda:0', grad_fn=<DivBackward0>)\n",
      "acc train: 0.1\n",
      "loss test: 2.3074867355346678\n",
      "acc test: 0.1\n",
      "Train Epoch: 45 [0/50000 (0%)]\tLoss: 652176960.000000\n"
     ]
    },
    {
     "name": "stderr",
     "output_type": "stream",
     "text": [
      "  9%|▉         | 46/500 [2:33:34<24:50:58, 197.05s/it]"
     ]
    },
    {
     "name": "stdout",
     "output_type": "stream",
     "text": [
      "\n",
      "Test set: Average loss: 2.3072, Accuracy: 1000/10000 (10%)\n",
      "\n",
      "Epoch 45:\n",
      "loss train: tensor(6.3573e+08, device='cuda:0', grad_fn=<DivBackward0>)\n",
      "acc train: 0.1\n",
      "loss test: 2.307174202346802\n",
      "acc test: 0.1\n",
      "Train Epoch: 46 [0/50000 (0%)]\tLoss: 622843328.000000\n"
     ]
    },
    {
     "name": "stderr",
     "output_type": "stream",
     "text": [
      "  9%|▉         | 47/500 [2:36:50<24:47:07, 196.97s/it]"
     ]
    },
    {
     "name": "stdout",
     "output_type": "stream",
     "text": [
      "\n",
      "Test set: Average loss: 2.3071, Accuracy: 1000/10000 (10%)\n",
      "\n",
      "Epoch 46:\n",
      "loss train: tensor(6.1449e+08, device='cuda:0', grad_fn=<DivBackward0>)\n",
      "acc train: 0.1\n",
      "loss test: 2.3071210353851317\n",
      "acc test: 0.1\n",
      "Train Epoch: 47 [0/50000 (0%)]\tLoss: 603793856.000000\n"
     ]
    },
    {
     "name": "stderr",
     "output_type": "stream",
     "text": [
      " 10%|▉         | 48/500 [2:40:08<24:43:57, 196.99s/it]"
     ]
    },
    {
     "name": "stdout",
     "output_type": "stream",
     "text": [
      "\n",
      "Test set: Average loss: 2.3071, Accuracy: 1000/10000 (10%)\n",
      "\n",
      "Epoch 47:\n",
      "loss train: tensor(5.9333e+08, device='cuda:0', grad_fn=<DivBackward0>)\n",
      "acc train: 0.1\n",
      "loss test: 2.3070627941131594\n",
      "acc test: 0.1\n",
      "Train Epoch: 48 [0/50000 (0%)]\tLoss: 583396480.000000\n"
     ]
    },
    {
     "name": "stderr",
     "output_type": "stream",
     "text": [
      " 10%|▉         | 49/500 [2:43:24<24:40:16, 196.93s/it]"
     ]
    },
    {
     "name": "stdout",
     "output_type": "stream",
     "text": [
      "\n",
      "Test set: Average loss: 2.3069, Accuracy: 1000/10000 (10%)\n",
      "\n",
      "Epoch 48:\n",
      "loss train: tensor(5.6970e+08, device='cuda:0', grad_fn=<DivBackward0>)\n",
      "acc train: 0.1\n",
      "loss test: 2.306898833847046\n",
      "acc test: 0.1\n",
      "Train Epoch: 49 [0/50000 (0%)]\tLoss: 554366080.000000\n",
      "\n",
      "Test set: Average loss: 2.3068, Accuracy: 1000/10000 (10%)\n",
      "\n",
      "Epoch 49:\n",
      "loss train: tensor(5.4044e+08, device='cuda:0', grad_fn=<DivBackward0>)\n",
      "acc train: 0.1\n",
      "loss test: 2.3068202297210694\n",
      "acc test: 0.1\n"
     ]
    },
    {
     "name": "stderr",
     "output_type": "stream",
     "text": [
      " 10%|█         | 50/500 [2:47:00<25:19:57, 202.66s/it]"
     ]
    },
    {
     "name": "stdout",
     "output_type": "stream",
     "text": [
      "PGD attack Acc 10.000\n",
      "pgd_acc test: 0.1\n",
      "Train Epoch: 50 [0/50000 (0%)]\tLoss: 527882688.000000\n"
     ]
    },
    {
     "name": "stderr",
     "output_type": "stream",
     "text": [
      " 10%|█         | 51/500 [2:50:17<25:03:47, 200.95s/it]"
     ]
    },
    {
     "name": "stdout",
     "output_type": "stream",
     "text": [
      "\n",
      "Test set: Average loss: 2.3067, Accuracy: 1000/10000 (10%)\n",
      "\n",
      "Epoch 50:\n",
      "loss train: tensor(5.1679e+08, device='cuda:0', grad_fn=<DivBackward0>)\n",
      "acc train: 0.1\n",
      "loss test: 2.30670509185791\n",
      "acc test: 0.1\n",
      "Train Epoch: 51 [0/50000 (0%)]\tLoss: 505347904.000000\n"
     ]
    },
    {
     "name": "stderr",
     "output_type": "stream",
     "text": [
      " 10%|█         | 52/500 [2:53:34<24:51:27, 199.75s/it]"
     ]
    },
    {
     "name": "stdout",
     "output_type": "stream",
     "text": [
      "\n",
      "Test set: Average loss: 2.3066, Accuracy: 1000/10000 (10%)\n",
      "\n",
      "Epoch 51:\n",
      "loss train: tensor(4.9310e+08, device='cuda:0', grad_fn=<DivBackward0>)\n",
      "acc train: 0.1\n",
      "loss test: 2.3066162506103516\n",
      "acc test: 0.1\n",
      "Train Epoch: 52 [0/50000 (0%)]\tLoss: 480865376.000000\n"
     ]
    },
    {
     "name": "stderr",
     "output_type": "stream",
     "text": [
      " 11%|█         | 53/500 [2:56:51<24:42:12, 198.95s/it]"
     ]
    },
    {
     "name": "stdout",
     "output_type": "stream",
     "text": [
      "\n",
      "Test set: Average loss: 2.3065, Accuracy: 1000/10000 (10%)\n",
      "\n",
      "Epoch 52:\n",
      "loss train: tensor(4.6803e+08, device='cuda:0', grad_fn=<DivBackward0>)\n",
      "acc train: 0.1\n",
      "loss test: 2.306523414230347\n",
      "acc test: 0.1\n",
      "Train Epoch: 53 [0/50000 (0%)]\tLoss: 454778656.000000\n"
     ]
    },
    {
     "name": "stderr",
     "output_type": "stream",
     "text": [
      " 11%|█         | 54/500 [3:00:08<24:34:11, 198.32s/it]"
     ]
    },
    {
     "name": "stdout",
     "output_type": "stream",
     "text": [
      "\n",
      "Test set: Average loss: 2.3064, Accuracy: 1000/10000 (10%)\n",
      "\n",
      "Epoch 53:\n",
      "loss train: tensor(4.4069e+08, device='cuda:0', grad_fn=<DivBackward0>)\n",
      "acc train: 0.1\n",
      "loss test: 2.3063852760314942\n",
      "acc test: 0.1\n",
      "Train Epoch: 54 [0/50000 (0%)]\tLoss: 423666272.000000\n"
     ]
    },
    {
     "name": "stderr",
     "output_type": "stream",
     "text": [
      " 11%|█         | 55/500 [3:03:25<24:27:18, 197.84s/it]"
     ]
    },
    {
     "name": "stdout",
     "output_type": "stream",
     "text": [
      "\n",
      "Test set: Average loss: 2.3062, Accuracy: 1000/10000 (10%)\n",
      "\n",
      "Epoch 54:\n",
      "loss train: tensor(4.0655e+08, device='cuda:0', grad_fn=<DivBackward0>)\n",
      "acc train: 0.1\n",
      "loss test: 2.3062379829406736\n",
      "acc test: 0.1\n",
      "Train Epoch: 55 [0/50000 (0%)]\tLoss: 391570368.000000\n"
     ]
    },
    {
     "name": "stderr",
     "output_type": "stream",
     "text": [
      " 11%|█         | 56/500 [3:06:42<24:21:55, 197.56s/it]"
     ]
    },
    {
     "name": "stdout",
     "output_type": "stream",
     "text": [
      "\n",
      "Test set: Average loss: 2.3062, Accuracy: 1000/10000 (10%)\n",
      "\n",
      "Epoch 55:\n",
      "loss train: tensor(3.7817e+08, device='cuda:0', grad_fn=<DivBackward0>)\n",
      "acc train: 0.1\n",
      "loss test: 2.3062142837524413\n",
      "acc test: 0.1\n",
      "Train Epoch: 56 [0/50000 (0%)]\tLoss: 365518720.000000\n"
     ]
    },
    {
     "name": "stderr",
     "output_type": "stream",
     "text": [
      " 11%|█▏        | 57/500 [3:09:59<24:17:10, 197.36s/it]"
     ]
    },
    {
     "name": "stdout",
     "output_type": "stream",
     "text": [
      "\n",
      "Test set: Average loss: 2.3061, Accuracy: 1000/10000 (10%)\n",
      "\n",
      "Epoch 56:\n",
      "loss train: tensor(3.5259e+08, device='cuda:0', grad_fn=<DivBackward0>)\n",
      "acc train: 0.1\n",
      "loss test: 2.3061017696380617\n",
      "acc test: 0.1\n",
      "Train Epoch: 57 [0/50000 (0%)]\tLoss: 340428736.000000\n"
     ]
    },
    {
     "name": "stderr",
     "output_type": "stream",
     "text": [
      " 12%|█▏        | 58/500 [3:13:16<24:12:42, 197.20s/it]"
     ]
    },
    {
     "name": "stdout",
     "output_type": "stream",
     "text": [
      "\n",
      "Test set: Average loss: 2.3062, Accuracy: 1000/10000 (10%)\n",
      "\n",
      "Epoch 57:\n",
      "loss train: tensor(3.2868e+08, device='cuda:0', grad_fn=<DivBackward0>)\n",
      "acc train: 0.1\n",
      "loss test: 2.3062342491149903\n",
      "acc test: 0.1\n",
      "Train Epoch: 58 [0/50000 (0%)]\tLoss: 316835296.000000\n"
     ]
    },
    {
     "name": "stderr",
     "output_type": "stream",
     "text": [
      " 12%|█▏        | 59/500 [3:16:32<24:08:20, 197.05s/it]"
     ]
    },
    {
     "name": "stdout",
     "output_type": "stream",
     "text": [
      "\n",
      "Test set: Average loss: 2.3061, Accuracy: 1000/10000 (10%)\n",
      "\n",
      "Epoch 58:\n",
      "loss train: tensor(3.0598e+08, device='cuda:0', grad_fn=<DivBackward0>)\n",
      "acc train: 0.1\n",
      "loss test: 2.3061208393096924\n",
      "acc test: 0.1\n",
      "Train Epoch: 59 [0/50000 (0%)]\tLoss: 294737184.000000\n"
     ]
    },
    {
     "name": "stderr",
     "output_type": "stream",
     "text": [
      " 12%|█▏        | 60/500 [3:19:49<24:04:27, 196.97s/it]"
     ]
    },
    {
     "name": "stdout",
     "output_type": "stream",
     "text": [
      "\n",
      "Test set: Average loss: 2.3065, Accuracy: 1000/10000 (10%)\n",
      "\n",
      "Epoch 59:\n",
      "loss train: tensor(2.8281e+08, device='cuda:0', grad_fn=<DivBackward0>)\n",
      "acc train: 0.1\n",
      "loss test: 2.30647396774292\n",
      "acc test: 0.1\n",
      "Train Epoch: 60 [0/50000 (0%)]\tLoss: 271104416.000000\n"
     ]
    },
    {
     "name": "stderr",
     "output_type": "stream",
     "text": [
      " 12%|█▏        | 61/500 [3:23:06<24:01:10, 196.97s/it]"
     ]
    },
    {
     "name": "stdout",
     "output_type": "stream",
     "text": [
      "\n",
      "Test set: Average loss: 2.3062, Accuracy: 1000/10000 (10%)\n",
      "\n",
      "Epoch 60:\n",
      "loss train: tensor(2.6082e+08, device='cuda:0', grad_fn=<DivBackward0>)\n",
      "acc train: 0.1\n",
      "loss test: 2.3062417682647705\n",
      "acc test: 0.1\n",
      "Train Epoch: 61 [0/50000 (0%)]\tLoss: 250139568.000000\n"
     ]
    },
    {
     "name": "stderr",
     "output_type": "stream",
     "text": [
      " 12%|█▏        | 62/500 [3:26:23<23:57:43, 196.95s/it]"
     ]
    },
    {
     "name": "stdout",
     "output_type": "stream",
     "text": [
      "\n",
      "Test set: Average loss: 2.3061, Accuracy: 1000/10000 (10%)\n",
      "\n",
      "Epoch 61:\n",
      "loss train: tensor(2.4060e+08, device='cuda:0', grad_fn=<DivBackward0>)\n",
      "acc train: 0.1\n",
      "loss test: 2.306089999771118\n",
      "acc test: 0.1\n",
      "Train Epoch: 62 [0/50000 (0%)]\tLoss: 231543056.000000\n"
     ]
    },
    {
     "name": "stderr",
     "output_type": "stream",
     "text": [
      " 13%|█▎        | 63/500 [3:29:40<23:53:54, 196.88s/it]"
     ]
    },
    {
     "name": "stdout",
     "output_type": "stream",
     "text": [
      "\n",
      "Test set: Average loss: 2.3060, Accuracy: 1000/10000 (10%)\n",
      "\n",
      "Epoch 62:\n",
      "loss train: tensor(2.2221e+08, device='cuda:0', grad_fn=<DivBackward0>)\n",
      "acc train: 0.1\n",
      "loss test: 2.3059966590881347\n",
      "acc test: 0.1\n",
      "Train Epoch: 63 [0/50000 (0%)]\tLoss: 212804768.000000\n"
     ]
    },
    {
     "name": "stderr",
     "output_type": "stream",
     "text": [
      " 13%|█▎        | 64/500 [3:32:57<23:51:15, 196.96s/it]"
     ]
    },
    {
     "name": "stdout",
     "output_type": "stream",
     "text": [
      "\n",
      "Test set: Average loss: 2.3059, Accuracy: 1000/10000 (10%)\n",
      "\n",
      "Epoch 63:\n",
      "loss train: tensor(2.0420e+08, device='cuda:0', grad_fn=<DivBackward0>)\n",
      "acc train: 0.1\n",
      "loss test: 2.3058943923950195\n",
      "acc test: 0.1\n",
      "Train Epoch: 64 [0/50000 (0%)]\tLoss: 195689552.000000\n"
     ]
    },
    {
     "name": "stderr",
     "output_type": "stream",
     "text": [
      " 13%|█▎        | 65/500 [3:36:14<23:48:30, 197.03s/it]"
     ]
    },
    {
     "name": "stdout",
     "output_type": "stream",
     "text": [
      "\n",
      "Test set: Average loss: 2.3058, Accuracy: 1000/10000 (10%)\n",
      "\n",
      "Epoch 64:\n",
      "loss train: tensor(1.8783e+08, device='cuda:0', grad_fn=<DivBackward0>)\n",
      "acc train: 0.1\n",
      "loss test: 2.305820317077637\n",
      "acc test: 0.1\n",
      "Train Epoch: 65 [0/50000 (0%)]\tLoss: 179863152.000000\n"
     ]
    },
    {
     "name": "stderr",
     "output_type": "stream",
     "text": [
      " 13%|█▎        | 66/500 [3:39:31<23:45:06, 197.02s/it]"
     ]
    },
    {
     "name": "stdout",
     "output_type": "stream",
     "text": [
      "\n",
      "Test set: Average loss: 2.3057, Accuracy: 1000/10000 (10%)\n",
      "\n",
      "Epoch 65:\n",
      "loss train: tensor(1.7188e+08, device='cuda:0', grad_fn=<DivBackward0>)\n",
      "acc train: 0.1\n",
      "loss test: 2.305699349594116\n",
      "acc test: 0.1\n",
      "Train Epoch: 66 [0/50000 (0%)]\tLoss: 163997184.000000\n"
     ]
    },
    {
     "name": "stderr",
     "output_type": "stream",
     "text": [
      " 13%|█▎        | 67/500 [3:42:48<23:42:17, 197.09s/it]"
     ]
    },
    {
     "name": "stdout",
     "output_type": "stream",
     "text": [
      "\n",
      "Test set: Average loss: 2.3056, Accuracy: 1000/10000 (10%)\n",
      "\n",
      "Epoch 66:\n",
      "loss train: tensor(1.5652e+08, device='cuda:0', grad_fn=<DivBackward0>)\n",
      "acc train: 0.1\n",
      "loss test: 2.3055864917755127\n",
      "acc test: 0.1\n",
      "Train Epoch: 67 [0/50000 (0%)]\tLoss: 149291264.000000\n"
     ]
    },
    {
     "name": "stderr",
     "output_type": "stream",
     "text": [
      " 14%|█▎        | 68/500 [3:46:05<23:39:13, 197.11s/it]"
     ]
    },
    {
     "name": "stdout",
     "output_type": "stream",
     "text": [
      "\n",
      "Test set: Average loss: 2.3055, Accuracy: 1000/10000 (10%)\n",
      "\n",
      "Epoch 67:\n",
      "loss train: tensor(1.4278e+08, device='cuda:0', grad_fn=<DivBackward0>)\n",
      "acc train: 0.1\n",
      "loss test: 2.3054725372314455\n",
      "acc test: 0.1\n",
      "Train Epoch: 68 [0/50000 (0%)]\tLoss: 136094032.000000\n"
     ]
    },
    {
     "name": "stderr",
     "output_type": "stream",
     "text": [
      " 14%|█▍        | 69/500 [3:49:22<23:35:41, 197.08s/it]"
     ]
    },
    {
     "name": "stdout",
     "output_type": "stream",
     "text": [
      "\n",
      "Test set: Average loss: 2.3054, Accuracy: 1000/10000 (10%)\n",
      "\n",
      "Epoch 68:\n",
      "loss train: tensor(1.2996e+08, device='cuda:0', grad_fn=<DivBackward0>)\n",
      "acc train: 0.1\n",
      "loss test: 2.3054421630859374\n",
      "acc test: 0.1\n",
      "Train Epoch: 69 [0/50000 (0%)]\tLoss: 123737224.000000\n"
     ]
    },
    {
     "name": "stderr",
     "output_type": "stream",
     "text": [
      " 14%|█▍        | 70/500 [3:52:39<23:32:22, 197.08s/it]"
     ]
    },
    {
     "name": "stdout",
     "output_type": "stream",
     "text": [
      "\n",
      "Test set: Average loss: 2.3054, Accuracy: 1000/10000 (10%)\n",
      "\n",
      "Epoch 69:\n",
      "loss train: tensor(1.1817e+08, device='cuda:0', grad_fn=<DivBackward0>)\n",
      "acc train: 0.1\n",
      "loss test: 2.3053701217651366\n",
      "acc test: 0.1\n",
      "Train Epoch: 70 [0/50000 (0%)]\tLoss: 112634200.000000\n"
     ]
    },
    {
     "name": "stderr",
     "output_type": "stream",
     "text": [
      " 14%|█▍        | 71/500 [3:55:57<23:29:07, 197.08s/it]"
     ]
    },
    {
     "name": "stdout",
     "output_type": "stream",
     "text": [
      "\n",
      "Test set: Average loss: 2.3053, Accuracy: 1000/10000 (10%)\n",
      "\n",
      "Epoch 70:\n",
      "loss train: tensor(1.0787e+08, device='cuda:0', grad_fn=<DivBackward0>)\n",
      "acc train: 0.1\n",
      "loss test: 2.305340427017212\n",
      "acc test: 0.1\n",
      "Train Epoch: 71 [0/50000 (0%)]\tLoss: 102910752.000000\n"
     ]
    },
    {
     "name": "stderr",
     "output_type": "stream",
     "text": [
      " 14%|█▍        | 72/500 [3:59:14<23:25:54, 197.09s/it]"
     ]
    },
    {
     "name": "stdout",
     "output_type": "stream",
     "text": [
      "\n",
      "Test set: Average loss: 2.3054, Accuracy: 1000/10000 (10%)\n",
      "\n",
      "Epoch 71:\n",
      "loss train: tensor(98318848., device='cuda:0', grad_fn=<DivBackward0>)\n",
      "acc train: 0.1\n",
      "loss test: 2.3053582511901856\n",
      "acc test: 0.1\n",
      "Train Epoch: 72 [0/50000 (0%)]\tLoss: 94024120.000000\n"
     ]
    },
    {
     "name": "stderr",
     "output_type": "stream",
     "text": [
      " 15%|█▍        | 73/500 [4:02:31<23:22:47, 197.11s/it]"
     ]
    },
    {
     "name": "stdout",
     "output_type": "stream",
     "text": [
      "\n",
      "Test set: Average loss: 2.3052, Accuracy: 1000/10000 (10%)\n",
      "\n",
      "Epoch 72:\n",
      "loss train: tensor(89508368., device='cuda:0', grad_fn=<DivBackward0>)\n",
      "acc train: 0.1\n",
      "loss test: 2.3051776111602784\n",
      "acc test: 0.1\n",
      "Train Epoch: 73 [0/50000 (0%)]\tLoss: 85421840.000000\n"
     ]
    },
    {
     "name": "stderr",
     "output_type": "stream",
     "text": [
      " 15%|█▍        | 74/500 [4:05:48<23:19:23, 197.10s/it]"
     ]
    },
    {
     "name": "stdout",
     "output_type": "stream",
     "text": [
      "\n",
      "Test set: Average loss: 2.3051, Accuracy: 1000/10000 (10%)\n",
      "\n",
      "Epoch 73:\n",
      "loss train: tensor(81571032., device='cuda:0', grad_fn=<DivBackward0>)\n",
      "acc train: 0.1\n",
      "loss test: 2.305123675918579\n",
      "acc test: 0.1\n",
      "Train Epoch: 74 [0/50000 (0%)]\tLoss: 77665024.000000\n"
     ]
    },
    {
     "name": "stderr",
     "output_type": "stream",
     "text": [
      " 15%|█▌        | 75/500 [4:09:05<23:16:24, 197.14s/it]"
     ]
    },
    {
     "name": "stdout",
     "output_type": "stream",
     "text": [
      "\n",
      "Test set: Average loss: 2.3051, Accuracy: 1000/10000 (10%)\n",
      "\n",
      "Epoch 74:\n",
      "loss train: tensor(74214672., device='cuda:0', grad_fn=<DivBackward0>)\n",
      "acc train: 0.1\n",
      "loss test: 2.3050812084198\n",
      "acc test: 0.1\n",
      "Train Epoch: 75 [0/50000 (0%)]\tLoss: 70698976.000000\n"
     ]
    },
    {
     "name": "stderr",
     "output_type": "stream",
     "text": [
      " 15%|█▌        | 76/500 [4:12:22<23:13:02, 197.13s/it]"
     ]
    },
    {
     "name": "stdout",
     "output_type": "stream",
     "text": [
      "\n",
      "Test set: Average loss: 2.3050, Accuracy: 1000/10000 (10%)\n",
      "\n",
      "Epoch 75:\n",
      "loss train: tensor(67450120., device='cuda:0', grad_fn=<DivBackward0>)\n",
      "acc train: 0.1\n",
      "loss test: 2.3050456939697264\n",
      "acc test: 0.1\n",
      "Train Epoch: 76 [0/50000 (0%)]\tLoss: 64195500.000000\n"
     ]
    },
    {
     "name": "stderr",
     "output_type": "stream",
     "text": [
      " 15%|█▌        | 77/500 [4:15:39<23:09:46, 197.13s/it]"
     ]
    },
    {
     "name": "stdout",
     "output_type": "stream",
     "text": [
      "\n",
      "Test set: Average loss: 2.3050, Accuracy: 1000/10000 (10%)\n",
      "\n",
      "Epoch 76:\n",
      "loss train: tensor(61269024., device='cuda:0', grad_fn=<DivBackward0>)\n",
      "acc train: 0.1\n",
      "loss test: 2.304971594619751\n",
      "acc test: 0.1\n",
      "Train Epoch: 77 [0/50000 (0%)]\tLoss: 58339360.000000\n"
     ]
    },
    {
     "name": "stderr",
     "output_type": "stream",
     "text": [
      " 16%|█▌        | 78/500 [4:18:57<23:06:43, 197.17s/it]"
     ]
    },
    {
     "name": "stdout",
     "output_type": "stream",
     "text": [
      "\n",
      "Test set: Average loss: 2.3049, Accuracy: 1000/10000 (10%)\n",
      "\n",
      "Epoch 77:\n",
      "loss train: tensor(55658272., device='cuda:0', grad_fn=<DivBackward0>)\n",
      "acc train: 0.1\n",
      "loss test: 2.304912623977661\n",
      "acc test: 0.1\n",
      "Train Epoch: 78 [0/50000 (0%)]\tLoss: 52937192.000000\n"
     ]
    },
    {
     "name": "stderr",
     "output_type": "stream",
     "text": [
      " 16%|█▌        | 79/500 [4:22:14<23:03:14, 197.14s/it]"
     ]
    },
    {
     "name": "stdout",
     "output_type": "stream",
     "text": [
      "\n",
      "Test set: Average loss: 2.3049, Accuracy: 1000/10000 (10%)\n",
      "\n",
      "Epoch 78:\n",
      "loss train: tensor(50494624., device='cuda:0', grad_fn=<DivBackward0>)\n",
      "acc train: 0.1\n",
      "loss test: 2.304861008453369\n",
      "acc test: 0.1\n",
      "Train Epoch: 79 [0/50000 (0%)]\tLoss: 48036812.000000\n"
     ]
    },
    {
     "name": "stderr",
     "output_type": "stream",
     "text": [
      " 16%|█▌        | 80/500 [4:25:31<22:59:50, 197.12s/it]"
     ]
    },
    {
     "name": "stdout",
     "output_type": "stream",
     "text": [
      "\n",
      "Test set: Average loss: 2.3048, Accuracy: 1000/10000 (10%)\n",
      "\n",
      "Epoch 79:\n",
      "loss train: tensor(45711004., device='cuda:0', grad_fn=<DivBackward0>)\n",
      "acc train: 0.1\n",
      "loss test: 2.3048390197753905\n",
      "acc test: 0.1\n",
      "Train Epoch: 80 [0/50000 (0%)]\tLoss: 43436464.000000\n"
     ]
    },
    {
     "name": "stderr",
     "output_type": "stream",
     "text": [
      " 16%|█▌        | 81/500 [4:28:48<22:56:14, 197.07s/it]"
     ]
    },
    {
     "name": "stdout",
     "output_type": "stream",
     "text": [
      "\n",
      "Test set: Average loss: 2.3048, Accuracy: 1000/10000 (10%)\n",
      "\n",
      "Epoch 80:\n",
      "loss train: tensor(41338164., device='cuda:0', grad_fn=<DivBackward0>)\n",
      "acc train: 0.1\n",
      "loss test: 2.304757204437256\n",
      "acc test: 0.1\n",
      "Train Epoch: 81 [0/50000 (0%)]\tLoss: 39311120.000000\n"
     ]
    },
    {
     "name": "stderr",
     "output_type": "stream",
     "text": [
      " 16%|█▋        | 82/500 [4:32:05<22:53:00, 197.08s/it]"
     ]
    },
    {
     "name": "stdout",
     "output_type": "stream",
     "text": [
      "\n",
      "Test set: Average loss: 2.3050, Accuracy: 1000/10000 (10%)\n",
      "\n",
      "Epoch 81:\n",
      "loss train: tensor(37463304., device='cuda:0', grad_fn=<DivBackward0>)\n",
      "acc train: 0.1\n",
      "loss test: 2.3049625717163087\n",
      "acc test: 0.1\n",
      "Train Epoch: 82 [0/50000 (0%)]\tLoss: 35628192.000000\n"
     ]
    },
    {
     "name": "stderr",
     "output_type": "stream",
     "text": [
      " 17%|█▋        | 83/500 [4:35:22<22:49:45, 197.09s/it]"
     ]
    },
    {
     "name": "stdout",
     "output_type": "stream",
     "text": [
      "\n",
      "Test set: Average loss: 2.3061, Accuracy: 1000/10000 (10%)\n",
      "\n",
      "Epoch 82:\n",
      "loss train: tensor(33918372., device='cuda:0', grad_fn=<DivBackward0>)\n",
      "acc train: 0.1\n",
      "loss test: 2.306136897277832\n",
      "acc test: 0.1\n",
      "Train Epoch: 83 [0/50000 (0%)]\tLoss: 32299474.000000\n"
     ]
    },
    {
     "name": "stderr",
     "output_type": "stream",
     "text": [
      " 17%|█▋        | 84/500 [4:38:39<22:47:20, 197.21s/it]"
     ]
    },
    {
     "name": "stdout",
     "output_type": "stream",
     "text": [
      "\n",
      "Test set: Average loss: 2.3097, Accuracy: 1000/10000 (10%)\n",
      "\n",
      "Epoch 83:\n",
      "loss train: tensor(30659636., device='cuda:0', grad_fn=<DivBackward0>)\n",
      "acc train: 0.1\n",
      "loss test: 2.3097375659942627\n",
      "acc test: 0.1\n",
      "Train Epoch: 84 [0/50000 (0%)]\tLoss: 29155756.000000\n"
     ]
    },
    {
     "name": "stderr",
     "output_type": "stream",
     "text": [
      " 17%|█▋        | 85/500 [4:41:56<22:43:13, 197.09s/it]"
     ]
    },
    {
     "name": "stdout",
     "output_type": "stream",
     "text": [
      "\n",
      "Test set: Average loss: 2.3149, Accuracy: 1000/10000 (10%)\n",
      "\n",
      "Epoch 84:\n",
      "loss train: tensor(27704142., device='cuda:0', grad_fn=<DivBackward0>)\n",
      "acc train: 0.1\n",
      "loss test: 2.3149189041137697\n",
      "acc test: 0.1\n",
      "Train Epoch: 85 [0/50000 (0%)]\tLoss: 26324956.000000\n"
     ]
    },
    {
     "name": "stderr",
     "output_type": "stream",
     "text": [
      " 17%|█▋        | 86/500 [4:45:13<22:39:26, 197.02s/it]"
     ]
    },
    {
     "name": "stdout",
     "output_type": "stream",
     "text": [
      "\n",
      "Test set: Average loss: 2.3132, Accuracy: 1000/10000 (10%)\n",
      "\n",
      "Epoch 85:\n",
      "loss train: tensor(24948672., device='cuda:0', grad_fn=<DivBackward0>)\n",
      "acc train: 0.1\n",
      "loss test: 2.3131888771057127\n",
      "acc test: 0.1\n",
      "Train Epoch: 86 [0/50000 (0%)]\tLoss: 23709370.000000\n"
     ]
    },
    {
     "name": "stderr",
     "output_type": "stream",
     "text": [
      " 17%|█▋        | 87/500 [4:48:30<22:35:45, 196.96s/it]"
     ]
    },
    {
     "name": "stdout",
     "output_type": "stream",
     "text": [
      "\n",
      "Test set: Average loss: 2.3121, Accuracy: 1000/10000 (10%)\n",
      "\n",
      "Epoch 86:\n",
      "loss train: tensor(22578262., device='cuda:0', grad_fn=<DivBackward0>)\n",
      "acc train: 0.1\n",
      "loss test: 2.3120636932373047\n",
      "acc test: 0.1\n",
      "Train Epoch: 87 [0/50000 (0%)]\tLoss: 21433854.000000\n"
     ]
    },
    {
     "name": "stderr",
     "output_type": "stream",
     "text": [
      " 18%|█▊        | 88/500 [4:51:47<22:32:05, 196.91s/it]"
     ]
    },
    {
     "name": "stdout",
     "output_type": "stream",
     "text": [
      "\n",
      "Test set: Average loss: 2.3110, Accuracy: 1000/10000 (10%)\n",
      "\n",
      "Epoch 87:\n",
      "loss train: tensor(20349334., device='cuda:0', grad_fn=<DivBackward0>)\n",
      "acc train: 0.1\n",
      "loss test: 2.3109771194458006\n",
      "acc test: 0.1\n",
      "Train Epoch: 88 [0/50000 (0%)]\tLoss: 19303714.000000\n"
     ]
    },
    {
     "name": "stderr",
     "output_type": "stream",
     "text": [
      " 18%|█▊        | 89/500 [4:55:03<22:28:28, 196.86s/it]"
     ]
    },
    {
     "name": "stdout",
     "output_type": "stream",
     "text": [
      "\n",
      "Test set: Average loss: 2.3100, Accuracy: 1000/10000 (10%)\n",
      "\n",
      "Epoch 88:\n",
      "loss train: tensor(18324680., device='cuda:0', grad_fn=<DivBackward0>)\n",
      "acc train: 0.1\n",
      "loss test: 2.309964344406128\n",
      "acc test: 0.1\n",
      "Train Epoch: 89 [0/50000 (0%)]\tLoss: 17373274.000000\n"
     ]
    },
    {
     "name": "stderr",
     "output_type": "stream",
     "text": [
      " 18%|█▊        | 90/500 [4:58:20<22:25:20, 196.88s/it]"
     ]
    },
    {
     "name": "stdout",
     "output_type": "stream",
     "text": [
      "\n",
      "Test set: Average loss: 2.3092, Accuracy: 1000/10000 (10%)\n",
      "\n",
      "Epoch 89:\n",
      "loss train: tensor(16497367., device='cuda:0', grad_fn=<DivBackward0>)\n",
      "acc train: 0.1\n",
      "loss test: 2.3091977546691895\n",
      "acc test: 0.1\n",
      "Train Epoch: 90 [0/50000 (0%)]\tLoss: 15647300.000000\n"
     ]
    },
    {
     "name": "stderr",
     "output_type": "stream",
     "text": [
      " 18%|█▊        | 91/500 [5:01:37<22:21:55, 196.86s/it]"
     ]
    },
    {
     "name": "stdout",
     "output_type": "stream",
     "text": [
      "\n",
      "Test set: Average loss: 2.3085, Accuracy: 1000/10000 (10%)\n",
      "\n",
      "Epoch 90:\n",
      "loss train: tensor(14866061., device='cuda:0', grad_fn=<DivBackward0>)\n",
      "acc train: 0.1\n",
      "loss test: 2.3085132316589356\n",
      "acc test: 0.1\n",
      "Train Epoch: 91 [0/50000 (0%)]\tLoss: 14080037.000000\n"
     ]
    },
    {
     "name": "stderr",
     "output_type": "stream",
     "text": [
      " 18%|█▊        | 92/500 [5:04:54<22:18:15, 196.80s/it]"
     ]
    },
    {
     "name": "stdout",
     "output_type": "stream",
     "text": [
      "\n",
      "Test set: Average loss: 2.3080, Accuracy: 1000/10000 (10%)\n",
      "\n",
      "Epoch 91:\n",
      "loss train: tensor(13375940., device='cuda:0', grad_fn=<DivBackward0>)\n",
      "acc train: 0.1\n",
      "loss test: 2.307978247833252\n",
      "acc test: 0.1\n",
      "Train Epoch: 92 [0/50000 (0%)]\tLoss: 12663664.000000\n"
     ]
    },
    {
     "name": "stderr",
     "output_type": "stream",
     "text": [
      " 19%|█▊        | 93/500 [5:08:11<22:14:49, 196.78s/it]"
     ]
    },
    {
     "name": "stdout",
     "output_type": "stream",
     "text": [
      "\n",
      "Test set: Average loss: 2.3075, Accuracy: 1000/10000 (10%)\n",
      "\n",
      "Epoch 92:\n",
      "loss train: tensor(11997299., device='cuda:0', grad_fn=<DivBackward0>)\n",
      "acc train: 0.1\n",
      "loss test: 2.307535980606079\n",
      "acc test: 0.1\n",
      "Train Epoch: 93 [0/50000 (0%)]\tLoss: 11346669.000000\n"
     ]
    },
    {
     "name": "stderr",
     "output_type": "stream",
     "text": [
      " 19%|█▉        | 94/500 [5:11:27<22:11:33, 196.78s/it]"
     ]
    },
    {
     "name": "stdout",
     "output_type": "stream",
     "text": [
      "\n",
      "Test set: Average loss: 2.3071, Accuracy: 1000/10000 (10%)\n",
      "\n",
      "Epoch 93:\n",
      "loss train: tensor(10770086., device='cuda:0', grad_fn=<DivBackward0>)\n",
      "acc train: 0.1\n",
      "loss test: 2.3071082057952883\n",
      "acc test: 0.1\n",
      "Train Epoch: 94 [0/50000 (0%)]\tLoss: 10211174.000000\n"
     ]
    },
    {
     "name": "stderr",
     "output_type": "stream",
     "text": [
      " 19%|█▉        | 95/500 [5:14:44<22:08:01, 196.74s/it]"
     ]
    },
    {
     "name": "stdout",
     "output_type": "stream",
     "text": [
      "\n",
      "Test set: Average loss: 2.3067, Accuracy: 1000/10000 (10%)\n",
      "\n",
      "Epoch 94:\n",
      "loss train: tensor(9683563., device='cuda:0', grad_fn=<DivBackward0>)\n",
      "acc train: 0.1\n",
      "loss test: 2.306718222808838\n",
      "acc test: 0.1\n",
      "Train Epoch: 95 [0/50000 (0%)]\tLoss: 9165473.000000\n"
     ]
    },
    {
     "name": "stderr",
     "output_type": "stream",
     "text": [
      " 19%|█▉        | 96/500 [5:18:01<22:04:40, 196.73s/it]"
     ]
    },
    {
     "name": "stdout",
     "output_type": "stream",
     "text": [
      "\n",
      "Test set: Average loss: 2.3065, Accuracy: 1000/10000 (10%)\n",
      "\n",
      "Epoch 95:\n",
      "loss train: tensor(8691168., device='cuda:0', grad_fn=<DivBackward0>)\n",
      "acc train: 0.1\n",
      "loss test: 2.3064829738616943\n",
      "acc test: 0.1\n",
      "Train Epoch: 96 [0/50000 (0%)]\tLoss: 8235658.000000\n"
     ]
    },
    {
     "name": "stderr",
     "output_type": "stream",
     "text": [
      " 19%|█▉        | 97/500 [5:21:17<22:01:06, 196.69s/it]"
     ]
    },
    {
     "name": "stdout",
     "output_type": "stream",
     "text": [
      "\n",
      "Test set: Average loss: 2.3062, Accuracy: 1000/10000 (10%)\n",
      "\n",
      "Epoch 96:\n",
      "loss train: tensor(7796784., device='cuda:0', grad_fn=<DivBackward0>)\n",
      "acc train: 0.1\n",
      "loss test: 2.306166478729248\n",
      "acc test: 0.1\n",
      "Train Epoch: 97 [0/50000 (0%)]\tLoss: 7370251.000000\n"
     ]
    },
    {
     "name": "stderr",
     "output_type": "stream",
     "text": [
      " 20%|█▉        | 98/500 [5:24:34<21:57:49, 196.69s/it]"
     ]
    },
    {
     "name": "stdout",
     "output_type": "stream",
     "text": [
      "\n",
      "Test set: Average loss: 2.3059, Accuracy: 1000/10000 (10%)\n",
      "\n",
      "Epoch 97:\n",
      "loss train: tensor(6973818., device='cuda:0', grad_fn=<DivBackward0>)\n",
      "acc train: 0.1\n",
      "loss test: 2.3059128509521485\n",
      "acc test: 0.1\n",
      "Train Epoch: 98 [0/50000 (0%)]\tLoss: 6592625.500000\n"
     ]
    },
    {
     "name": "stderr",
     "output_type": "stream",
     "text": [
      " 20%|█▉        | 99/500 [5:27:51<21:54:46, 196.73s/it]"
     ]
    },
    {
     "name": "stdout",
     "output_type": "stream",
     "text": [
      "\n",
      "Test set: Average loss: 2.3057, Accuracy: 1000/10000 (10%)\n",
      "\n",
      "Epoch 98:\n",
      "loss train: tensor(6243807., device='cuda:0', grad_fn=<DivBackward0>)\n",
      "acc train: 0.1\n",
      "loss test: 2.3057174545288084\n",
      "acc test: 0.1\n",
      "Train Epoch: 99 [0/50000 (0%)]\tLoss: 5915266.000000\n",
      "\n",
      "Test set: Average loss: 2.3055, Accuracy: 1000/10000 (10%)\n",
      "\n",
      "Epoch 99:\n",
      "loss train: tensor(5603938., device='cuda:0', grad_fn=<DivBackward0>)\n",
      "acc train: 0.1\n",
      "loss test: 2.3054603790283204\n",
      "acc test: 0.1\n"
     ]
    },
    {
     "name": "stderr",
     "output_type": "stream",
     "text": [
      " 20%|██        | 100/500 [5:31:27<22:30:31, 202.58s/it]"
     ]
    },
    {
     "name": "stdout",
     "output_type": "stream",
     "text": [
      "PGD attack Acc 10.000\n",
      "pgd_acc test: 0.1\n",
      "Train Epoch: 100 [0/50000 (0%)]\tLoss: 5295750.000000\n"
     ]
    },
    {
     "name": "stderr",
     "output_type": "stream",
     "text": [
      " 20%|██        | 101/500 [5:34:44<22:16:12, 200.93s/it]"
     ]
    },
    {
     "name": "stdout",
     "output_type": "stream",
     "text": [
      "\n",
      "Test set: Average loss: 2.3053, Accuracy: 1000/10000 (10%)\n",
      "\n",
      "Epoch 100:\n",
      "loss train: tensor(5021196.5000, device='cuda:0', grad_fn=<DivBackward0>)\n",
      "acc train: 0.1\n",
      "loss test: 2.30534250869751\n",
      "acc test: 0.1\n",
      "Train Epoch: 101 [0/50000 (0%)]\tLoss: 4749431.500000\n"
     ]
    },
    {
     "name": "stderr",
     "output_type": "stream",
     "text": [
      " 20%|██        | 102/500 [5:38:01<22:05:03, 199.76s/it]"
     ]
    },
    {
     "name": "stdout",
     "output_type": "stream",
     "text": [
      "\n",
      "Test set: Average loss: 2.3051, Accuracy: 1000/10000 (10%)\n",
      "\n",
      "Epoch 101:\n",
      "loss train: tensor(4493919., device='cuda:0', grad_fn=<DivBackward0>)\n",
      "acc train: 0.1\n",
      "loss test: 2.305133088684082\n",
      "acc test: 0.1\n",
      "Train Epoch: 102 [0/50000 (0%)]\tLoss: 4250271.500000\n"
     ]
    },
    {
     "name": "stderr",
     "output_type": "stream",
     "text": [
      " 21%|██        | 103/500 [5:41:18<21:56:41, 199.00s/it]"
     ]
    },
    {
     "name": "stdout",
     "output_type": "stream",
     "text": [
      "\n",
      "Test set: Average loss: 2.3050, Accuracy: 1000/10000 (10%)\n",
      "\n",
      "Epoch 102:\n",
      "loss train: tensor(4032093.2500, device='cuda:0', grad_fn=<DivBackward0>)\n",
      "acc train: 0.1\n",
      "loss test: 2.3050450752258302\n",
      "acc test: 0.1\n",
      "Train Epoch: 103 [0/50000 (0%)]\tLoss: 3820945.750000\n"
     ]
    },
    {
     "name": "stderr",
     "output_type": "stream",
     "text": [
      " 21%|██        | 104/500 [5:44:35<21:49:29, 198.41s/it]"
     ]
    },
    {
     "name": "stdout",
     "output_type": "stream",
     "text": [
      "\n",
      "Test set: Average loss: 2.3049, Accuracy: 1000/10000 (10%)\n",
      "\n",
      "Epoch 103:\n",
      "loss train: tensor(3612738.5000, device='cuda:0', grad_fn=<DivBackward0>)\n",
      "acc train: 0.1\n",
      "loss test: 2.304894268798828\n",
      "acc test: 0.1\n",
      "Train Epoch: 104 [0/50000 (0%)]\tLoss: 3411896.000000\n"
     ]
    },
    {
     "name": "stderr",
     "output_type": "stream",
     "text": [
      " 21%|██        | 105/500 [5:47:53<21:43:47, 198.05s/it]"
     ]
    },
    {
     "name": "stdout",
     "output_type": "stream",
     "text": [
      "\n",
      "Test set: Average loss: 2.3048, Accuracy: 1000/10000 (10%)\n",
      "\n",
      "Epoch 104:\n",
      "loss train: tensor(3231160., device='cuda:0', grad_fn=<DivBackward0>)\n",
      "acc train: 0.1\n",
      "loss test: 2.304777433013916\n",
      "acc test: 0.1\n",
      "Train Epoch: 105 [0/50000 (0%)]\tLoss: 3052034.500000\n"
     ]
    },
    {
     "name": "stderr",
     "output_type": "stream",
     "text": [
      " 21%|██        | 106/500 [5:51:10<21:38:19, 197.71s/it]"
     ]
    },
    {
     "name": "stdout",
     "output_type": "stream",
     "text": [
      "\n",
      "Test set: Average loss: 2.3048, Accuracy: 1000/10000 (10%)\n",
      "\n",
      "Epoch 105:\n",
      "loss train: tensor(2885872., device='cuda:0', grad_fn=<DivBackward0>)\n",
      "acc train: 0.1\n",
      "loss test: 2.3048269119262694\n",
      "acc test: 0.1\n",
      "Train Epoch: 106 [0/50000 (0%)]\tLoss: 2722649.000000\n"
     ]
    },
    {
     "name": "stderr",
     "output_type": "stream",
     "text": [
      " 21%|██▏       | 107/500 [5:54:27<21:33:41, 197.51s/it]"
     ]
    },
    {
     "name": "stdout",
     "output_type": "stream",
     "text": [
      "\n",
      "Test set: Average loss: 2.3047, Accuracy: 1000/10000 (10%)\n",
      "\n",
      "Epoch 106:\n",
      "loss train: tensor(2578820.7500, device='cuda:0', grad_fn=<DivBackward0>)\n",
      "acc train: 0.1\n",
      "loss test: 2.304696939468384\n",
      "acc test: 0.1\n",
      "Train Epoch: 107 [0/50000 (0%)]\tLoss: 2434851.750000\n"
     ]
    },
    {
     "name": "stderr",
     "output_type": "stream",
     "text": [
      " 22%|██▏       | 108/500 [5:57:44<21:29:19, 197.35s/it]"
     ]
    },
    {
     "name": "stdout",
     "output_type": "stream",
     "text": [
      "\n",
      "Test set: Average loss: 2.3046, Accuracy: 1000/10000 (10%)\n",
      "\n",
      "Epoch 107:\n",
      "loss train: tensor(2303492.7500, device='cuda:0', grad_fn=<DivBackward0>)\n",
      "acc train: 0.1\n",
      "loss test: 2.304588618850708\n",
      "acc test: 0.1\n",
      "Train Epoch: 108 [0/50000 (0%)]\tLoss: 2175530.500000\n"
     ]
    },
    {
     "name": "stderr",
     "output_type": "stream",
     "text": [
      " 22%|██▏       | 109/500 [6:01:01<21:25:49, 197.31s/it]"
     ]
    },
    {
     "name": "stdout",
     "output_type": "stream",
     "text": [
      "\n",
      "Test set: Average loss: 2.3047, Accuracy: 1000/10000 (10%)\n",
      "\n",
      "Epoch 108:\n",
      "loss train: tensor(2059434.1250, device='cuda:0', grad_fn=<DivBackward0>)\n",
      "acc train: 0.1\n",
      "loss test: 2.3047099040985106\n",
      "acc test: 0.1\n",
      "Train Epoch: 109 [0/50000 (0%)]\tLoss: 1945944.375000\n"
     ]
    },
    {
     "name": "stderr",
     "output_type": "stream",
     "text": [
      " 22%|██▏       | 110/500 [6:04:18<21:22:04, 197.24s/it]"
     ]
    },
    {
     "name": "stdout",
     "output_type": "stream",
     "text": [
      "\n",
      "Test set: Average loss: 2.3046, Accuracy: 1000/10000 (10%)\n",
      "\n",
      "Epoch 109:\n",
      "loss train: tensor(1840893.3750, device='cuda:0', grad_fn=<DivBackward0>)\n",
      "acc train: 0.1\n",
      "loss test: 2.304621642303467\n",
      "acc test: 0.1\n",
      "Train Epoch: 110 [0/50000 (0%)]\tLoss: 1740697.500000\n"
     ]
    },
    {
     "name": "stderr",
     "output_type": "stream",
     "text": [
      " 22%|██▏       | 111/500 [6:07:35<21:18:36, 197.21s/it]"
     ]
    },
    {
     "name": "stdout",
     "output_type": "stream",
     "text": [
      "\n",
      "Test set: Average loss: 2.3045, Accuracy: 1000/10000 (10%)\n",
      "\n",
      "Epoch 110:\n",
      "loss train: tensor(1645386.6250, device='cuda:0', grad_fn=<DivBackward0>)\n",
      "acc train: 0.1\n",
      "loss test: 2.304505844116211\n",
      "acc test: 0.1\n",
      "Train Epoch: 111 [0/50000 (0%)]\tLoss: 1554391.000000\n"
     ]
    },
    {
     "name": "stderr",
     "output_type": "stream",
     "text": [
      " 22%|██▏       | 112/500 [6:10:52<21:14:50, 197.14s/it]"
     ]
    },
    {
     "name": "stdout",
     "output_type": "stream",
     "text": [
      "\n",
      "Test set: Average loss: 2.3047, Accuracy: 1000/10000 (10%)\n",
      "\n",
      "Epoch 111:\n",
      "loss train: tensor(1472722.6250, device='cuda:0', grad_fn=<DivBackward0>)\n",
      "acc train: 0.1\n",
      "loss test: 2.3046954410552978\n",
      "acc test: 0.1\n",
      "Train Epoch: 112 [0/50000 (0%)]\tLoss: 1391931.500000\n"
     ]
    },
    {
     "name": "stderr",
     "output_type": "stream",
     "text": [
      " 23%|██▎       | 113/500 [6:14:09<21:11:35, 197.14s/it]"
     ]
    },
    {
     "name": "stdout",
     "output_type": "stream",
     "text": [
      "\n",
      "Test set: Average loss: 2.3046, Accuracy: 1000/10000 (10%)\n",
      "\n",
      "Epoch 112:\n",
      "loss train: tensor(1316652.1250, device='cuda:0', grad_fn=<DivBackward0>)\n",
      "acc train: 0.1\n",
      "loss test: 2.304571942901611\n",
      "acc test: 0.1\n",
      "Train Epoch: 113 [0/50000 (0%)]\tLoss: 1244412.500000\n"
     ]
    },
    {
     "name": "stderr",
     "output_type": "stream",
     "text": [
      " 23%|██▎       | 114/500 [6:17:26<21:08:10, 197.13s/it]"
     ]
    },
    {
     "name": "stdout",
     "output_type": "stream",
     "text": [
      "\n",
      "Test set: Average loss: 2.3045, Accuracy: 1000/10000 (10%)\n",
      "\n",
      "Epoch 113:\n",
      "loss train: tensor(1176562.2500, device='cuda:0', grad_fn=<DivBackward0>)\n",
      "acc train: 0.1\n",
      "loss test: 2.304465647506714\n",
      "acc test: 0.1\n",
      "Train Epoch: 114 [0/50000 (0%)]\tLoss: 1111359.875000\n"
     ]
    },
    {
     "name": "stderr",
     "output_type": "stream",
     "text": [
      " 23%|██▎       | 115/500 [6:20:43<21:04:35, 197.08s/it]"
     ]
    },
    {
     "name": "stdout",
     "output_type": "stream",
     "text": [
      "\n",
      "Test set: Average loss: 2.3044, Accuracy: 1000/10000 (10%)\n",
      "\n",
      "Epoch 114:\n",
      "loss train: tensor(1051031.5000, device='cuda:0', grad_fn=<DivBackward0>)\n",
      "acc train: 0.1\n",
      "loss test: 2.3043698795318606\n",
      "acc test: 0.1\n",
      "Train Epoch: 115 [0/50000 (0%)]\tLoss: 993878.500000\n"
     ]
    },
    {
     "name": "stderr",
     "output_type": "stream",
     "text": [
      " 23%|██▎       | 116/500 [6:24:00<21:01:19, 197.08s/it]"
     ]
    },
    {
     "name": "stdout",
     "output_type": "stream",
     "text": [
      "\n",
      "Test set: Average loss: 2.3043, Accuracy: 1000/10000 (10%)\n",
      "\n",
      "Epoch 115:\n",
      "loss train: tensor(939796.1250, device='cuda:0', grad_fn=<DivBackward0>)\n",
      "acc train: 0.1\n",
      "loss test: 2.304287550354004\n",
      "acc test: 0.1\n",
      "Train Epoch: 116 [0/50000 (0%)]\tLoss: 888750.187500\n"
     ]
    },
    {
     "name": "stderr",
     "output_type": "stream",
     "text": [
      " 23%|██▎       | 117/500 [6:27:18<20:58:27, 197.15s/it]"
     ]
    },
    {
     "name": "stdout",
     "output_type": "stream",
     "text": [
      "\n",
      "Test set: Average loss: 2.3042, Accuracy: 1000/10000 (10%)\n",
      "\n",
      "Epoch 116:\n",
      "loss train: tensor(840181.5625, device='cuda:0', grad_fn=<DivBackward0>)\n",
      "acc train: 0.1\n",
      "loss test: 2.3042125568389893\n",
      "acc test: 0.1\n",
      "Train Epoch: 117 [0/50000 (0%)]\tLoss: 794111.062500\n"
     ]
    },
    {
     "name": "stderr",
     "output_type": "stream",
     "text": [
      " 24%|██▎       | 118/500 [6:30:35<20:55:17, 197.17s/it]"
     ]
    },
    {
     "name": "stdout",
     "output_type": "stream",
     "text": [
      "\n",
      "Test set: Average loss: 2.3041, Accuracy: 1000/10000 (10%)\n",
      "\n",
      "Epoch 117:\n",
      "loss train: tensor(751049.7500, device='cuda:0', grad_fn=<DivBackward0>)\n",
      "acc train: 0.1\n",
      "loss test: 2.3041313732147217\n",
      "acc test: 0.1\n",
      "Train Epoch: 118 [0/50000 (0%)]\tLoss: 709456.187500\n"
     ]
    },
    {
     "name": "stderr",
     "output_type": "stream",
     "text": [
      " 24%|██▍       | 119/500 [6:33:52<20:52:09, 197.19s/it]"
     ]
    },
    {
     "name": "stdout",
     "output_type": "stream",
     "text": [
      "\n",
      "Test set: Average loss: 2.3041, Accuracy: 1000/10000 (10%)\n",
      "\n",
      "Epoch 118:\n",
      "loss train: tensor(670763.4375, device='cuda:0', grad_fn=<DivBackward0>)\n",
      "acc train: 0.1\n",
      "loss test: 2.304063084793091\n",
      "acc test: 0.1\n",
      "Train Epoch: 119 [0/50000 (0%)]\tLoss: 633766.000000\n"
     ]
    },
    {
     "name": "stderr",
     "output_type": "stream",
     "text": [
      " 24%|██▍       | 120/500 [6:37:09<20:48:28, 197.13s/it]"
     ]
    },
    {
     "name": "stdout",
     "output_type": "stream",
     "text": [
      "\n",
      "Test set: Average loss: 2.3040, Accuracy: 1000/10000 (10%)\n",
      "\n",
      "Epoch 119:\n",
      "loss train: tensor(599236.8750, device='cuda:0', grad_fn=<DivBackward0>)\n",
      "acc train: 0.1\n",
      "loss test: 2.304005737686157\n",
      "acc test: 0.1\n",
      "Train Epoch: 120 [0/50000 (0%)]\tLoss: 565975.875000\n"
     ]
    },
    {
     "name": "stderr",
     "output_type": "stream",
     "text": [
      " 24%|██▍       | 121/500 [6:40:26<20:44:24, 197.00s/it]"
     ]
    },
    {
     "name": "stdout",
     "output_type": "stream",
     "text": [
      "\n",
      "Test set: Average loss: 2.3040, Accuracy: 1000/10000 (10%)\n",
      "\n",
      "Epoch 120:\n",
      "loss train: tensor(535662.8125, device='cuda:0', grad_fn=<DivBackward0>)\n",
      "acc train: 0.1\n",
      "loss test: 2.3039764682769777\n",
      "acc test: 0.1\n",
      "Train Epoch: 121 [0/50000 (0%)]\tLoss: 507077.406250\n"
     ]
    },
    {
     "name": "stderr",
     "output_type": "stream",
     "text": [
      " 24%|██▍       | 122/500 [6:43:43<20:41:09, 197.01s/it]"
     ]
    },
    {
     "name": "stdout",
     "output_type": "stream",
     "text": [
      "\n",
      "Test set: Average loss: 2.3039, Accuracy: 1000/10000 (10%)\n",
      "\n",
      "Epoch 121:\n",
      "loss train: tensor(478962.6562, device='cuda:0', grad_fn=<DivBackward0>)\n",
      "acc train: 0.1\n",
      "loss test: 2.3039047298431394\n",
      "acc test: 0.1\n",
      "Train Epoch: 122 [0/50000 (0%)]\tLoss: 452583.218750\n"
     ]
    },
    {
     "name": "stderr",
     "output_type": "stream",
     "text": [
      " 25%|██▍       | 123/500 [6:47:00<20:37:27, 196.94s/it]"
     ]
    },
    {
     "name": "stdout",
     "output_type": "stream",
     "text": [
      "\n",
      "Test set: Average loss: 2.3039, Accuracy: 1000/10000 (10%)\n",
      "\n",
      "Epoch 122:\n",
      "loss train: tensor(428099.2188, device='cuda:0', grad_fn=<DivBackward0>)\n",
      "acc train: 0.1\n",
      "loss test: 2.303855703353882\n",
      "acc test: 0.1\n",
      "Train Epoch: 123 [0/50000 (0%)]\tLoss: 403633.312500\n"
     ]
    },
    {
     "name": "stderr",
     "output_type": "stream",
     "text": [
      " 25%|██▍       | 124/500 [6:50:16<20:34:11, 196.94s/it]"
     ]
    },
    {
     "name": "stdout",
     "output_type": "stream",
     "text": [
      "\n",
      "Test set: Average loss: 2.3038, Accuracy: 1000/10000 (10%)\n",
      "\n",
      "Epoch 123:\n",
      "loss train: tensor(382106.1875, device='cuda:0', grad_fn=<DivBackward0>)\n",
      "acc train: 0.1\n",
      "loss test: 2.3038146068573\n",
      "acc test: 0.1\n",
      "Train Epoch: 124 [0/50000 (0%)]\tLoss: 361272.218750\n"
     ]
    },
    {
     "name": "stderr",
     "output_type": "stream",
     "text": [
      " 25%|██▌       | 125/500 [6:53:33<20:30:29, 196.88s/it]"
     ]
    },
    {
     "name": "stdout",
     "output_type": "stream",
     "text": [
      "\n",
      "Test set: Average loss: 2.3038, Accuracy: 1000/10000 (10%)\n",
      "\n",
      "Epoch 124:\n",
      "loss train: tensor(341514.0938, device='cuda:0', grad_fn=<DivBackward0>)\n",
      "acc train: 0.1\n",
      "loss test: 2.3037751235961914\n",
      "acc test: 0.1\n",
      "Train Epoch: 125 [0/50000 (0%)]\tLoss: 322924.781250\n"
     ]
    },
    {
     "name": "stderr",
     "output_type": "stream",
     "text": [
      " 25%|██▌       | 126/500 [6:56:50<20:27:24, 196.91s/it]"
     ]
    },
    {
     "name": "stdout",
     "output_type": "stream",
     "text": [
      "\n",
      "Test set: Average loss: 2.3037, Accuracy: 1000/10000 (10%)\n",
      "\n",
      "Epoch 125:\n",
      "loss train: tensor(305261.3438, device='cuda:0', grad_fn=<DivBackward0>)\n",
      "acc train: 0.1\n",
      "loss test: 2.303727894592285\n",
      "acc test: 0.1\n",
      "Train Epoch: 126 [0/50000 (0%)]\tLoss: 288477.343750\n"
     ]
    },
    {
     "name": "stderr",
     "output_type": "stream",
     "text": [
      " 25%|██▌       | 127/500 [7:00:07<20:23:44, 196.85s/it]"
     ]
    },
    {
     "name": "stdout",
     "output_type": "stream",
     "text": [
      "\n",
      "Test set: Average loss: 2.3037, Accuracy: 1000/10000 (10%)\n",
      "\n",
      "Epoch 126:\n",
      "loss train: tensor(273090.4688, device='cuda:0', grad_fn=<DivBackward0>)\n",
      "acc train: 0.1\n",
      "loss test: 2.3036914012908936\n",
      "acc test: 0.1\n",
      "Train Epoch: 127 [0/50000 (0%)]\tLoss: 257983.828125\n"
     ]
    },
    {
     "name": "stderr",
     "output_type": "stream",
     "text": [
      " 26%|██▌       | 128/500 [7:03:24<20:20:21, 196.83s/it]"
     ]
    },
    {
     "name": "stdout",
     "output_type": "stream",
     "text": [
      "\n",
      "Test set: Average loss: 2.3037, Accuracy: 1000/10000 (10%)\n",
      "\n",
      "Epoch 127:\n",
      "loss train: tensor(244600.0625, device='cuda:0', grad_fn=<DivBackward0>)\n",
      "acc train: 0.1\n",
      "loss test: 2.303664584350586\n",
      "acc test: 0.1\n",
      "Train Epoch: 128 [0/50000 (0%)]\tLoss: 231296.656250\n"
     ]
    },
    {
     "name": "stderr",
     "output_type": "stream",
     "text": [
      " 26%|██▌       | 129/500 [7:06:40<20:16:56, 196.81s/it]"
     ]
    },
    {
     "name": "stdout",
     "output_type": "stream",
     "text": [
      "\n",
      "Test set: Average loss: 2.3036, Accuracy: 1000/10000 (10%)\n",
      "\n",
      "Epoch 128:\n",
      "loss train: tensor(219346.2969, device='cuda:0', grad_fn=<DivBackward0>)\n",
      "acc train: 0.1\n",
      "loss test: 2.3036323581695557\n",
      "acc test: 0.1\n",
      "Train Epoch: 129 [0/50000 (0%)]\tLoss: 207421.578125\n"
     ]
    },
    {
     "name": "stderr",
     "output_type": "stream",
     "text": [
      " 26%|██▌       | 130/500 [7:09:57<20:13:33, 196.79s/it]"
     ]
    },
    {
     "name": "stdout",
     "output_type": "stream",
     "text": [
      "\n",
      "Test set: Average loss: 2.3036, Accuracy: 1000/10000 (10%)\n",
      "\n",
      "Epoch 129:\n",
      "loss train: tensor(196556.4688, device='cuda:0', grad_fn=<DivBackward0>)\n",
      "acc train: 0.1\n",
      "loss test: 2.30361480178833\n",
      "acc test: 0.1\n",
      "Train Epoch: 130 [0/50000 (0%)]\tLoss: 186034.828125\n"
     ]
    },
    {
     "name": "stderr",
     "output_type": "stream",
     "text": [
      " 26%|██▌       | 131/500 [7:13:14<20:10:11, 196.78s/it]"
     ]
    },
    {
     "name": "stdout",
     "output_type": "stream",
     "text": [
      "\n",
      "Test set: Average loss: 2.3036, Accuracy: 1000/10000 (10%)\n",
      "\n",
      "Epoch 130:\n",
      "loss train: tensor(176118.5312, device='cuda:0', grad_fn=<DivBackward0>)\n",
      "acc train: 0.1\n",
      "loss test: 2.3035942085266115\n",
      "acc test: 0.1\n",
      "Train Epoch: 131 [0/50000 (0%)]\tLoss: 166490.796875\n"
     ]
    },
    {
     "name": "stderr",
     "output_type": "stream",
     "text": [
      " 26%|██▋       | 132/500 [7:16:31<20:06:57, 196.79s/it]"
     ]
    },
    {
     "name": "stdout",
     "output_type": "stream",
     "text": [
      "\n",
      "Test set: Average loss: 2.3036, Accuracy: 1000/10000 (10%)\n",
      "\n",
      "Epoch 131:\n",
      "loss train: tensor(158018.6250, device='cuda:0', grad_fn=<DivBackward0>)\n",
      "acc train: 0.1\n",
      "loss test: 2.3035570892333985\n",
      "acc test: 0.1\n",
      "Train Epoch: 132 [0/50000 (0%)]\tLoss: 149649.109375\n"
     ]
    },
    {
     "name": "stderr",
     "output_type": "stream",
     "text": [
      " 27%|██▋       | 133/500 [7:19:47<20:03:30, 196.76s/it]"
     ]
    },
    {
     "name": "stdout",
     "output_type": "stream",
     "text": [
      "\n",
      "Test set: Average loss: 2.3035, Accuracy: 1000/10000 (10%)\n",
      "\n",
      "Epoch 132:\n",
      "loss train: tensor(141977.1719, device='cuda:0', grad_fn=<DivBackward0>)\n",
      "acc train: 0.1\n",
      "loss test: 2.3035288917541505\n",
      "acc test: 0.1\n",
      "Train Epoch: 133 [0/50000 (0%)]\tLoss: 134342.921875\n"
     ]
    },
    {
     "name": "stderr",
     "output_type": "stream",
     "text": [
      " 27%|██▋       | 134/500 [7:23:04<20:00:14, 196.76s/it]"
     ]
    },
    {
     "name": "stdout",
     "output_type": "stream",
     "text": [
      "\n",
      "Test set: Average loss: 2.3035, Accuracy: 1000/10000 (10%)\n",
      "\n",
      "Epoch 133:\n",
      "loss train: tensor(127416.5781, device='cuda:0', grad_fn=<DivBackward0>)\n",
      "acc train: 0.1\n",
      "loss test: 2.3035077503204344\n",
      "acc test: 0.1\n",
      "Train Epoch: 134 [0/50000 (0%)]\tLoss: 120658.914062\n"
     ]
    },
    {
     "name": "stderr",
     "output_type": "stream",
     "text": [
      " 27%|██▋       | 135/500 [7:26:21<19:56:56, 196.76s/it]"
     ]
    },
    {
     "name": "stdout",
     "output_type": "stream",
     "text": [
      "\n",
      "Test set: Average loss: 2.3035, Accuracy: 1000/10000 (10%)\n",
      "\n",
      "Epoch 134:\n",
      "loss train: tensor(114561.0312, device='cuda:0', grad_fn=<DivBackward0>)\n",
      "acc train: 0.1\n",
      "loss test: 2.3034883796691896\n",
      "acc test: 0.1\n",
      "Train Epoch: 135 [0/50000 (0%)]\tLoss: 108558.000000\n"
     ]
    },
    {
     "name": "stderr",
     "output_type": "stream",
     "text": [
      " 27%|██▋       | 136/500 [7:29:38<19:53:33, 196.74s/it]"
     ]
    },
    {
     "name": "stdout",
     "output_type": "stream",
     "text": [
      "\n",
      "Test set: Average loss: 2.3035, Accuracy: 1000/10000 (10%)\n",
      "\n",
      "Epoch 135:\n",
      "loss train: tensor(103183.5703, device='cuda:0', grad_fn=<DivBackward0>)\n",
      "acc train: 0.1\n",
      "loss test: 2.3034701820373535\n",
      "acc test: 0.1\n",
      "Train Epoch: 136 [0/50000 (0%)]\tLoss: 97853.171875\n"
     ]
    },
    {
     "name": "stderr",
     "output_type": "stream",
     "text": [
      " 27%|██▋       | 137/500 [7:32:55<19:51:01, 196.86s/it]"
     ]
    },
    {
     "name": "stdout",
     "output_type": "stream",
     "text": [
      "\n",
      "Test set: Average loss: 2.3034, Accuracy: 1000/10000 (10%)\n",
      "\n",
      "Epoch 136:\n",
      "loss train: tensor(92980.5312, device='cuda:0', grad_fn=<DivBackward0>)\n",
      "acc train: 0.1\n",
      "loss test: 2.3034469882965087\n",
      "acc test: 0.1\n",
      "Train Epoch: 137 [0/50000 (0%)]\tLoss: 88135.351562\n"
     ]
    },
    {
     "name": "stderr",
     "output_type": "stream",
     "text": [
      " 28%|██▊       | 138/500 [7:36:12<19:48:35, 197.01s/it]"
     ]
    },
    {
     "name": "stdout",
     "output_type": "stream",
     "text": [
      "\n",
      "Test set: Average loss: 2.3034, Accuracy: 1000/10000 (10%)\n",
      "\n",
      "Epoch 137:\n",
      "loss train: tensor(83792.1953, device='cuda:0', grad_fn=<DivBackward0>)\n",
      "acc train: 0.1\n",
      "loss test: 2.303446626663208\n",
      "acc test: 0.1\n",
      "Train Epoch: 138 [0/50000 (0%)]\tLoss: 79491.187500\n"
     ]
    },
    {
     "name": "stderr",
     "output_type": "stream",
     "text": [
      " 28%|██▊       | 139/500 [7:39:29<19:45:22, 197.01s/it]"
     ]
    },
    {
     "name": "stdout",
     "output_type": "stream",
     "text": [
      "\n",
      "Test set: Average loss: 2.3034, Accuracy: 1000/10000 (10%)\n",
      "\n",
      "Epoch 138:\n",
      "loss train: tensor(75550.3750, device='cuda:0', grad_fn=<DivBackward0>)\n",
      "acc train: 0.1\n",
      "loss test: 2.3034171783447266\n",
      "acc test: 0.1\n",
      "Train Epoch: 139 [0/50000 (0%)]\tLoss: 71650.093750\n"
     ]
    },
    {
     "name": "stderr",
     "output_type": "stream",
     "text": [
      " 28%|██▊       | 140/500 [7:42:46<19:42:23, 197.06s/it]"
     ]
    },
    {
     "name": "stdout",
     "output_type": "stream",
     "text": [
      "\n",
      "Test set: Average loss: 2.3034, Accuracy: 1000/10000 (10%)\n",
      "\n",
      "Epoch 139:\n",
      "loss train: tensor(68290.7188, device='cuda:0', grad_fn=<DivBackward0>)\n",
      "acc train: 0.1\n",
      "loss test: 2.3033970317840575\n",
      "acc test: 0.1\n",
      "Train Epoch: 140 [0/50000 (0%)]\tLoss: 64890.113281\n"
     ]
    },
    {
     "name": "stderr",
     "output_type": "stream",
     "text": [
      " 28%|██▊       | 141/500 [7:46:03<19:39:04, 197.06s/it]"
     ]
    },
    {
     "name": "stdout",
     "output_type": "stream",
     "text": [
      "\n",
      "Test set: Average loss: 2.3034, Accuracy: 1000/10000 (10%)\n",
      "\n",
      "Epoch 140:\n",
      "loss train: tensor(61810.2148, device='cuda:0', grad_fn=<DivBackward0>)\n",
      "acc train: 0.1\n",
      "loss test: 2.303389767456055\n",
      "acc test: 0.1\n",
      "Train Epoch: 141 [0/50000 (0%)]\tLoss: 58745.281250\n"
     ]
    },
    {
     "name": "stderr",
     "output_type": "stream",
     "text": [
      " 28%|██▊       | 142/500 [7:49:21<19:36:01, 197.10s/it]"
     ]
    },
    {
     "name": "stdout",
     "output_type": "stream",
     "text": [
      "\n",
      "Test set: Average loss: 2.3034, Accuracy: 1000/10000 (10%)\n",
      "\n",
      "Epoch 141:\n",
      "loss train: tensor(55942.9531, device='cuda:0', grad_fn=<DivBackward0>)\n",
      "acc train: 0.1\n",
      "loss test: 2.303377434539795\n",
      "acc test: 0.1\n",
      "Train Epoch: 142 [0/50000 (0%)]\tLoss: 53371.558594\n"
     ]
    },
    {
     "name": "stderr",
     "output_type": "stream",
     "text": [
      " 29%|██▊       | 143/500 [7:52:38<19:32:51, 197.12s/it]"
     ]
    },
    {
     "name": "stdout",
     "output_type": "stream",
     "text": [
      "\n",
      "Test set: Average loss: 2.3034, Accuracy: 1000/10000 (10%)\n",
      "\n",
      "Epoch 142:\n",
      "loss train: tensor(50818.6523, device='cuda:0', grad_fn=<DivBackward0>)\n",
      "acc train: 0.1\n",
      "loss test: 2.303354011917114\n",
      "acc test: 0.1\n",
      "Train Epoch: 143 [0/50000 (0%)]\tLoss: 48429.546875\n"
     ]
    },
    {
     "name": "stderr",
     "output_type": "stream",
     "text": [
      " 29%|██▉       | 144/500 [7:55:55<19:29:31, 197.11s/it]"
     ]
    },
    {
     "name": "stdout",
     "output_type": "stream",
     "text": [
      "\n",
      "Test set: Average loss: 2.3034, Accuracy: 1000/10000 (10%)\n",
      "\n",
      "Epoch 143:\n",
      "loss train: tensor(46096.8359, device='cuda:0', grad_fn=<DivBackward0>)\n",
      "acc train: 0.1\n",
      "loss test: 2.303352459335327\n",
      "acc test: 0.1\n",
      "Train Epoch: 144 [0/50000 (0%)]\tLoss: 43851.671875\n"
     ]
    },
    {
     "name": "stderr",
     "output_type": "stream",
     "text": [
      " 29%|██▉       | 145/500 [7:59:12<19:26:02, 197.08s/it]"
     ]
    },
    {
     "name": "stdout",
     "output_type": "stream",
     "text": [
      "\n",
      "Test set: Average loss: 2.3034, Accuracy: 1000/10000 (10%)\n",
      "\n",
      "Epoch 144:\n",
      "loss train: tensor(42125.0469, device='cuda:0', grad_fn=<DivBackward0>)\n",
      "acc train: 0.1\n",
      "loss test: 2.3033519901275636\n",
      "acc test: 0.1\n",
      "Train Epoch: 145 [0/50000 (0%)]\tLoss: 40313.449219\n"
     ]
    },
    {
     "name": "stderr",
     "output_type": "stream",
     "text": [
      " 29%|██▉       | 146/500 [8:02:29<19:22:50, 197.09s/it]"
     ]
    },
    {
     "name": "stdout",
     "output_type": "stream",
     "text": [
      "\n",
      "Test set: Average loss: 2.3033, Accuracy: 1000/10000 (10%)\n",
      "\n",
      "Epoch 145:\n",
      "loss train: tensor(38451.3867, device='cuda:0', grad_fn=<DivBackward0>)\n",
      "acc train: 0.1\n",
      "loss test: 2.303336581039429\n",
      "acc test: 0.1\n",
      "Train Epoch: 146 [0/50000 (0%)]\tLoss: 36819.542969\n"
     ]
    },
    {
     "name": "stderr",
     "output_type": "stream",
     "text": [
      " 29%|██▉       | 147/500 [8:05:46<19:19:45, 197.13s/it]"
     ]
    },
    {
     "name": "stdout",
     "output_type": "stream",
     "text": [
      "\n",
      "Test set: Average loss: 2.3033, Accuracy: 1000/10000 (10%)\n",
      "\n",
      "Epoch 146:\n",
      "loss train: tensor(35223.6562, device='cuda:0', grad_fn=<DivBackward0>)\n",
      "acc train: 0.1\n",
      "loss test: 2.303311994552612\n",
      "acc test: 0.1\n",
      "Train Epoch: 147 [0/50000 (0%)]\tLoss: 33738.722656\n"
     ]
    },
    {
     "name": "stderr",
     "output_type": "stream",
     "text": [
      " 30%|██▉       | 148/500 [8:09:03<19:16:23, 197.11s/it]"
     ]
    },
    {
     "name": "stdout",
     "output_type": "stream",
     "text": [
      "\n",
      "Test set: Average loss: 2.3033, Accuracy: 1000/10000 (10%)\n",
      "\n",
      "Epoch 147:\n",
      "loss train: tensor(32309.1875, device='cuda:0', grad_fn=<DivBackward0>)\n",
      "acc train: 0.1\n",
      "loss test: 2.3032954204559326\n",
      "acc test: 0.1\n",
      "Train Epoch: 148 [0/50000 (0%)]\tLoss: 30943.142578\n"
     ]
    },
    {
     "name": "stderr",
     "output_type": "stream",
     "text": [
      " 30%|██▉       | 149/500 [8:12:20<19:13:14, 197.14s/it]"
     ]
    },
    {
     "name": "stdout",
     "output_type": "stream",
     "text": [
      "\n",
      "Test set: Average loss: 2.3033, Accuracy: 1000/10000 (10%)\n",
      "\n",
      "Epoch 148:\n",
      "loss train: tensor(29697.8770, device='cuda:0', grad_fn=<DivBackward0>)\n",
      "acc train: 0.1\n",
      "loss test: 2.3032882442474367\n",
      "acc test: 0.1\n",
      "Train Epoch: 149 [0/50000 (0%)]\tLoss: 28500.324219\n",
      "\n",
      "Test set: Average loss: 2.3033, Accuracy: 1000/10000 (10%)\n",
      "\n",
      "Epoch 149:\n",
      "loss train: tensor(27311.6504, device='cuda:0', grad_fn=<DivBackward0>)\n",
      "acc train: 0.1\n",
      "loss test: 2.3032769462585447\n",
      "acc test: 0.1\n"
     ]
    },
    {
     "name": "stderr",
     "output_type": "stream",
     "text": [
      " 30%|███       | 150/500 [8:15:57<19:43:15, 202.84s/it]"
     ]
    },
    {
     "name": "stdout",
     "output_type": "stream",
     "text": [
      "PGD attack Acc 10.000\n",
      "pgd_acc test: 0.1\n",
      "Train Epoch: 150 [0/50000 (0%)]\tLoss: 26216.339844\n"
     ]
    },
    {
     "name": "stderr",
     "output_type": "stream",
     "text": [
      " 30%|███       | 151/500 [8:19:14<19:29:46, 201.11s/it]"
     ]
    },
    {
     "name": "stdout",
     "output_type": "stream",
     "text": [
      "\n",
      "Test set: Average loss: 2.3033, Accuracy: 1000/10000 (10%)\n",
      "\n",
      "Epoch 150:\n",
      "loss train: tensor(25215.3027, device='cuda:0', grad_fn=<DivBackward0>)\n",
      "acc train: 0.1\n",
      "loss test: 2.3032671298980714\n",
      "acc test: 0.1\n",
      "Train Epoch: 151 [0/50000 (0%)]\tLoss: 24239.759766\n"
     ]
    },
    {
     "name": "stderr",
     "output_type": "stream",
     "text": [
      " 30%|███       | 152/500 [8:22:31<19:19:26, 199.90s/it]"
     ]
    },
    {
     "name": "stdout",
     "output_type": "stream",
     "text": [
      "\n",
      "Test set: Average loss: 2.3033, Accuracy: 1000/10000 (10%)\n",
      "\n",
      "Epoch 151:\n",
      "loss train: tensor(23336.4434, device='cuda:0', grad_fn=<DivBackward0>)\n",
      "acc train: 0.1\n",
      "loss test: 2.303267865753174\n",
      "acc test: 0.1\n",
      "Train Epoch: 152 [0/50000 (0%)]\tLoss: 22448.486328\n"
     ]
    },
    {
     "name": "stderr",
     "output_type": "stream",
     "text": [
      " 31%|███       | 153/500 [8:25:48<19:11:04, 199.03s/it]"
     ]
    },
    {
     "name": "stdout",
     "output_type": "stream",
     "text": [
      "\n",
      "Test set: Average loss: 2.3033, Accuracy: 1000/10000 (10%)\n",
      "\n",
      "Epoch 152:\n",
      "loss train: tensor(21685.5703, device='cuda:0', grad_fn=<DivBackward0>)\n",
      "acc train: 0.1\n",
      "loss test: 2.3032561096191406\n",
      "acc test: 0.1\n",
      "Train Epoch: 153 [0/50000 (0%)]\tLoss: 20937.273438\n"
     ]
    },
    {
     "name": "stderr",
     "output_type": "stream",
     "text": [
      " 31%|███       | 154/500 [8:29:05<19:04:37, 198.49s/it]"
     ]
    },
    {
     "name": "stdout",
     "output_type": "stream",
     "text": [
      "\n",
      "Test set: Average loss: 2.3032, Accuracy: 1000/10000 (10%)\n",
      "\n",
      "Epoch 153:\n",
      "loss train: tensor(20208.2969, device='cuda:0', grad_fn=<DivBackward0>)\n",
      "acc train: 0.1\n",
      "loss test: 2.3032385120391847\n",
      "acc test: 0.1\n",
      "Train Epoch: 154 [0/50000 (0%)]\tLoss: 19534.289062\n"
     ]
    },
    {
     "name": "stderr",
     "output_type": "stream",
     "text": [
      " 31%|███       | 155/500 [8:32:22<18:58:58, 198.08s/it]"
     ]
    },
    {
     "name": "stdout",
     "output_type": "stream",
     "text": [
      "\n",
      "Test set: Average loss: 2.3032, Accuracy: 1000/10000 (10%)\n",
      "\n",
      "Epoch 154:\n",
      "loss train: tensor(18870.7168, device='cuda:0', grad_fn=<DivBackward0>)\n",
      "acc train: 0.1\n",
      "loss test: 2.3032332851409913\n",
      "acc test: 0.1\n",
      "Train Epoch: 155 [0/50000 (0%)]\tLoss: 18195.576172\n"
     ]
    },
    {
     "name": "stderr",
     "output_type": "stream",
     "text": [
      " 31%|███       | 156/500 [8:35:39<18:54:01, 197.80s/it]"
     ]
    },
    {
     "name": "stdout",
     "output_type": "stream",
     "text": [
      "\n",
      "Test set: Average loss: 2.3032, Accuracy: 1000/10000 (10%)\n",
      "\n",
      "Epoch 155:\n",
      "loss train: tensor(17590.3242, device='cuda:0', grad_fn=<DivBackward0>)\n",
      "acc train: 0.1\n",
      "loss test: 2.3032163681030275\n",
      "acc test: 0.1\n",
      "Train Epoch: 156 [0/50000 (0%)]\tLoss: 17023.730469\n"
     ]
    },
    {
     "name": "stderr",
     "output_type": "stream",
     "text": [
      " 31%|███▏      | 157/500 [8:38:56<18:49:41, 197.61s/it]"
     ]
    },
    {
     "name": "stdout",
     "output_type": "stream",
     "text": [
      "\n",
      "Test set: Average loss: 2.3032, Accuracy: 1000/10000 (10%)\n",
      "\n",
      "Epoch 156:\n",
      "loss train: tensor(16555.9648, device='cuda:0', grad_fn=<DivBackward0>)\n",
      "acc train: 0.1\n",
      "loss test: 2.3032123996734617\n",
      "acc test: 0.1\n",
      "Train Epoch: 157 [0/50000 (0%)]\tLoss: 16070.513672\n"
     ]
    },
    {
     "name": "stderr",
     "output_type": "stream",
     "text": [
      " 32%|███▏      | 158/500 [8:42:15<18:47:07, 197.74s/it]"
     ]
    },
    {
     "name": "stdout",
     "output_type": "stream",
     "text": [
      "\n",
      "Test set: Average loss: 2.3032, Accuracy: 1000/10000 (10%)\n",
      "\n",
      "Epoch 157:\n",
      "loss train: tensor(15595.9307, device='cuda:0', grad_fn=<DivBackward0>)\n",
      "acc train: 0.1\n",
      "loss test: 2.3032050430297852\n",
      "acc test: 0.1\n",
      "Train Epoch: 158 [0/50000 (0%)]\tLoss: 15143.342773\n"
     ]
    },
    {
     "name": "stderr",
     "output_type": "stream",
     "text": [
      " 32%|███▏      | 159/500 [8:45:30<18:39:51, 197.04s/it]"
     ]
    },
    {
     "name": "stdout",
     "output_type": "stream",
     "text": [
      "\n",
      "Test set: Average loss: 2.3032, Accuracy: 1000/10000 (10%)\n",
      "\n",
      "Epoch 158:\n",
      "loss train: tensor(14779.4893, device='cuda:0', grad_fn=<DivBackward0>)\n",
      "acc train: 0.1\n",
      "loss test: 2.303184876251221\n",
      "acc test: 0.1\n",
      "Train Epoch: 159 [0/50000 (0%)]\tLoss: 14435.694336\n"
     ]
    },
    {
     "name": "stderr",
     "output_type": "stream",
     "text": [
      " 32%|███▏      | 160/500 [8:48:45<18:33:13, 196.45s/it]"
     ]
    },
    {
     "name": "stdout",
     "output_type": "stream",
     "text": [
      "\n",
      "Test set: Average loss: 2.3032, Accuracy: 1000/10000 (10%)\n",
      "\n",
      "Epoch 159:\n",
      "loss train: tensor(14094.3018, device='cuda:0', grad_fn=<DivBackward0>)\n",
      "acc train: 0.1\n",
      "loss test: 2.3031829319000243\n",
      "acc test: 0.1\n",
      "Train Epoch: 160 [0/50000 (0%)]\tLoss: 13782.016602\n"
     ]
    },
    {
     "name": "stderr",
     "output_type": "stream",
     "text": [
      " 32%|███▏      | 161/500 [8:52:00<18:27:34, 196.03s/it]"
     ]
    },
    {
     "name": "stdout",
     "output_type": "stream",
     "text": [
      "\n",
      "Test set: Average loss: 2.3032, Accuracy: 1000/10000 (10%)\n",
      "\n",
      "Epoch 160:\n",
      "loss train: tensor(13459.4717, device='cuda:0', grad_fn=<DivBackward0>)\n",
      "acc train: 0.1\n",
      "loss test: 2.3031750267028808\n",
      "acc test: 0.1\n",
      "Train Epoch: 161 [0/50000 (0%)]\tLoss: 13160.915039\n"
     ]
    },
    {
     "name": "stderr",
     "output_type": "stream",
     "text": [
      " 32%|███▏      | 162/500 [8:55:15<18:22:07, 195.64s/it]"
     ]
    },
    {
     "name": "stdout",
     "output_type": "stream",
     "text": [
      "\n",
      "Test set: Average loss: 2.3032, Accuracy: 1000/10000 (10%)\n",
      "\n",
      "Epoch 161:\n",
      "loss train: tensor(12897.7939, device='cuda:0', grad_fn=<DivBackward0>)\n",
      "acc train: 0.1\n",
      "loss test: 2.3031603343963623\n",
      "acc test: 0.1\n",
      "Train Epoch: 162 [0/50000 (0%)]\tLoss: 12639.825195\n"
     ]
    },
    {
     "name": "stderr",
     "output_type": "stream",
     "text": [
      " 33%|███▎      | 163/500 [8:58:30<18:18:04, 195.50s/it]"
     ]
    },
    {
     "name": "stdout",
     "output_type": "stream",
     "text": [
      "\n",
      "Test set: Average loss: 2.3032, Accuracy: 1000/10000 (10%)\n",
      "\n",
      "Epoch 162:\n",
      "loss train: tensor(12404.0479, device='cuda:0', grad_fn=<DivBackward0>)\n",
      "acc train: 0.1\n",
      "loss test: 2.30315152053833\n",
      "acc test: 0.1\n",
      "Train Epoch: 163 [0/50000 (0%)]\tLoss: 12181.238281\n"
     ]
    },
    {
     "name": "stderr",
     "output_type": "stream",
     "text": [
      " 33%|███▎      | 164/500 [9:01:45<18:14:35, 195.46s/it]"
     ]
    },
    {
     "name": "stdout",
     "output_type": "stream",
     "text": [
      "\n",
      "Test set: Average loss: 2.3031, Accuracy: 1000/10000 (10%)\n",
      "\n",
      "Epoch 163:\n",
      "loss train: tensor(11988.9717, device='cuda:0', grad_fn=<DivBackward0>)\n",
      "acc train: 0.1\n",
      "loss test: 2.303138554382324\n",
      "acc test: 0.1\n",
      "Train Epoch: 164 [0/50000 (0%)]\tLoss: 11803.106445\n"
     ]
    },
    {
     "name": "stderr",
     "output_type": "stream",
     "text": [
      " 33%|███▎      | 165/500 [9:05:01<18:11:52, 195.56s/it]"
     ]
    },
    {
     "name": "stdout",
     "output_type": "stream",
     "text": [
      "\n",
      "Test set: Average loss: 2.3031, Accuracy: 1000/10000 (10%)\n",
      "\n",
      "Epoch 164:\n",
      "loss train: tensor(11663.0303, device='cuda:0', grad_fn=<DivBackward0>)\n",
      "acc train: 0.1\n",
      "loss test: 2.3031427711486816\n",
      "acc test: 0.1\n",
      "Train Epoch: 165 [0/50000 (0%)]\tLoss: 11508.084961\n"
     ]
    },
    {
     "name": "stderr",
     "output_type": "stream",
     "text": [
      " 33%|███▎      | 166/500 [9:08:16<18:08:14, 195.49s/it]"
     ]
    },
    {
     "name": "stdout",
     "output_type": "stream",
     "text": [
      "\n",
      "Test set: Average loss: 2.3032, Accuracy: 1000/10000 (10%)\n",
      "\n",
      "Epoch 165:\n",
      "loss train: tensor(11367.1104, device='cuda:0', grad_fn=<DivBackward0>)\n",
      "acc train: 0.1\n",
      "loss test: 2.303155533218384\n",
      "acc test: 0.1\n",
      "Train Epoch: 166 [0/50000 (0%)]\tLoss: 11228.109375\n"
     ]
    },
    {
     "name": "stderr",
     "output_type": "stream",
     "text": [
      " 33%|███▎      | 167/500 [9:11:31<18:03:47, 195.28s/it]"
     ]
    },
    {
     "name": "stdout",
     "output_type": "stream",
     "text": [
      "\n",
      "Test set: Average loss: 2.3031, Accuracy: 1000/10000 (10%)\n",
      "\n",
      "Epoch 166:\n",
      "loss train: tensor(11041.9980, device='cuda:0', grad_fn=<DivBackward0>)\n",
      "acc train: 0.1\n",
      "loss test: 2.303131453704834\n",
      "acc test: 0.1\n",
      "Train Epoch: 167 [0/50000 (0%)]\tLoss: 10913.620117\n"
     ]
    },
    {
     "name": "stderr",
     "output_type": "stream",
     "text": [
      " 34%|███▎      | 168/500 [9:14:46<17:59:44, 195.13s/it]"
     ]
    },
    {
     "name": "stdout",
     "output_type": "stream",
     "text": [
      "\n",
      "Test set: Average loss: 2.3031, Accuracy: 1000/10000 (10%)\n",
      "\n",
      "Epoch 167:\n",
      "loss train: tensor(10836.1328, device='cuda:0', grad_fn=<DivBackward0>)\n",
      "acc train: 0.1\n",
      "loss test: 2.303122054672241\n",
      "acc test: 0.1\n",
      "Train Epoch: 168 [0/50000 (0%)]\tLoss: 10804.536133\n"
     ]
    },
    {
     "name": "stderr",
     "output_type": "stream",
     "text": [
      " 34%|███▍      | 169/500 [9:18:01<17:55:51, 195.02s/it]"
     ]
    },
    {
     "name": "stdout",
     "output_type": "stream",
     "text": [
      "\n",
      "Test set: Average loss: 2.3031, Accuracy: 1000/10000 (10%)\n",
      "\n",
      "Epoch 168:\n",
      "loss train: tensor(10774.4658, device='cuda:0', grad_fn=<DivBackward0>)\n",
      "acc train: 0.1\n",
      "loss test: 2.3031036987304687\n",
      "acc test: 0.1\n",
      "Train Epoch: 169 [0/50000 (0%)]\tLoss: 10759.090820\n"
     ]
    },
    {
     "name": "stderr",
     "output_type": "stream",
     "text": [
      " 34%|███▍      | 170/500 [9:21:16<17:52:10, 194.94s/it]"
     ]
    },
    {
     "name": "stdout",
     "output_type": "stream",
     "text": [
      "\n",
      "Test set: Average loss: 2.3031, Accuracy: 1000/10000 (10%)\n",
      "\n",
      "Epoch 169:\n",
      "loss train: tensor(10729.2100, device='cuda:0', grad_fn=<DivBackward0>)\n",
      "acc train: 0.1\n",
      "loss test: 2.303101280975342\n",
      "acc test: 0.1\n",
      "Train Epoch: 170 [0/50000 (0%)]\tLoss: 10670.310547\n"
     ]
    },
    {
     "name": "stderr",
     "output_type": "stream",
     "text": [
      " 34%|███▍      | 171/500 [9:24:30<17:48:42, 194.90s/it]"
     ]
    },
    {
     "name": "stdout",
     "output_type": "stream",
     "text": [
      "\n",
      "Test set: Average loss: 2.3031, Accuracy: 1000/10000 (10%)\n",
      "\n",
      "Epoch 170:\n",
      "loss train: tensor(10615.3633, device='cuda:0', grad_fn=<DivBackward0>)\n",
      "acc train: 0.1\n",
      "loss test: 2.3030911514282226\n",
      "acc test: 0.1\n",
      "Train Epoch: 171 [0/50000 (0%)]\tLoss: 10616.349609\n"
     ]
    },
    {
     "name": "stderr",
     "output_type": "stream",
     "text": [
      " 34%|███▍      | 172/500 [9:27:45<17:45:25, 194.90s/it]"
     ]
    },
    {
     "name": "stdout",
     "output_type": "stream",
     "text": [
      "\n",
      "Test set: Average loss: 2.3031, Accuracy: 1000/10000 (10%)\n",
      "\n",
      "Epoch 171:\n",
      "loss train: tensor(10612.7510, device='cuda:0', grad_fn=<DivBackward0>)\n",
      "acc train: 0.1\n",
      "loss test: 2.303079072570801\n",
      "acc test: 0.1\n",
      "Train Epoch: 172 [0/50000 (0%)]\tLoss: 10612.061523\n"
     ]
    },
    {
     "name": "stderr",
     "output_type": "stream",
     "text": [
      " 35%|███▍      | 173/500 [9:31:00<17:41:46, 194.82s/it]"
     ]
    },
    {
     "name": "stdout",
     "output_type": "stream",
     "text": [
      "\n",
      "Test set: Average loss: 2.3031, Accuracy: 1000/10000 (10%)\n",
      "\n",
      "Epoch 172:\n",
      "loss train: tensor(10625.7920, device='cuda:0', grad_fn=<DivBackward0>)\n",
      "acc train: 0.1\n",
      "loss test: 2.3030699836730957\n",
      "acc test: 0.1\n",
      "Train Epoch: 173 [0/50000 (0%)]\tLoss: 10615.576172\n"
     ]
    },
    {
     "name": "stderr",
     "output_type": "stream",
     "text": [
      " 35%|███▍      | 174/500 [9:34:15<17:38:40, 194.85s/it]"
     ]
    },
    {
     "name": "stdout",
     "output_type": "stream",
     "text": [
      "\n",
      "Test set: Average loss: 2.3031, Accuracy: 1000/10000 (10%)\n",
      "\n",
      "Epoch 173:\n",
      "loss train: tensor(10665.7422, device='cuda:0', grad_fn=<DivBackward0>)\n",
      "acc train: 0.1\n",
      "loss test: 2.303059398651123\n",
      "acc test: 0.1\n",
      "Train Epoch: 174 [0/50000 (0%)]\tLoss: 10736.961914\n"
     ]
    },
    {
     "name": "stderr",
     "output_type": "stream",
     "text": [
      " 35%|███▌      | 175/500 [9:37:30<17:35:33, 194.87s/it]"
     ]
    },
    {
     "name": "stdout",
     "output_type": "stream",
     "text": [
      "\n",
      "Test set: Average loss: 2.3031, Accuracy: 1000/10000 (10%)\n",
      "\n",
      "Epoch 174:\n",
      "loss train: tensor(10795.4551, device='cuda:0', grad_fn=<DivBackward0>)\n",
      "acc train: 0.1\n",
      "loss test: 2.303055500793457\n",
      "acc test: 0.1\n",
      "Train Epoch: 175 [0/50000 (0%)]\tLoss: 10824.973633\n"
     ]
    },
    {
     "name": "stderr",
     "output_type": "stream",
     "text": [
      " 35%|███▌      | 176/500 [9:40:44<17:31:54, 194.80s/it]"
     ]
    },
    {
     "name": "stdout",
     "output_type": "stream",
     "text": [
      "\n",
      "Test set: Average loss: 2.3031, Accuracy: 1000/10000 (10%)\n",
      "\n",
      "Epoch 175:\n",
      "loss train: tensor(10842.3467, device='cuda:0', grad_fn=<DivBackward0>)\n",
      "acc train: 0.1\n",
      "loss test: 2.303050971984863\n",
      "acc test: 0.1\n",
      "Train Epoch: 176 [0/50000 (0%)]\tLoss: 10880.910156\n"
     ]
    },
    {
     "name": "stderr",
     "output_type": "stream",
     "text": [
      " 35%|███▌      | 177/500 [9:44:00<17:29:17, 194.92s/it]"
     ]
    },
    {
     "name": "stdout",
     "output_type": "stream",
     "text": [
      "\n",
      "Test set: Average loss: 2.3030, Accuracy: 1000/10000 (10%)\n",
      "\n",
      "Epoch 176:\n",
      "loss train: tensor(10914.4121, device='cuda:0', grad_fn=<DivBackward0>)\n",
      "acc train: 0.1\n",
      "loss test: 2.3030428474426268\n",
      "acc test: 0.1\n",
      "Train Epoch: 177 [0/50000 (0%)]\tLoss: 10995.600586\n"
     ]
    },
    {
     "name": "stderr",
     "output_type": "stream",
     "text": [
      " 36%|███▌      | 178/500 [9:47:15<17:26:31, 195.01s/it]"
     ]
    },
    {
     "name": "stdout",
     "output_type": "stream",
     "text": [
      "\n",
      "Test set: Average loss: 2.3030, Accuracy: 1000/10000 (10%)\n",
      "\n",
      "Epoch 177:\n",
      "loss train: tensor(11081.3037, device='cuda:0', grad_fn=<DivBackward0>)\n",
      "acc train: 0.1\n",
      "loss test: 2.3030287479400635\n",
      "acc test: 0.1\n",
      "Train Epoch: 178 [0/50000 (0%)]\tLoss: 11188.576172\n"
     ]
    },
    {
     "name": "stderr",
     "output_type": "stream",
     "text": [
      " 36%|███▌      | 179/500 [9:50:30<17:23:24, 195.03s/it]"
     ]
    },
    {
     "name": "stdout",
     "output_type": "stream",
     "text": [
      "\n",
      "Test set: Average loss: 2.3030, Accuracy: 1000/10000 (10%)\n",
      "\n",
      "Epoch 178:\n",
      "loss train: tensor(11272.4023, device='cuda:0', grad_fn=<DivBackward0>)\n",
      "acc train: 0.1\n",
      "loss test: 2.3030259815216065\n",
      "acc test: 0.1\n",
      "Train Epoch: 179 [0/50000 (0%)]\tLoss: 11337.778320\n"
     ]
    },
    {
     "name": "stderr",
     "output_type": "stream",
     "text": [
      " 36%|███▌      | 180/500 [9:53:45<17:19:49, 194.97s/it]"
     ]
    },
    {
     "name": "stdout",
     "output_type": "stream",
     "text": [
      "\n",
      "Test set: Average loss: 2.3030, Accuracy: 1000/10000 (10%)\n",
      "\n",
      "Epoch 179:\n",
      "loss train: tensor(11375.3750, device='cuda:0', grad_fn=<DivBackward0>)\n",
      "acc train: 0.1\n",
      "loss test: 2.303015182876587\n",
      "acc test: 0.1\n",
      "Train Epoch: 180 [0/50000 (0%)]\tLoss: 11455.101562\n"
     ]
    },
    {
     "name": "stderr",
     "output_type": "stream",
     "text": [
      " 36%|███▌      | 181/500 [9:57:00<17:16:35, 194.97s/it]"
     ]
    },
    {
     "name": "stdout",
     "output_type": "stream",
     "text": [
      "\n",
      "Test set: Average loss: 2.3030, Accuracy: 1000/10000 (10%)\n",
      "\n",
      "Epoch 180:\n",
      "loss train: tensor(11590.3555, device='cuda:0', grad_fn=<DivBackward0>)\n",
      "acc train: 0.1\n",
      "loss test: 2.303006622314453\n",
      "acc test: 0.1\n",
      "Train Epoch: 181 [0/50000 (0%)]\tLoss: 11707.277344\n"
     ]
    },
    {
     "name": "stderr",
     "output_type": "stream",
     "text": [
      " 36%|███▋      | 182/500 [10:00:15<17:13:20, 194.97s/it]"
     ]
    },
    {
     "name": "stdout",
     "output_type": "stream",
     "text": [
      "\n",
      "Test set: Average loss: 2.3030, Accuracy: 1000/10000 (10%)\n",
      "\n",
      "Epoch 181:\n",
      "loss train: tensor(11896.0840, device='cuda:0', grad_fn=<DivBackward0>)\n",
      "acc train: 0.1\n",
      "loss test: 2.3030070529937743\n",
      "acc test: 0.1\n",
      "Train Epoch: 182 [0/50000 (0%)]\tLoss: 12050.121094\n"
     ]
    },
    {
     "name": "stderr",
     "output_type": "stream",
     "text": [
      " 37%|███▋      | 183/500 [10:03:30<17:10:17, 195.01s/it]"
     ]
    },
    {
     "name": "stdout",
     "output_type": "stream",
     "text": [
      "\n",
      "Test set: Average loss: 2.3030, Accuracy: 1000/10000 (10%)\n",
      "\n",
      "Epoch 182:\n",
      "loss train: tensor(12195.5547, device='cuda:0', grad_fn=<DivBackward0>)\n",
      "acc train: 0.1\n",
      "loss test: 2.3030012237548827\n",
      "acc test: 0.1\n",
      "Train Epoch: 183 [0/50000 (0%)]\tLoss: 12376.230469\n"
     ]
    },
    {
     "name": "stderr",
     "output_type": "stream",
     "text": [
      " 37%|███▋      | 184/500 [10:06:45<17:07:13, 195.04s/it]"
     ]
    },
    {
     "name": "stdout",
     "output_type": "stream",
     "text": [
      "\n",
      "Test set: Average loss: 2.3031, Accuracy: 1000/10000 (10%)\n",
      "\n",
      "Epoch 183:\n",
      "loss train: tensor(12511.7725, device='cuda:0', grad_fn=<DivBackward0>)\n",
      "acc train: 0.1\n",
      "loss test: 2.3030896533966065\n",
      "acc test: 0.1\n",
      "Train Epoch: 184 [0/50000 (0%)]\tLoss: 12379.787109\n"
     ]
    },
    {
     "name": "stderr",
     "output_type": "stream",
     "text": [
      " 37%|███▋      | 185/500 [10:10:00<17:04:17, 195.10s/it]"
     ]
    },
    {
     "name": "stdout",
     "output_type": "stream",
     "text": [
      "\n",
      "Test set: Average loss: 2.3030, Accuracy: 1000/10000 (10%)\n",
      "\n",
      "Epoch 184:\n",
      "loss train: tensor(12646.4170, device='cuda:0', grad_fn=<DivBackward0>)\n",
      "acc train: 0.1\n",
      "loss test: 2.302994128036499\n",
      "acc test: 0.1\n",
      "Train Epoch: 185 [0/50000 (0%)]\tLoss: 12872.206055\n"
     ]
    },
    {
     "name": "stderr",
     "output_type": "stream",
     "text": [
      " 37%|███▋      | 186/500 [10:13:15<17:00:58, 195.09s/it]"
     ]
    },
    {
     "name": "stdout",
     "output_type": "stream",
     "text": [
      "\n",
      "Test set: Average loss: 2.3030, Accuracy: 1000/10000 (10%)\n",
      "\n",
      "Epoch 185:\n",
      "loss train: tensor(13018.9707, device='cuda:0', grad_fn=<DivBackward0>)\n",
      "acc train: 0.1\n",
      "loss test: 2.302976259994507\n",
      "acc test: 0.1\n",
      "Train Epoch: 186 [0/50000 (0%)]\tLoss: 13184.090820\n"
     ]
    },
    {
     "name": "stderr",
     "output_type": "stream",
     "text": [
      " 37%|███▋      | 187/500 [10:16:30<16:57:48, 195.11s/it]"
     ]
    },
    {
     "name": "stdout",
     "output_type": "stream",
     "text": [
      "\n",
      "Test set: Average loss: 2.3030, Accuracy: 1000/10000 (10%)\n",
      "\n",
      "Epoch 186:\n",
      "loss train: tensor(13352.9668, device='cuda:0', grad_fn=<DivBackward0>)\n",
      "acc train: 0.1\n",
      "loss test: 2.3029739978790285\n",
      "acc test: 0.1\n",
      "Train Epoch: 187 [0/50000 (0%)]\tLoss: 13528.416992\n"
     ]
    },
    {
     "name": "stderr",
     "output_type": "stream",
     "text": [
      " 38%|███▊      | 188/500 [10:19:45<16:54:32, 195.10s/it]"
     ]
    },
    {
     "name": "stdout",
     "output_type": "stream",
     "text": [
      "\n",
      "Test set: Average loss: 2.3030, Accuracy: 1000/10000 (10%)\n",
      "\n",
      "Epoch 187:\n",
      "loss train: tensor(13655.1855, device='cuda:0', grad_fn=<DivBackward0>)\n",
      "acc train: 0.1\n",
      "loss test: 2.3029575752258302\n",
      "acc test: 0.1\n",
      "Train Epoch: 188 [0/50000 (0%)]\tLoss: 13752.405273\n"
     ]
    },
    {
     "name": "stderr",
     "output_type": "stream",
     "text": [
      " 38%|███▊      | 189/500 [10:23:00<16:51:15, 195.10s/it]"
     ]
    },
    {
     "name": "stdout",
     "output_type": "stream",
     "text": [
      "\n",
      "Test set: Average loss: 2.3030, Accuracy: 1000/10000 (10%)\n",
      "\n",
      "Epoch 188:\n",
      "loss train: tensor(13874.6631, device='cuda:0', grad_fn=<DivBackward0>)\n",
      "acc train: 0.1\n",
      "loss test: 2.302952254104614\n",
      "acc test: 0.1\n",
      "Train Epoch: 189 [0/50000 (0%)]\tLoss: 13986.653320\n"
     ]
    },
    {
     "name": "stderr",
     "output_type": "stream",
     "text": [
      " 38%|███▊      | 190/500 [10:26:15<16:47:53, 195.08s/it]"
     ]
    },
    {
     "name": "stdout",
     "output_type": "stream",
     "text": [
      "\n",
      "Test set: Average loss: 2.3029, Accuracy: 1000/10000 (10%)\n",
      "\n",
      "Epoch 189:\n",
      "loss train: tensor(14193.0186, device='cuda:0', grad_fn=<DivBackward0>)\n",
      "acc train: 0.1\n",
      "loss test: 2.3029490184783934\n",
      "acc test: 0.1\n",
      "Train Epoch: 190 [0/50000 (0%)]\tLoss: 14418.059570\n"
     ]
    },
    {
     "name": "stderr",
     "output_type": "stream",
     "text": [
      " 38%|███▊      | 191/500 [10:29:31<16:44:41, 195.09s/it]"
     ]
    },
    {
     "name": "stdout",
     "output_type": "stream",
     "text": [
      "\n",
      "Test set: Average loss: 2.3029, Accuracy: 1000/10000 (10%)\n",
      "\n",
      "Epoch 190:\n",
      "loss train: tensor(14572.7061, device='cuda:0', grad_fn=<DivBackward0>)\n",
      "acc train: 0.1\n",
      "loss test: 2.3029434230804444\n",
      "acc test: 0.1\n",
      "Train Epoch: 191 [0/50000 (0%)]\tLoss: 14699.736328\n"
     ]
    },
    {
     "name": "stderr",
     "output_type": "stream",
     "text": [
      " 38%|███▊      | 192/500 [10:32:46<16:41:33, 195.11s/it]"
     ]
    },
    {
     "name": "stdout",
     "output_type": "stream",
     "text": [
      "\n",
      "Test set: Average loss: 2.3029, Accuracy: 1000/10000 (10%)\n",
      "\n",
      "Epoch 191:\n",
      "loss train: tensor(14882.4424, device='cuda:0', grad_fn=<DivBackward0>)\n",
      "acc train: 0.1\n",
      "loss test: 2.30293734703064\n",
      "acc test: 0.1\n",
      "Train Epoch: 192 [0/50000 (0%)]\tLoss: 15044.563477\n"
     ]
    },
    {
     "name": "stderr",
     "output_type": "stream",
     "text": [
      " 39%|███▊      | 193/500 [10:36:01<16:38:14, 195.10s/it]"
     ]
    },
    {
     "name": "stdout",
     "output_type": "stream",
     "text": [
      "\n",
      "Test set: Average loss: 2.3029, Accuracy: 1000/10000 (10%)\n",
      "\n",
      "Epoch 192:\n",
      "loss train: tensor(15231.2334, device='cuda:0', grad_fn=<DivBackward0>)\n",
      "acc train: 0.1\n",
      "loss test: 2.302934928894043\n",
      "acc test: 0.1\n",
      "Train Epoch: 193 [0/50000 (0%)]\tLoss: 15412.333008\n"
     ]
    },
    {
     "name": "stderr",
     "output_type": "stream",
     "text": [
      " 39%|███▉      | 194/500 [10:39:17<16:36:15, 195.35s/it]"
     ]
    },
    {
     "name": "stdout",
     "output_type": "stream",
     "text": [
      "\n",
      "Test set: Average loss: 2.3029, Accuracy: 1000/10000 (10%)\n",
      "\n",
      "Epoch 193:\n",
      "loss train: tensor(15639.3896, device='cuda:0', grad_fn=<DivBackward0>)\n",
      "acc train: 0.1\n",
      "loss test: 2.3029364822387697\n",
      "acc test: 0.1\n",
      "Train Epoch: 194 [0/50000 (0%)]\tLoss: 15848.842773\n"
     ]
    },
    {
     "name": "stderr",
     "output_type": "stream",
     "text": [
      " 39%|███▉      | 195/500 [10:42:33<16:33:51, 195.51s/it]"
     ]
    },
    {
     "name": "stdout",
     "output_type": "stream",
     "text": [
      "\n",
      "Test set: Average loss: 2.3029, Accuracy: 1000/10000 (10%)\n",
      "\n",
      "Epoch 194:\n",
      "loss train: tensor(15951.1719, device='cuda:0', grad_fn=<DivBackward0>)\n",
      "acc train: 0.1\n",
      "loss test: 2.3029227359771727\n",
      "acc test: 0.1\n",
      "Train Epoch: 195 [0/50000 (0%)]\tLoss: 16108.748047\n"
     ]
    },
    {
     "name": "stderr",
     "output_type": "stream",
     "text": [
      " 39%|███▉      | 196/500 [10:45:48<16:31:03, 195.60s/it]"
     ]
    },
    {
     "name": "stdout",
     "output_type": "stream",
     "text": [
      "\n",
      "Test set: Average loss: 2.3029, Accuracy: 1000/10000 (10%)\n",
      "\n",
      "Epoch 195:\n",
      "loss train: tensor(16333.2168, device='cuda:0', grad_fn=<DivBackward0>)\n",
      "acc train: 0.1\n",
      "loss test: 2.3029246326446535\n",
      "acc test: 0.1\n",
      "Train Epoch: 196 [0/50000 (0%)]\tLoss: 16554.621094\n"
     ]
    },
    {
     "name": "stderr",
     "output_type": "stream",
     "text": [
      " 39%|███▉      | 197/500 [10:49:04<16:27:24, 195.53s/it]"
     ]
    },
    {
     "name": "stdout",
     "output_type": "stream",
     "text": [
      "\n",
      "Test set: Average loss: 2.3029, Accuracy: 1000/10000 (10%)\n",
      "\n",
      "Epoch 196:\n",
      "loss train: tensor(16706.6113, device='cuda:0', grad_fn=<DivBackward0>)\n",
      "acc train: 0.1\n",
      "loss test: 2.302916733932495\n",
      "acc test: 0.1\n",
      "Train Epoch: 197 [0/50000 (0%)]\tLoss: 16894.312500\n"
     ]
    },
    {
     "name": "stderr",
     "output_type": "stream",
     "text": [
      " 40%|███▉      | 198/500 [10:52:19<16:23:50, 195.47s/it]"
     ]
    },
    {
     "name": "stdout",
     "output_type": "stream",
     "text": [
      "\n",
      "Test set: Average loss: 2.3029, Accuracy: 1000/10000 (10%)\n",
      "\n",
      "Epoch 197:\n",
      "loss train: tensor(17007.0918, device='cuda:0', grad_fn=<DivBackward0>)\n",
      "acc train: 0.1\n",
      "loss test: 2.3029068992614747\n",
      "acc test: 0.1\n",
      "Train Epoch: 198 [0/50000 (0%)]\tLoss: 17119.865234\n"
     ]
    },
    {
     "name": "stderr",
     "output_type": "stream",
     "text": [
      " 40%|███▉      | 199/500 [10:55:35<16:21:31, 195.65s/it]"
     ]
    },
    {
     "name": "stdout",
     "output_type": "stream",
     "text": [
      "\n",
      "Test set: Average loss: 2.3029, Accuracy: 1000/10000 (10%)\n",
      "\n",
      "Epoch 198:\n",
      "loss train: tensor(17282.0371, device='cuda:0', grad_fn=<DivBackward0>)\n",
      "acc train: 0.1\n",
      "loss test: 2.3029038326263427\n",
      "acc test: 0.1\n",
      "Train Epoch: 199 [0/50000 (0%)]\tLoss: 17459.431641\n",
      "\n",
      "Test set: Average loss: 2.3029, Accuracy: 1000/10000 (10%)\n",
      "\n",
      "Epoch 199:\n",
      "loss train: tensor(17668.1484, device='cuda:0', grad_fn=<DivBackward0>)\n",
      "acc train: 0.1\n",
      "loss test: 2.3028991127014162\n",
      "acc test: 0.1\n"
     ]
    },
    {
     "name": "stderr",
     "output_type": "stream",
     "text": [
      " 40%|████      | 200/500 [10:59:10<16:47:27, 201.49s/it]"
     ]
    },
    {
     "name": "stdout",
     "output_type": "stream",
     "text": [
      "PGD attack Acc 10.000\n",
      "pgd_acc test: 0.1\n",
      "Train Epoch: 200 [0/50000 (0%)]\tLoss: 17849.080078\n"
     ]
    },
    {
     "name": "stderr",
     "output_type": "stream",
     "text": [
      " 40%|████      | 201/500 [11:02:26<16:35:22, 199.74s/it]"
     ]
    },
    {
     "name": "stdout",
     "output_type": "stream",
     "text": [
      "\n",
      "Test set: Average loss: 2.3029, Accuracy: 1000/10000 (10%)\n",
      "\n",
      "Epoch 200:\n",
      "loss train: tensor(17998.3066, device='cuda:0', grad_fn=<DivBackward0>)\n",
      "acc train: 0.1\n",
      "loss test: 2.3028984893798827\n",
      "acc test: 0.1\n",
      "Train Epoch: 201 [0/50000 (0%)]\tLoss: 18175.726562\n"
     ]
    },
    {
     "name": "stderr",
     "output_type": "stream",
     "text": [
      " 40%|████      | 202/500 [11:05:42<16:26:34, 198.64s/it]"
     ]
    },
    {
     "name": "stdout",
     "output_type": "stream",
     "text": [
      "\n",
      "Test set: Average loss: 2.3029, Accuracy: 1000/10000 (10%)\n",
      "\n",
      "Epoch 201:\n",
      "loss train: tensor(18342.2402, device='cuda:0', grad_fn=<DivBackward0>)\n",
      "acc train: 0.1\n",
      "loss test: 2.3028984092712403\n",
      "acc test: 0.1\n",
      "Train Epoch: 202 [0/50000 (0%)]\tLoss: 18534.011719\n"
     ]
    },
    {
     "name": "stderr",
     "output_type": "stream",
     "text": [
      " 41%|████      | 203/500 [11:08:58<16:18:40, 197.71s/it]"
     ]
    },
    {
     "name": "stdout",
     "output_type": "stream",
     "text": [
      "\n",
      "Test set: Average loss: 2.3029, Accuracy: 1000/10000 (10%)\n",
      "\n",
      "Epoch 202:\n",
      "loss train: tensor(18733.9570, device='cuda:0', grad_fn=<DivBackward0>)\n",
      "acc train: 0.1\n",
      "loss test: 2.3028841014862063\n",
      "acc test: 0.1\n",
      "Train Epoch: 203 [0/50000 (0%)]\tLoss: 18869.414062\n"
     ]
    },
    {
     "name": "stderr",
     "output_type": "stream",
     "text": [
      " 41%|████      | 204/500 [11:12:14<16:12:55, 197.21s/it]"
     ]
    },
    {
     "name": "stdout",
     "output_type": "stream",
     "text": [
      "\n",
      "Test set: Average loss: 2.3029, Accuracy: 1000/10000 (10%)\n",
      "\n",
      "Epoch 203:\n",
      "loss train: tensor(19106.7461, device='cuda:0', grad_fn=<DivBackward0>)\n",
      "acc train: 0.1\n",
      "loss test: 2.3028898872375487\n",
      "acc test: 0.1\n",
      "Train Epoch: 204 [0/50000 (0%)]\tLoss: 19353.964844\n"
     ]
    },
    {
     "name": "stderr",
     "output_type": "stream",
     "text": [
      " 41%|████      | 205/500 [11:15:30<16:07:44, 196.83s/it]"
     ]
    },
    {
     "name": "stdout",
     "output_type": "stream",
     "text": [
      "\n",
      "Test set: Average loss: 2.3029, Accuracy: 1000/10000 (10%)\n",
      "\n",
      "Epoch 204:\n",
      "loss train: tensor(19453.2031, device='cuda:0', grad_fn=<DivBackward0>)\n",
      "acc train: 0.1\n",
      "loss test: 2.302880255508423\n",
      "acc test: 0.1\n",
      "Train Epoch: 205 [0/50000 (0%)]\tLoss: 19652.234375\n"
     ]
    },
    {
     "name": "stderr",
     "output_type": "stream",
     "text": [
      " 41%|████      | 206/500 [11:18:46<16:03:09, 196.56s/it]"
     ]
    },
    {
     "name": "stdout",
     "output_type": "stream",
     "text": [
      "\n",
      "Test set: Average loss: 2.3029, Accuracy: 1000/10000 (10%)\n",
      "\n",
      "Epoch 205:\n",
      "loss train: tensor(19867.7461, device='cuda:0', grad_fn=<DivBackward0>)\n",
      "acc train: 0.1\n",
      "loss test: 2.3028760643005373\n",
      "acc test: 0.1\n",
      "Train Epoch: 206 [0/50000 (0%)]\tLoss: 20039.849609\n"
     ]
    },
    {
     "name": "stderr",
     "output_type": "stream",
     "text": [
      " 41%|████▏     | 207/500 [11:22:02<15:59:19, 196.45s/it]"
     ]
    },
    {
     "name": "stdout",
     "output_type": "stream",
     "text": [
      "\n",
      "Test set: Average loss: 2.3029, Accuracy: 1000/10000 (10%)\n",
      "\n",
      "Epoch 206:\n",
      "loss train: tensor(20167.0977, device='cuda:0', grad_fn=<DivBackward0>)\n",
      "acc train: 0.1\n",
      "loss test: 2.3028719493865966\n",
      "acc test: 0.1\n",
      "Train Epoch: 207 [0/50000 (0%)]\tLoss: 20283.310547\n"
     ]
    },
    {
     "name": "stderr",
     "output_type": "stream",
     "text": [
      " 42%|████▏     | 208/500 [11:25:18<15:55:24, 196.32s/it]"
     ]
    },
    {
     "name": "stdout",
     "output_type": "stream",
     "text": [
      "\n",
      "Test set: Average loss: 2.3029, Accuracy: 1000/10000 (10%)\n",
      "\n",
      "Epoch 207:\n",
      "loss train: tensor(20429.0527, device='cuda:0', grad_fn=<DivBackward0>)\n",
      "acc train: 0.1\n",
      "loss test: 2.302864221191406\n",
      "acc test: 0.1\n",
      "Train Epoch: 208 [0/50000 (0%)]\tLoss: 20598.761719\n"
     ]
    },
    {
     "name": "stderr",
     "output_type": "stream",
     "text": [
      " 42%|████▏     | 209/500 [11:28:34<15:51:44, 196.23s/it]"
     ]
    },
    {
     "name": "stdout",
     "output_type": "stream",
     "text": [
      "\n",
      "Test set: Average loss: 2.3029, Accuracy: 1000/10000 (10%)\n",
      "\n",
      "Epoch 208:\n",
      "loss train: tensor(20756.3945, device='cuda:0', grad_fn=<DivBackward0>)\n",
      "acc train: 0.1\n",
      "loss test: 2.3028654960632324\n",
      "acc test: 0.1\n",
      "Train Epoch: 209 [0/50000 (0%)]\tLoss: 20934.025391\n"
     ]
    },
    {
     "name": "stderr",
     "output_type": "stream",
     "text": [
      " 42%|████▏     | 210/500 [11:31:50<15:48:11, 196.18s/it]"
     ]
    },
    {
     "name": "stdout",
     "output_type": "stream",
     "text": [
      "\n",
      "Test set: Average loss: 2.3029, Accuracy: 1000/10000 (10%)\n",
      "\n",
      "Epoch 209:\n",
      "loss train: tensor(21116.8125, device='cuda:0', grad_fn=<DivBackward0>)\n",
      "acc train: 0.1\n",
      "loss test: 2.3028630043029783\n",
      "acc test: 0.1\n",
      "Train Epoch: 210 [0/50000 (0%)]\tLoss: 21313.791016\n"
     ]
    },
    {
     "name": "stderr",
     "output_type": "stream",
     "text": [
      " 42%|████▏     | 211/500 [11:35:05<15:43:30, 195.89s/it]"
     ]
    },
    {
     "name": "stdout",
     "output_type": "stream",
     "text": [
      "\n",
      "Test set: Average loss: 2.3029, Accuracy: 1000/10000 (10%)\n",
      "\n",
      "Epoch 210:\n",
      "loss train: tensor(21480.9238, device='cuda:0', grad_fn=<DivBackward0>)\n",
      "acc train: 0.1\n",
      "loss test: 2.3028548324584963\n",
      "acc test: 0.1\n",
      "Train Epoch: 211 [0/50000 (0%)]\tLoss: 21601.435547\n"
     ]
    },
    {
     "name": "stderr",
     "output_type": "stream",
     "text": [
      " 42%|████▏     | 212/500 [11:38:20<15:38:46, 195.58s/it]"
     ]
    },
    {
     "name": "stdout",
     "output_type": "stream",
     "text": [
      "\n",
      "Test set: Average loss: 2.3029, Accuracy: 1000/10000 (10%)\n",
      "\n",
      "Epoch 211:\n",
      "loss train: tensor(21735.8086, device='cuda:0', grad_fn=<DivBackward0>)\n",
      "acc train: 0.1\n",
      "loss test: 2.3028529582977293\n",
      "acc test: 0.1\n",
      "Train Epoch: 212 [0/50000 (0%)]\tLoss: 21868.451172\n"
     ]
    },
    {
     "name": "stderr",
     "output_type": "stream",
     "text": [
      " 43%|████▎     | 213/500 [11:41:35<15:34:43, 195.41s/it]"
     ]
    },
    {
     "name": "stdout",
     "output_type": "stream",
     "text": [
      "\n",
      "Test set: Average loss: 2.3028, Accuracy: 1000/10000 (10%)\n",
      "\n",
      "Epoch 212:\n",
      "loss train: tensor(21952.2734, device='cuda:0', grad_fn=<DivBackward0>)\n",
      "acc train: 0.1\n",
      "loss test: 2.302848007583618\n",
      "acc test: 0.1\n",
      "Train Epoch: 213 [0/50000 (0%)]\tLoss: 22060.392578\n"
     ]
    },
    {
     "name": "stderr",
     "output_type": "stream",
     "text": [
      " 43%|████▎     | 214/500 [11:44:50<15:31:10, 195.35s/it]"
     ]
    },
    {
     "name": "stdout",
     "output_type": "stream",
     "text": [
      "\n",
      "Test set: Average loss: 2.3028, Accuracy: 1000/10000 (10%)\n",
      "\n",
      "Epoch 213:\n",
      "loss train: tensor(22063.1855, device='cuda:0', grad_fn=<DivBackward0>)\n",
      "acc train: 0.1\n",
      "loss test: 2.3028417877197267\n",
      "acc test: 0.1\n",
      "Train Epoch: 214 [0/50000 (0%)]\tLoss: 22091.146484\n"
     ]
    },
    {
     "name": "stderr",
     "output_type": "stream",
     "text": [
      " 43%|████▎     | 215/500 [11:48:05<15:27:33, 195.28s/it]"
     ]
    },
    {
     "name": "stdout",
     "output_type": "stream",
     "text": [
      "\n",
      "Test set: Average loss: 2.3028, Accuracy: 1000/10000 (10%)\n",
      "\n",
      "Epoch 214:\n",
      "loss train: tensor(22273.9043, device='cuda:0', grad_fn=<DivBackward0>)\n",
      "acc train: 0.1\n",
      "loss test: 2.3028387981414795\n",
      "acc test: 0.1\n",
      "Train Epoch: 215 [0/50000 (0%)]\tLoss: 22368.083984\n"
     ]
    },
    {
     "name": "stderr",
     "output_type": "stream",
     "text": [
      " 43%|████▎     | 216/500 [11:51:20<15:23:58, 195.21s/it]"
     ]
    },
    {
     "name": "stdout",
     "output_type": "stream",
     "text": [
      "\n",
      "Test set: Average loss: 2.3028, Accuracy: 1000/10000 (10%)\n",
      "\n",
      "Epoch 215:\n",
      "loss train: tensor(22510.1113, device='cuda:0', grad_fn=<DivBackward0>)\n",
      "acc train: 0.1\n",
      "loss test: 2.302838489151001\n",
      "acc test: 0.1\n",
      "Train Epoch: 216 [0/50000 (0%)]\tLoss: 22499.619141\n"
     ]
    },
    {
     "name": "stderr",
     "output_type": "stream",
     "text": [
      " 43%|████▎     | 217/500 [11:54:35<15:20:21, 195.13s/it]"
     ]
    },
    {
     "name": "stdout",
     "output_type": "stream",
     "text": [
      "\n",
      "Test set: Average loss: 2.3028, Accuracy: 1000/10000 (10%)\n",
      "\n",
      "Epoch 216:\n",
      "loss train: tensor(22570.0664, device='cuda:0', grad_fn=<DivBackward0>)\n",
      "acc train: 0.1\n",
      "loss test: 2.3028268898010253\n",
      "acc test: 0.1\n",
      "Train Epoch: 217 [0/50000 (0%)]\tLoss: 22590.369141\n"
     ]
    },
    {
     "name": "stderr",
     "output_type": "stream",
     "text": [
      " 44%|████▎     | 218/500 [11:57:50<15:17:05, 195.13s/it]"
     ]
    },
    {
     "name": "stdout",
     "output_type": "stream",
     "text": [
      "\n",
      "Test set: Average loss: 2.3028, Accuracy: 1000/10000 (10%)\n",
      "\n",
      "Epoch 217:\n",
      "loss train: tensor(22753.9746, device='cuda:0', grad_fn=<DivBackward0>)\n",
      "acc train: 0.1\n",
      "loss test: 2.302825496673584\n",
      "acc test: 0.1\n",
      "Train Epoch: 218 [0/50000 (0%)]\tLoss: 22837.222656\n"
     ]
    },
    {
     "name": "stderr",
     "output_type": "stream",
     "text": [
      " 44%|████▍     | 219/500 [12:01:06<15:14:05, 195.18s/it]"
     ]
    },
    {
     "name": "stdout",
     "output_type": "stream",
     "text": [
      "\n",
      "Test set: Average loss: 2.3028, Accuracy: 1000/10000 (10%)\n",
      "\n",
      "Epoch 218:\n",
      "loss train: tensor(22995.6016, device='cuda:0', grad_fn=<DivBackward0>)\n",
      "acc train: 0.1\n",
      "loss test: 2.302827233505249\n",
      "acc test: 0.1\n",
      "Train Epoch: 219 [0/50000 (0%)]\tLoss: 23132.042969\n"
     ]
    },
    {
     "name": "stderr",
     "output_type": "stream",
     "text": [
      " 44%|████▍     | 220/500 [12:04:21<15:10:36, 195.13s/it]"
     ]
    },
    {
     "name": "stdout",
     "output_type": "stream",
     "text": [
      "\n",
      "Test set: Average loss: 2.3028, Accuracy: 1000/10000 (10%)\n",
      "\n",
      "Epoch 219:\n",
      "loss train: tensor(23159.6152, device='cuda:0', grad_fn=<DivBackward0>)\n",
      "acc train: 0.1\n",
      "loss test: 2.3028218433380125\n",
      "acc test: 0.1\n",
      "Train Epoch: 220 [0/50000 (0%)]\tLoss: 23233.656250\n"
     ]
    },
    {
     "name": "stderr",
     "output_type": "stream",
     "text": [
      " 44%|████▍     | 221/500 [12:07:36<15:07:18, 195.12s/it]"
     ]
    },
    {
     "name": "stdout",
     "output_type": "stream",
     "text": [
      "\n",
      "Test set: Average loss: 2.3028, Accuracy: 1000/10000 (10%)\n",
      "\n",
      "Epoch 220:\n",
      "loss train: tensor(23377.4688, device='cuda:0', grad_fn=<DivBackward0>)\n",
      "acc train: 0.1\n",
      "loss test: 2.3028168212890625\n",
      "acc test: 0.1\n",
      "Train Epoch: 221 [0/50000 (0%)]\tLoss: 23485.804688\n"
     ]
    },
    {
     "name": "stderr",
     "output_type": "stream",
     "text": [
      " 44%|████▍     | 222/500 [12:10:51<15:04:03, 195.12s/it]"
     ]
    },
    {
     "name": "stdout",
     "output_type": "stream",
     "text": [
      "\n",
      "Test set: Average loss: 2.3028, Accuracy: 1000/10000 (10%)\n",
      "\n",
      "Epoch 221:\n",
      "loss train: tensor(23516.5527, device='cuda:0', grad_fn=<DivBackward0>)\n",
      "acc train: 0.1\n",
      "loss test: 2.3028163105010986\n",
      "acc test: 0.1\n",
      "Train Epoch: 222 [0/50000 (0%)]\tLoss: 23485.804688\n"
     ]
    },
    {
     "name": "stderr",
     "output_type": "stream",
     "text": [
      " 45%|████▍     | 223/500 [12:14:06<15:00:45, 195.11s/it]"
     ]
    },
    {
     "name": "stdout",
     "output_type": "stream",
     "text": [
      "\n",
      "Test set: Average loss: 2.3028, Accuracy: 1000/10000 (10%)\n",
      "\n",
      "Epoch 222:\n",
      "loss train: tensor(23519.1074, device='cuda:0', grad_fn=<DivBackward0>)\n",
      "acc train: 0.1\n",
      "loss test: 2.302813915634155\n",
      "acc test: 0.1\n",
      "Train Epoch: 223 [0/50000 (0%)]\tLoss: 23663.107422\n"
     ]
    },
    {
     "name": "stderr",
     "output_type": "stream",
     "text": [
      " 45%|████▍     | 224/500 [12:17:21<14:57:27, 195.10s/it]"
     ]
    },
    {
     "name": "stdout",
     "output_type": "stream",
     "text": [
      "\n",
      "Test set: Average loss: 2.3028, Accuracy: 1000/10000 (10%)\n",
      "\n",
      "Epoch 223:\n",
      "loss train: tensor(23827.1250, device='cuda:0', grad_fn=<DivBackward0>)\n",
      "acc train: 0.1\n",
      "loss test: 2.302810903930664\n",
      "acc test: 0.1\n",
      "Train Epoch: 224 [0/50000 (0%)]\tLoss: 23968.796875\n"
     ]
    },
    {
     "name": "stderr",
     "output_type": "stream",
     "text": [
      " 45%|████▌     | 225/500 [12:20:36<14:53:59, 195.05s/it]"
     ]
    },
    {
     "name": "stdout",
     "output_type": "stream",
     "text": [
      "\n",
      "Test set: Average loss: 2.3028, Accuracy: 1000/10000 (10%)\n",
      "\n",
      "Epoch 224:\n",
      "loss train: tensor(24039.9902, device='cuda:0', grad_fn=<DivBackward0>)\n",
      "acc train: 0.1\n",
      "loss test: 2.302811672592163\n",
      "acc test: 0.1\n",
      "Train Epoch: 225 [0/50000 (0%)]\tLoss: 24043.037109\n"
     ]
    },
    {
     "name": "stderr",
     "output_type": "stream",
     "text": [
      " 45%|████▌     | 226/500 [12:23:51<14:50:48, 195.07s/it]"
     ]
    },
    {
     "name": "stdout",
     "output_type": "stream",
     "text": [
      "\n",
      "Test set: Average loss: 2.3028, Accuracy: 1000/10000 (10%)\n",
      "\n",
      "Epoch 225:\n",
      "loss train: tensor(23976.5000, device='cuda:0', grad_fn=<DivBackward0>)\n",
      "acc train: 0.1\n",
      "loss test: 2.3028170154571534\n",
      "acc test: 0.1\n",
      "Train Epoch: 226 [0/50000 (0%)]\tLoss: 24212.203125\n"
     ]
    },
    {
     "name": "stderr",
     "output_type": "stream",
     "text": [
      " 45%|████▌     | 227/500 [12:27:06<14:47:38, 195.09s/it]"
     ]
    },
    {
     "name": "stdout",
     "output_type": "stream",
     "text": [
      "\n",
      "Test set: Average loss: 2.3028, Accuracy: 1000/10000 (10%)\n",
      "\n",
      "Epoch 226:\n",
      "loss train: tensor(24247.1699, device='cuda:0', grad_fn=<DivBackward0>)\n",
      "acc train: 0.1\n",
      "loss test: 2.3028114036560057\n",
      "acc test: 0.1\n",
      "Train Epoch: 227 [0/50000 (0%)]\tLoss: 24434.292969\n"
     ]
    },
    {
     "name": "stderr",
     "output_type": "stream",
     "text": [
      " 46%|████▌     | 228/500 [12:30:21<14:44:11, 195.04s/it]"
     ]
    },
    {
     "name": "stdout",
     "output_type": "stream",
     "text": [
      "\n",
      "Test set: Average loss: 2.3028, Accuracy: 1000/10000 (10%)\n",
      "\n",
      "Epoch 227:\n",
      "loss train: tensor(24438.3691, device='cuda:0', grad_fn=<DivBackward0>)\n",
      "acc train: 0.1\n",
      "loss test: 2.302798691558838\n",
      "acc test: 0.1\n",
      "Train Epoch: 228 [0/50000 (0%)]\tLoss: 24493.761719\n"
     ]
    },
    {
     "name": "stderr",
     "output_type": "stream",
     "text": [
      " 46%|████▌     | 229/500 [12:33:36<14:40:56, 195.04s/it]"
     ]
    },
    {
     "name": "stdout",
     "output_type": "stream",
     "text": [
      "\n",
      "Test set: Average loss: 2.3028, Accuracy: 1000/10000 (10%)\n",
      "\n",
      "Epoch 228:\n",
      "loss train: tensor(24495.0762, device='cuda:0', grad_fn=<DivBackward0>)\n",
      "acc train: 0.1\n",
      "loss test: 2.302794649887085\n",
      "acc test: 0.1\n",
      "Train Epoch: 229 [0/50000 (0%)]\tLoss: 24498.371094\n"
     ]
    },
    {
     "name": "stderr",
     "output_type": "stream",
     "text": [
      " 46%|████▌     | 230/500 [12:36:51<14:37:50, 195.08s/it]"
     ]
    },
    {
     "name": "stdout",
     "output_type": "stream",
     "text": [
      "\n",
      "Test set: Average loss: 2.3028, Accuracy: 1000/10000 (10%)\n",
      "\n",
      "Epoch 229:\n",
      "loss train: tensor(24605.5215, device='cuda:0', grad_fn=<DivBackward0>)\n",
      "acc train: 0.1\n",
      "loss test: 2.302792813873291\n",
      "acc test: 0.1\n",
      "Train Epoch: 230 [0/50000 (0%)]\tLoss: 24695.669922\n"
     ]
    },
    {
     "name": "stderr",
     "output_type": "stream",
     "text": [
      " 46%|████▌     | 231/500 [12:40:07<14:35:04, 195.18s/it]"
     ]
    },
    {
     "name": "stdout",
     "output_type": "stream",
     "text": [
      "\n",
      "Test set: Average loss: 2.3028, Accuracy: 1000/10000 (10%)\n",
      "\n",
      "Epoch 230:\n",
      "loss train: tensor(24707.1699, device='cuda:0', grad_fn=<DivBackward0>)\n",
      "acc train: 0.1\n",
      "loss test: 2.302794268798828\n",
      "acc test: 0.1\n",
      "Train Epoch: 231 [0/50000 (0%)]\tLoss: 24735.742188\n"
     ]
    },
    {
     "name": "stderr",
     "output_type": "stream",
     "text": [
      " 46%|████▋     | 232/500 [12:43:22<14:31:56, 195.21s/it]"
     ]
    },
    {
     "name": "stdout",
     "output_type": "stream",
     "text": [
      "\n",
      "Test set: Average loss: 2.3028, Accuracy: 1000/10000 (10%)\n",
      "\n",
      "Epoch 231:\n",
      "loss train: tensor(24713.1074, device='cuda:0', grad_fn=<DivBackward0>)\n",
      "acc train: 0.1\n",
      "loss test: 2.302790380859375\n",
      "acc test: 0.1\n",
      "Train Epoch: 232 [0/50000 (0%)]\tLoss: 24848.636719\n"
     ]
    },
    {
     "name": "stderr",
     "output_type": "stream",
     "text": [
      " 47%|████▋     | 233/500 [12:46:38<14:29:11, 195.33s/it]"
     ]
    },
    {
     "name": "stdout",
     "output_type": "stream",
     "text": [
      "\n",
      "Test set: Average loss: 2.3028, Accuracy: 1000/10000 (10%)\n",
      "\n",
      "Epoch 232:\n",
      "loss train: tensor(24931.5195, device='cuda:0', grad_fn=<DivBackward0>)\n",
      "acc train: 0.1\n",
      "loss test: 2.302786502456665\n",
      "acc test: 0.1\n",
      "Train Epoch: 233 [0/50000 (0%)]\tLoss: 25060.660156\n"
     ]
    },
    {
     "name": "stderr",
     "output_type": "stream",
     "text": [
      " 47%|████▋     | 234/500 [12:49:53<14:26:36, 195.47s/it]"
     ]
    },
    {
     "name": "stdout",
     "output_type": "stream",
     "text": [
      "\n",
      "Test set: Average loss: 2.3028, Accuracy: 1000/10000 (10%)\n",
      "\n",
      "Epoch 233:\n",
      "loss train: tensor(25130.6191, device='cuda:0', grad_fn=<DivBackward0>)\n",
      "acc train: 0.1\n",
      "loss test: 2.3027839424133303\n",
      "acc test: 0.1\n",
      "Train Epoch: 234 [0/50000 (0%)]\tLoss: 25223.152344\n"
     ]
    },
    {
     "name": "stderr",
     "output_type": "stream",
     "text": [
      " 47%|████▋     | 235/500 [12:53:09<14:23:09, 195.43s/it]"
     ]
    },
    {
     "name": "stdout",
     "output_type": "stream",
     "text": [
      "\n",
      "Test set: Average loss: 2.3028, Accuracy: 1000/10000 (10%)\n",
      "\n",
      "Epoch 234:\n",
      "loss train: tensor(25266.3828, device='cuda:0', grad_fn=<DivBackward0>)\n",
      "acc train: 0.1\n",
      "loss test: 2.302780954360962\n",
      "acc test: 0.1\n",
      "Train Epoch: 235 [0/50000 (0%)]\tLoss: 25324.466797\n"
     ]
    },
    {
     "name": "stderr",
     "output_type": "stream",
     "text": [
      " 47%|████▋     | 236/500 [12:56:24<14:19:57, 195.44s/it]"
     ]
    },
    {
     "name": "stdout",
     "output_type": "stream",
     "text": [
      "\n",
      "Test set: Average loss: 2.3028, Accuracy: 1000/10000 (10%)\n",
      "\n",
      "Epoch 235:\n",
      "loss train: tensor(25353.5664, device='cuda:0', grad_fn=<DivBackward0>)\n",
      "acc train: 0.1\n",
      "loss test: 2.302777661895752\n",
      "acc test: 0.1\n",
      "Train Epoch: 236 [0/50000 (0%)]\tLoss: 25343.832031\n"
     ]
    },
    {
     "name": "stderr",
     "output_type": "stream",
     "text": [
      " 47%|████▋     | 237/500 [12:59:40<14:17:38, 195.66s/it]"
     ]
    },
    {
     "name": "stdout",
     "output_type": "stream",
     "text": [
      "\n",
      "Test set: Average loss: 2.3028, Accuracy: 1000/10000 (10%)\n",
      "\n",
      "Epoch 236:\n",
      "loss train: tensor(25336.2715, device='cuda:0', grad_fn=<DivBackward0>)\n",
      "acc train: 0.1\n",
      "loss test: 2.302773426437378\n",
      "acc test: 0.1\n",
      "Train Epoch: 237 [0/50000 (0%)]\tLoss: 25306.023438\n"
     ]
    },
    {
     "name": "stderr",
     "output_type": "stream",
     "text": [
      " 48%|████▊     | 238/500 [13:02:57<14:15:03, 195.82s/it]"
     ]
    },
    {
     "name": "stdout",
     "output_type": "stream",
     "text": [
      "\n",
      "Test set: Average loss: 2.3028, Accuracy: 1000/10000 (10%)\n",
      "\n",
      "Epoch 237:\n",
      "loss train: tensor(25320.0840, device='cuda:0', grad_fn=<DivBackward0>)\n",
      "acc train: 0.1\n",
      "loss test: 2.302774010848999\n",
      "acc test: 0.1\n",
      "Train Epoch: 238 [0/50000 (0%)]\tLoss: 25351.041016\n"
     ]
    },
    {
     "name": "stderr",
     "output_type": "stream",
     "text": [
      " 48%|████▊     | 239/500 [13:06:13<14:12:12, 195.91s/it]"
     ]
    },
    {
     "name": "stdout",
     "output_type": "stream",
     "text": [
      "\n",
      "Test set: Average loss: 2.3028, Accuracy: 1000/10000 (10%)\n",
      "\n",
      "Epoch 238:\n",
      "loss train: tensor(25399.5117, device='cuda:0', grad_fn=<DivBackward0>)\n",
      "acc train: 0.1\n",
      "loss test: 2.3027712814331056\n",
      "acc test: 0.1\n",
      "Train Epoch: 239 [0/50000 (0%)]\tLoss: 25379.673828\n"
     ]
    },
    {
     "name": "stderr",
     "output_type": "stream",
     "text": [
      " 48%|████▊     | 240/500 [13:09:29<14:09:21, 196.01s/it]"
     ]
    },
    {
     "name": "stdout",
     "output_type": "stream",
     "text": [
      "\n",
      "Test set: Average loss: 2.3028, Accuracy: 1000/10000 (10%)\n",
      "\n",
      "Epoch 239:\n",
      "loss train: tensor(25352.1465, device='cuda:0', grad_fn=<DivBackward0>)\n",
      "acc train: 0.1\n",
      "loss test: 2.3027685668945312\n",
      "acc test: 0.1\n",
      "Train Epoch: 240 [0/50000 (0%)]\tLoss: 25384.230469\n"
     ]
    },
    {
     "name": "stderr",
     "output_type": "stream",
     "text": [
      " 48%|████▊     | 241/500 [13:12:45<14:05:53, 195.96s/it]"
     ]
    },
    {
     "name": "stdout",
     "output_type": "stream",
     "text": [
      "\n",
      "Test set: Average loss: 2.3028, Accuracy: 1000/10000 (10%)\n",
      "\n",
      "Epoch 240:\n",
      "loss train: tensor(25448.6406, device='cuda:0', grad_fn=<DivBackward0>)\n",
      "acc train: 0.1\n",
      "loss test: 2.30276569442749\n",
      "acc test: 0.1\n",
      "Train Epoch: 241 [0/50000 (0%)]\tLoss: 25433.914062\n"
     ]
    },
    {
     "name": "stderr",
     "output_type": "stream",
     "text": [
      " 48%|████▊     | 242/500 [13:16:01<14:02:19, 195.89s/it]"
     ]
    },
    {
     "name": "stdout",
     "output_type": "stream",
     "text": [
      "\n",
      "Test set: Average loss: 2.3028, Accuracy: 1000/10000 (10%)\n",
      "\n",
      "Epoch 241:\n",
      "loss train: tensor(25448.9453, device='cuda:0', grad_fn=<DivBackward0>)\n",
      "acc train: 0.1\n",
      "loss test: 2.30276388130188\n",
      "acc test: 0.1\n",
      "Train Epoch: 242 [0/50000 (0%)]\tLoss: 25505.531250\n"
     ]
    },
    {
     "name": "stderr",
     "output_type": "stream",
     "text": [
      " 49%|████▊     | 243/500 [13:19:16<13:58:30, 195.76s/it]"
     ]
    },
    {
     "name": "stdout",
     "output_type": "stream",
     "text": [
      "\n",
      "Test set: Average loss: 2.3028, Accuracy: 1000/10000 (10%)\n",
      "\n",
      "Epoch 242:\n",
      "loss train: tensor(25460.5352, device='cuda:0', grad_fn=<DivBackward0>)\n",
      "acc train: 0.1\n",
      "loss test: 2.302762043380737\n",
      "acc test: 0.1\n",
      "Train Epoch: 243 [0/50000 (0%)]\tLoss: 25322.230469\n"
     ]
    },
    {
     "name": "stderr",
     "output_type": "stream",
     "text": [
      " 49%|████▉     | 244/500 [13:22:32<13:55:23, 195.80s/it]"
     ]
    },
    {
     "name": "stdout",
     "output_type": "stream",
     "text": [
      "\n",
      "Test set: Average loss: 2.3028, Accuracy: 1000/10000 (10%)\n",
      "\n",
      "Epoch 243:\n",
      "loss train: tensor(25389.8125, device='cuda:0', grad_fn=<DivBackward0>)\n",
      "acc train: 0.1\n",
      "loss test: 2.30275906791687\n",
      "acc test: 0.1\n",
      "Train Epoch: 244 [0/50000 (0%)]\tLoss: 25446.304688\n"
     ]
    },
    {
     "name": "stderr",
     "output_type": "stream",
     "text": [
      " 49%|████▉     | 245/500 [13:25:48<13:52:03, 195.78s/it]"
     ]
    },
    {
     "name": "stdout",
     "output_type": "stream",
     "text": [
      "\n",
      "Test set: Average loss: 2.3028, Accuracy: 1000/10000 (10%)\n",
      "\n",
      "Epoch 244:\n",
      "loss train: tensor(25474.9434, device='cuda:0', grad_fn=<DivBackward0>)\n",
      "acc train: 0.1\n",
      "loss test: 2.3027562484741213\n",
      "acc test: 0.1\n",
      "Train Epoch: 245 [0/50000 (0%)]\tLoss: 25422.132812\n"
     ]
    },
    {
     "name": "stderr",
     "output_type": "stream",
     "text": [
      " 49%|████▉     | 246/500 [13:29:04<13:49:03, 195.84s/it]"
     ]
    },
    {
     "name": "stdout",
     "output_type": "stream",
     "text": [
      "\n",
      "Test set: Average loss: 2.3028, Accuracy: 1000/10000 (10%)\n",
      "\n",
      "Epoch 245:\n",
      "loss train: tensor(25481.4629, device='cuda:0', grad_fn=<DivBackward0>)\n",
      "acc train: 0.1\n",
      "loss test: 2.302754299926758\n",
      "acc test: 0.1\n",
      "Train Epoch: 246 [0/50000 (0%)]\tLoss: 25539.291016\n"
     ]
    },
    {
     "name": "stderr",
     "output_type": "stream",
     "text": [
      " 49%|████▉     | 247/500 [13:32:19<13:45:38, 195.80s/it]"
     ]
    },
    {
     "name": "stdout",
     "output_type": "stream",
     "text": [
      "\n",
      "Test set: Average loss: 2.3028, Accuracy: 1000/10000 (10%)\n",
      "\n",
      "Epoch 246:\n",
      "loss train: tensor(25567.7949, device='cuda:0', grad_fn=<DivBackward0>)\n",
      "acc train: 0.1\n",
      "loss test: 2.302754412460327\n",
      "acc test: 0.1\n",
      "Train Epoch: 247 [0/50000 (0%)]\tLoss: 25580.300781\n"
     ]
    },
    {
     "name": "stderr",
     "output_type": "stream",
     "text": [
      " 50%|████▉     | 248/500 [13:35:35<13:41:40, 195.64s/it]"
     ]
    },
    {
     "name": "stdout",
     "output_type": "stream",
     "text": [
      "\n",
      "Test set: Average loss: 2.3028, Accuracy: 1000/10000 (10%)\n",
      "\n",
      "Epoch 247:\n",
      "loss train: tensor(25543.8613, device='cuda:0', grad_fn=<DivBackward0>)\n",
      "acc train: 0.1\n",
      "loss test: 2.3027646701812743\n",
      "acc test: 0.1\n",
      "Train Epoch: 248 [0/50000 (0%)]\tLoss: 25475.279297\n"
     ]
    },
    {
     "name": "stderr",
     "output_type": "stream",
     "text": [
      " 50%|████▉     | 249/500 [13:38:50<13:37:52, 195.51s/it]"
     ]
    },
    {
     "name": "stdout",
     "output_type": "stream",
     "text": [
      "\n",
      "Test set: Average loss: 2.3028, Accuracy: 1000/10000 (10%)\n",
      "\n",
      "Epoch 248:\n",
      "loss train: tensor(25241.4824, device='cuda:0', grad_fn=<DivBackward0>)\n",
      "acc train: 0.1\n",
      "loss test: 2.302758597564697\n",
      "acc test: 0.1\n",
      "Train Epoch: 249 [0/50000 (0%)]\tLoss: 25316.880859\n",
      "\n",
      "Test set: Average loss: 2.3028, Accuracy: 1000/10000 (10%)\n",
      "\n",
      "Epoch 249:\n",
      "loss train: tensor(25191.8848, device='cuda:0', grad_fn=<DivBackward0>)\n",
      "acc train: 0.1\n",
      "loss test: 2.3027522968292238\n",
      "acc test: 0.1\n"
     ]
    },
    {
     "name": "stderr",
     "output_type": "stream",
     "text": [
      " 50%|█████     | 250/500 [13:42:24<13:57:33, 201.01s/it]"
     ]
    },
    {
     "name": "stdout",
     "output_type": "stream",
     "text": [
      "PGD attack Acc 10.000\n",
      "pgd_acc test: 0.1\n",
      "Train Epoch: 250 [0/50000 (0%)]\tLoss: 25258.175781\n"
     ]
    },
    {
     "name": "stderr",
     "output_type": "stream",
     "text": [
      " 50%|█████     | 251/500 [13:45:39<13:46:46, 199.22s/it]"
     ]
    },
    {
     "name": "stdout",
     "output_type": "stream",
     "text": [
      "\n",
      "Test set: Average loss: 2.3027, Accuracy: 1000/10000 (10%)\n",
      "\n",
      "Epoch 250:\n",
      "loss train: tensor(25320.6445, device='cuda:0', grad_fn=<DivBackward0>)\n",
      "acc train: 0.1\n",
      "loss test: 2.3027438312530517\n",
      "acc test: 0.1\n",
      "Train Epoch: 251 [0/50000 (0%)]\tLoss: 25322.646484\n"
     ]
    },
    {
     "name": "stderr",
     "output_type": "stream",
     "text": [
      " 50%|█████     | 252/500 [13:48:54<13:38:24, 198.00s/it]"
     ]
    },
    {
     "name": "stdout",
     "output_type": "stream",
     "text": [
      "\n",
      "Test set: Average loss: 2.3027, Accuracy: 1000/10000 (10%)\n",
      "\n",
      "Epoch 251:\n",
      "loss train: tensor(25334.2246, device='cuda:0', grad_fn=<DivBackward0>)\n",
      "acc train: 0.1\n",
      "loss test: 2.302743016052246\n",
      "acc test: 0.1\n",
      "Train Epoch: 252 [0/50000 (0%)]\tLoss: 25335.978516\n"
     ]
    },
    {
     "name": "stderr",
     "output_type": "stream",
     "text": [
      " 51%|█████     | 253/500 [13:52:09<13:31:36, 197.15s/it]"
     ]
    },
    {
     "name": "stdout",
     "output_type": "stream",
     "text": [
      "\n",
      "Test set: Average loss: 2.3027, Accuracy: 1000/10000 (10%)\n",
      "\n",
      "Epoch 252:\n",
      "loss train: tensor(25268.4922, device='cuda:0', grad_fn=<DivBackward0>)\n",
      "acc train: 0.1\n",
      "loss test: 2.302739126586914\n",
      "acc test: 0.1\n",
      "Train Epoch: 253 [0/50000 (0%)]\tLoss: 25207.650391\n"
     ]
    },
    {
     "name": "stderr",
     "output_type": "stream",
     "text": [
      " 51%|█████     | 254/500 [13:55:24<13:25:32, 196.47s/it]"
     ]
    },
    {
     "name": "stdout",
     "output_type": "stream",
     "text": [
      "\n",
      "Test set: Average loss: 2.3027, Accuracy: 1000/10000 (10%)\n",
      "\n",
      "Epoch 253:\n",
      "loss train: tensor(25176.6348, device='cuda:0', grad_fn=<DivBackward0>)\n",
      "acc train: 0.1\n",
      "loss test: 2.3027383251190185\n",
      "acc test: 0.1\n",
      "Train Epoch: 254 [0/50000 (0%)]\tLoss: 25115.863281\n"
     ]
    },
    {
     "name": "stderr",
     "output_type": "stream",
     "text": [
      " 51%|█████     | 255/500 [13:58:39<13:20:31, 196.05s/it]"
     ]
    },
    {
     "name": "stdout",
     "output_type": "stream",
     "text": [
      "\n",
      "Test set: Average loss: 2.3027, Accuracy: 1000/10000 (10%)\n",
      "\n",
      "Epoch 254:\n",
      "loss train: tensor(25057.9375, device='cuda:0', grad_fn=<DivBackward0>)\n",
      "acc train: 0.1\n",
      "loss test: 2.302736382293701\n",
      "acc test: 0.1\n",
      "Train Epoch: 255 [0/50000 (0%)]\tLoss: 25064.607422\n"
     ]
    },
    {
     "name": "stderr",
     "output_type": "stream",
     "text": [
      " 51%|█████     | 256/500 [14:01:54<13:16:15, 195.80s/it]"
     ]
    },
    {
     "name": "stdout",
     "output_type": "stream",
     "text": [
      "\n",
      "Test set: Average loss: 2.3027, Accuracy: 1000/10000 (10%)\n",
      "\n",
      "Epoch 255:\n",
      "loss train: tensor(24992.5195, device='cuda:0', grad_fn=<DivBackward0>)\n",
      "acc train: 0.1\n",
      "loss test: 2.3027337020874024\n",
      "acc test: 0.1\n",
      "Train Epoch: 256 [0/50000 (0%)]\tLoss: 25013.480469\n"
     ]
    },
    {
     "name": "stderr",
     "output_type": "stream",
     "text": [
      " 51%|█████▏    | 257/500 [14:05:09<13:11:54, 195.53s/it]"
     ]
    },
    {
     "name": "stdout",
     "output_type": "stream",
     "text": [
      "\n",
      "Test set: Average loss: 2.3027, Accuracy: 1000/10000 (10%)\n",
      "\n",
      "Epoch 256:\n",
      "loss train: tensor(24920.8926, device='cuda:0', grad_fn=<DivBackward0>)\n",
      "acc train: 0.1\n",
      "loss test: 2.3027318325042723\n",
      "acc test: 0.1\n",
      "Train Epoch: 257 [0/50000 (0%)]\tLoss: 24898.273438\n"
     ]
    },
    {
     "name": "stderr",
     "output_type": "stream",
     "text": [
      " 52%|█████▏    | 258/500 [14:08:24<13:08:05, 195.39s/it]"
     ]
    },
    {
     "name": "stdout",
     "output_type": "stream",
     "text": [
      "\n",
      "Test set: Average loss: 2.3027, Accuracy: 1000/10000 (10%)\n",
      "\n",
      "Epoch 257:\n",
      "loss train: tensor(24841.3047, device='cuda:0', grad_fn=<DivBackward0>)\n",
      "acc train: 0.1\n",
      "loss test: 2.302729957580566\n",
      "acc test: 0.1\n",
      "Train Epoch: 258 [0/50000 (0%)]\tLoss: 24830.578125\n"
     ]
    },
    {
     "name": "stderr",
     "output_type": "stream",
     "text": [
      " 52%|█████▏    | 259/500 [14:11:39<13:04:29, 195.31s/it]"
     ]
    },
    {
     "name": "stdout",
     "output_type": "stream",
     "text": [
      "\n",
      "Test set: Average loss: 2.3027, Accuracy: 1000/10000 (10%)\n",
      "\n",
      "Epoch 258:\n",
      "loss train: tensor(24745.9414, device='cuda:0', grad_fn=<DivBackward0>)\n",
      "acc train: 0.1\n",
      "loss test: 2.3027280220031736\n",
      "acc test: 0.1\n",
      "Train Epoch: 259 [0/50000 (0%)]\tLoss: 24679.255859\n"
     ]
    },
    {
     "name": "stderr",
     "output_type": "stream",
     "text": [
      " 52%|█████▏    | 260/500 [14:14:54<13:00:39, 195.16s/it]"
     ]
    },
    {
     "name": "stdout",
     "output_type": "stream",
     "text": [
      "\n",
      "Test set: Average loss: 2.3027, Accuracy: 1000/10000 (10%)\n",
      "\n",
      "Epoch 259:\n",
      "loss train: tensor(24616.7363, device='cuda:0', grad_fn=<DivBackward0>)\n",
      "acc train: 0.1\n",
      "loss test: 2.302733102798462\n",
      "acc test: 0.1\n",
      "Train Epoch: 260 [0/50000 (0%)]\tLoss: 24657.177734\n"
     ]
    },
    {
     "name": "stderr",
     "output_type": "stream",
     "text": [
      " 52%|█████▏    | 261/500 [14:18:09<12:57:17, 195.14s/it]"
     ]
    },
    {
     "name": "stdout",
     "output_type": "stream",
     "text": [
      "\n",
      "Test set: Average loss: 2.3027, Accuracy: 1000/10000 (10%)\n",
      "\n",
      "Epoch 260:\n",
      "loss train: tensor(24506.9434, device='cuda:0', grad_fn=<DivBackward0>)\n",
      "acc train: 0.1\n",
      "loss test: 2.3027207988739016\n",
      "acc test: 0.1\n",
      "Train Epoch: 261 [0/50000 (0%)]\tLoss: 24393.923828\n"
     ]
    },
    {
     "name": "stderr",
     "output_type": "stream",
     "text": [
      " 52%|█████▏    | 262/500 [14:21:24<12:53:45, 195.07s/it]"
     ]
    },
    {
     "name": "stdout",
     "output_type": "stream",
     "text": [
      "\n",
      "Test set: Average loss: 2.3027, Accuracy: 1000/10000 (10%)\n",
      "\n",
      "Epoch 261:\n",
      "loss train: tensor(24390.1465, device='cuda:0', grad_fn=<DivBackward0>)\n",
      "acc train: 0.1\n",
      "loss test: 2.302722523880005\n",
      "acc test: 0.1\n",
      "Train Epoch: 262 [0/50000 (0%)]\tLoss: 24343.783203\n"
     ]
    },
    {
     "name": "stderr",
     "output_type": "stream",
     "text": [
      " 53%|█████▎    | 263/500 [14:24:39<12:50:24, 195.04s/it]"
     ]
    },
    {
     "name": "stdout",
     "output_type": "stream",
     "text": [
      "\n",
      "Test set: Average loss: 2.3027, Accuracy: 1000/10000 (10%)\n",
      "\n",
      "Epoch 262:\n",
      "loss train: tensor(24226.0098, device='cuda:0', grad_fn=<DivBackward0>)\n",
      "acc train: 0.1\n",
      "loss test: 2.3027188949584962\n",
      "acc test: 0.1\n",
      "Train Epoch: 263 [0/50000 (0%)]\tLoss: 24106.390625\n"
     ]
    },
    {
     "name": "stderr",
     "output_type": "stream",
     "text": [
      " 53%|█████▎    | 264/500 [14:27:54<12:47:00, 195.00s/it]"
     ]
    },
    {
     "name": "stdout",
     "output_type": "stream",
     "text": [
      "\n",
      "Test set: Average loss: 2.3027, Accuracy: 1000/10000 (10%)\n",
      "\n",
      "Epoch 263:\n",
      "loss train: tensor(24036.0254, device='cuda:0', grad_fn=<DivBackward0>)\n",
      "acc train: 0.1\n",
      "loss test: 2.30271714515686\n",
      "acc test: 0.1\n",
      "Train Epoch: 264 [0/50000 (0%)]\tLoss: 23910.326172\n"
     ]
    },
    {
     "name": "stderr",
     "output_type": "stream",
     "text": [
      " 53%|█████▎    | 265/500 [14:31:09<12:43:45, 195.00s/it]"
     ]
    },
    {
     "name": "stdout",
     "output_type": "stream",
     "text": [
      "\n",
      "Test set: Average loss: 2.3027, Accuracy: 1000/10000 (10%)\n",
      "\n",
      "Epoch 264:\n",
      "loss train: tensor(23990.0098, device='cuda:0', grad_fn=<DivBackward0>)\n",
      "acc train: 0.1\n",
      "loss test: 2.3027169815063475\n",
      "acc test: 0.1\n",
      "Train Epoch: 265 [0/50000 (0%)]\tLoss: 23993.382812\n"
     ]
    },
    {
     "name": "stderr",
     "output_type": "stream",
     "text": [
      " 53%|█████▎    | 266/500 [14:34:23<12:39:10, 194.66s/it]"
     ]
    },
    {
     "name": "stdout",
     "output_type": "stream",
     "text": [
      "\n",
      "Test set: Average loss: 2.3027, Accuracy: 1000/10000 (10%)\n",
      "\n",
      "Epoch 265:\n",
      "loss train: tensor(23970.3496, device='cuda:0', grad_fn=<DivBackward0>)\n",
      "acc train: 0.1\n",
      "loss test: 2.302719807815552\n",
      "acc test: 0.1\n",
      "Train Epoch: 266 [0/50000 (0%)]\tLoss: 23978.023438\n"
     ]
    },
    {
     "name": "stderr",
     "output_type": "stream",
     "text": [
      " 53%|█████▎    | 267/500 [14:37:38<12:36:27, 194.80s/it]"
     ]
    },
    {
     "name": "stdout",
     "output_type": "stream",
     "text": [
      "\n",
      "Test set: Average loss: 2.3027, Accuracy: 1000/10000 (10%)\n",
      "\n",
      "Epoch 266:\n",
      "loss train: tensor(23738.6074, device='cuda:0', grad_fn=<DivBackward0>)\n",
      "acc train: 0.1\n",
      "loss test: 2.3027215103149414\n",
      "acc test: 0.1\n",
      "Train Epoch: 267 [0/50000 (0%)]\tLoss: 23695.828125\n"
     ]
    },
    {
     "name": "stderr",
     "output_type": "stream",
     "text": [
      " 54%|█████▎    | 268/500 [14:40:53<12:33:43, 194.93s/it]"
     ]
    },
    {
     "name": "stdout",
     "output_type": "stream",
     "text": [
      "\n",
      "Test set: Average loss: 2.3027, Accuracy: 1000/10000 (10%)\n",
      "\n",
      "Epoch 267:\n",
      "loss train: tensor(23699.9902, device='cuda:0', grad_fn=<DivBackward0>)\n",
      "acc train: 0.1\n",
      "loss test: 2.3027145668029787\n",
      "acc test: 0.1\n",
      "Train Epoch: 268 [0/50000 (0%)]\tLoss: 23731.833984\n"
     ]
    },
    {
     "name": "stderr",
     "output_type": "stream",
     "text": [
      " 54%|█████▍    | 269/500 [14:44:08<12:30:28, 194.93s/it]"
     ]
    },
    {
     "name": "stdout",
     "output_type": "stream",
     "text": [
      "\n",
      "Test set: Average loss: 2.3027, Accuracy: 1000/10000 (10%)\n",
      "\n",
      "Epoch 268:\n",
      "loss train: tensor(23652.8320, device='cuda:0', grad_fn=<DivBackward0>)\n",
      "acc train: 0.1\n",
      "loss test: 2.302710123825073\n",
      "acc test: 0.1\n",
      "Train Epoch: 269 [0/50000 (0%)]\tLoss: 23614.890625\n"
     ]
    },
    {
     "name": "stderr",
     "output_type": "stream",
     "text": [
      " 54%|█████▍    | 270/500 [14:47:23<12:27:16, 194.94s/it]"
     ]
    },
    {
     "name": "stdout",
     "output_type": "stream",
     "text": [
      "\n",
      "Test set: Average loss: 2.3027, Accuracy: 1000/10000 (10%)\n",
      "\n",
      "Epoch 269:\n",
      "loss train: tensor(23497.8340, device='cuda:0', grad_fn=<DivBackward0>)\n",
      "acc train: 0.1\n",
      "loss test: 2.302710022735596\n",
      "acc test: 0.1\n",
      "Train Epoch: 270 [0/50000 (0%)]\tLoss: 23459.371094\n"
     ]
    },
    {
     "name": "stderr",
     "output_type": "stream",
     "text": [
      " 54%|█████▍    | 271/500 [14:50:38<12:24:09, 194.98s/it]"
     ]
    },
    {
     "name": "stdout",
     "output_type": "stream",
     "text": [
      "\n",
      "Test set: Average loss: 2.3027, Accuracy: 1000/10000 (10%)\n",
      "\n",
      "Epoch 270:\n",
      "loss train: tensor(23423.7539, device='cuda:0', grad_fn=<DivBackward0>)\n",
      "acc train: 0.1\n",
      "loss test: 2.3027068073272705\n",
      "acc test: 0.1\n",
      "Train Epoch: 271 [0/50000 (0%)]\tLoss: 23326.251953\n"
     ]
    },
    {
     "name": "stderr",
     "output_type": "stream",
     "text": [
      " 54%|█████▍    | 272/500 [14:53:53<12:21:00, 195.00s/it]"
     ]
    },
    {
     "name": "stdout",
     "output_type": "stream",
     "text": [
      "\n",
      "Test set: Average loss: 2.3027, Accuracy: 1000/10000 (10%)\n",
      "\n",
      "Epoch 271:\n",
      "loss train: tensor(23219.6172, device='cuda:0', grad_fn=<DivBackward0>)\n",
      "acc train: 0.1\n",
      "loss test: 2.3027048343658447\n",
      "acc test: 0.1\n",
      "Train Epoch: 272 [0/50000 (0%)]\tLoss: 23106.824219\n"
     ]
    },
    {
     "name": "stderr",
     "output_type": "stream",
     "text": [
      " 55%|█████▍    | 273/500 [14:57:08<12:17:35, 194.96s/it]"
     ]
    },
    {
     "name": "stdout",
     "output_type": "stream",
     "text": [
      "\n",
      "Test set: Average loss: 2.3027, Accuracy: 1000/10000 (10%)\n",
      "\n",
      "Epoch 272:\n",
      "loss train: tensor(23090.8867, device='cuda:0', grad_fn=<DivBackward0>)\n",
      "acc train: 0.1\n",
      "loss test: 2.3027035636901854\n",
      "acc test: 0.1\n",
      "Train Epoch: 273 [0/50000 (0%)]\tLoss: 23034.755859\n"
     ]
    },
    {
     "name": "stderr",
     "output_type": "stream",
     "text": [
      " 55%|█████▍    | 274/500 [15:00:23<12:14:28, 194.99s/it]"
     ]
    },
    {
     "name": "stdout",
     "output_type": "stream",
     "text": [
      "\n",
      "Test set: Average loss: 2.3027, Accuracy: 1000/10000 (10%)\n",
      "\n",
      "Epoch 273:\n",
      "loss train: tensor(22944.8320, device='cuda:0', grad_fn=<DivBackward0>)\n",
      "acc train: 0.1\n",
      "loss test: 2.302702289199829\n",
      "acc test: 0.1\n",
      "Train Epoch: 274 [0/50000 (0%)]\tLoss: 22911.546875\n"
     ]
    },
    {
     "name": "stderr",
     "output_type": "stream",
     "text": [
      " 55%|█████▌    | 275/500 [15:03:38<12:11:12, 194.99s/it]"
     ]
    },
    {
     "name": "stdout",
     "output_type": "stream",
     "text": [
      "\n",
      "Test set: Average loss: 2.3027, Accuracy: 1000/10000 (10%)\n",
      "\n",
      "Epoch 274:\n",
      "loss train: tensor(22905.8613, device='cuda:0', grad_fn=<DivBackward0>)\n",
      "acc train: 0.1\n",
      "loss test: 2.302700397491455\n",
      "acc test: 0.1\n",
      "Train Epoch: 275 [0/50000 (0%)]\tLoss: 22856.072266\n"
     ]
    },
    {
     "name": "stderr",
     "output_type": "stream",
     "text": [
      " 55%|█████▌    | 276/500 [15:06:53<12:08:09, 195.04s/it]"
     ]
    },
    {
     "name": "stdout",
     "output_type": "stream",
     "text": [
      "\n",
      "Test set: Average loss: 2.3027, Accuracy: 1000/10000 (10%)\n",
      "\n",
      "Epoch 275:\n",
      "loss train: tensor(22709.6152, device='cuda:0', grad_fn=<DivBackward0>)\n",
      "acc train: 0.1\n",
      "loss test: 2.3027006023406984\n",
      "acc test: 0.1\n",
      "Train Epoch: 276 [0/50000 (0%)]\tLoss: 22563.492188\n"
     ]
    },
    {
     "name": "stderr",
     "output_type": "stream",
     "text": [
      " 55%|█████▌    | 277/500 [15:10:08<12:04:52, 195.03s/it]"
     ]
    },
    {
     "name": "stdout",
     "output_type": "stream",
     "text": [
      "\n",
      "Test set: Average loss: 2.3027, Accuracy: 1000/10000 (10%)\n",
      "\n",
      "Epoch 276:\n",
      "loss train: tensor(22489.2988, device='cuda:0', grad_fn=<DivBackward0>)\n",
      "acc train: 0.1\n",
      "loss test: 2.302697695159912\n",
      "acc test: 0.1\n",
      "Train Epoch: 277 [0/50000 (0%)]\tLoss: 22412.525391\n"
     ]
    },
    {
     "name": "stderr",
     "output_type": "stream",
     "text": [
      " 56%|█████▌    | 278/500 [15:13:23<12:01:24, 194.98s/it]"
     ]
    },
    {
     "name": "stdout",
     "output_type": "stream",
     "text": [
      "\n",
      "Test set: Average loss: 2.3027, Accuracy: 1000/10000 (10%)\n",
      "\n",
      "Epoch 277:\n",
      "loss train: tensor(22347.8242, device='cuda:0', grad_fn=<DivBackward0>)\n",
      "acc train: 0.1\n",
      "loss test: 2.3026972469329836\n",
      "acc test: 0.1\n",
      "Train Epoch: 278 [0/50000 (0%)]\tLoss: 22273.263672\n"
     ]
    },
    {
     "name": "stderr",
     "output_type": "stream",
     "text": [
      " 56%|█████▌    | 279/500 [15:16:38<11:58:09, 194.97s/it]"
     ]
    },
    {
     "name": "stdout",
     "output_type": "stream",
     "text": [
      "\n",
      "Test set: Average loss: 2.3027, Accuracy: 1000/10000 (10%)\n",
      "\n",
      "Epoch 278:\n",
      "loss train: tensor(22236.4102, device='cuda:0', grad_fn=<DivBackward0>)\n",
      "acc train: 0.1\n",
      "loss test: 2.3026948364257813\n",
      "acc test: 0.1\n",
      "Train Epoch: 279 [0/50000 (0%)]\tLoss: 22188.990234\n"
     ]
    },
    {
     "name": "stderr",
     "output_type": "stream",
     "text": [
      " 56%|█████▌    | 280/500 [15:19:53<11:55:12, 195.06s/it]"
     ]
    },
    {
     "name": "stdout",
     "output_type": "stream",
     "text": [
      "\n",
      "Test set: Average loss: 2.3027, Accuracy: 1000/10000 (10%)\n",
      "\n",
      "Epoch 279:\n",
      "loss train: tensor(22147.2402, device='cuda:0', grad_fn=<DivBackward0>)\n",
      "acc train: 0.1\n",
      "loss test: 2.302693017578125\n",
      "acc test: 0.1\n",
      "Train Epoch: 280 [0/50000 (0%)]\tLoss: 22079.748047\n"
     ]
    },
    {
     "name": "stderr",
     "output_type": "stream",
     "text": [
      " 56%|█████▌    | 281/500 [15:23:09<11:52:23, 195.18s/it]"
     ]
    },
    {
     "name": "stdout",
     "output_type": "stream",
     "text": [
      "\n",
      "Test set: Average loss: 2.3027, Accuracy: 1000/10000 (10%)\n",
      "\n",
      "Epoch 280:\n",
      "loss train: tensor(22087.3789, device='cuda:0', grad_fn=<DivBackward0>)\n",
      "acc train: 0.1\n",
      "loss test: 2.3026914852142335\n",
      "acc test: 0.1\n",
      "Train Epoch: 281 [0/50000 (0%)]\tLoss: 22113.207031\n"
     ]
    },
    {
     "name": "stderr",
     "output_type": "stream",
     "text": [
      " 56%|█████▋    | 282/500 [15:26:24<11:49:22, 195.24s/it]"
     ]
    },
    {
     "name": "stdout",
     "output_type": "stream",
     "text": [
      "\n",
      "Test set: Average loss: 2.3027, Accuracy: 1000/10000 (10%)\n",
      "\n",
      "Epoch 281:\n",
      "loss train: tensor(22066.9238, device='cuda:0', grad_fn=<DivBackward0>)\n",
      "acc train: 0.1\n",
      "loss test: 2.302690846633911\n",
      "acc test: 0.1\n",
      "Train Epoch: 282 [0/50000 (0%)]\tLoss: 22047.417969\n"
     ]
    },
    {
     "name": "stderr",
     "output_type": "stream",
     "text": [
      " 57%|█████▋    | 283/500 [15:29:40<11:46:27, 195.34s/it]"
     ]
    },
    {
     "name": "stdout",
     "output_type": "stream",
     "text": [
      "\n",
      "Test set: Average loss: 2.3027, Accuracy: 1000/10000 (10%)\n",
      "\n",
      "Epoch 282:\n",
      "loss train: tensor(21934.0625, device='cuda:0', grad_fn=<DivBackward0>)\n",
      "acc train: 0.1\n",
      "loss test: 2.3026895317077636\n",
      "acc test: 0.1\n",
      "Train Epoch: 283 [0/50000 (0%)]\tLoss: 21863.634766\n"
     ]
    },
    {
     "name": "stderr",
     "output_type": "stream",
     "text": [
      " 57%|█████▋    | 284/500 [15:32:55<11:43:29, 195.41s/it]"
     ]
    },
    {
     "name": "stdout",
     "output_type": "stream",
     "text": [
      "\n",
      "Test set: Average loss: 2.3027, Accuracy: 1000/10000 (10%)\n",
      "\n",
      "Epoch 283:\n",
      "loss train: tensor(21814.1367, device='cuda:0', grad_fn=<DivBackward0>)\n",
      "acc train: 0.1\n",
      "loss test: 2.3026870124816896\n",
      "acc test: 0.1\n",
      "Train Epoch: 284 [0/50000 (0%)]\tLoss: 21767.138672\n"
     ]
    },
    {
     "name": "stderr",
     "output_type": "stream",
     "text": [
      " 57%|█████▋    | 285/500 [15:36:10<11:39:53, 195.32s/it]"
     ]
    },
    {
     "name": "stdout",
     "output_type": "stream",
     "text": [
      "\n",
      "Test set: Average loss: 2.3027, Accuracy: 1000/10000 (10%)\n",
      "\n",
      "Epoch 284:\n",
      "loss train: tensor(21696.5098, device='cuda:0', grad_fn=<DivBackward0>)\n",
      "acc train: 0.1\n",
      "loss test: 2.3026857265472414\n",
      "acc test: 0.1\n",
      "Train Epoch: 285 [0/50000 (0%)]\tLoss: 21623.835938\n"
     ]
    },
    {
     "name": "stderr",
     "output_type": "stream",
     "text": [
      " 57%|█████▋    | 286/500 [15:39:25<11:36:20, 195.23s/it]"
     ]
    },
    {
     "name": "stdout",
     "output_type": "stream",
     "text": [
      "\n",
      "Test set: Average loss: 2.3027, Accuracy: 1000/10000 (10%)\n",
      "\n",
      "Epoch 285:\n",
      "loss train: tensor(21546.3926, device='cuda:0', grad_fn=<DivBackward0>)\n",
      "acc train: 0.1\n",
      "loss test: 2.3026838073730467\n",
      "acc test: 0.1\n",
      "Train Epoch: 286 [0/50000 (0%)]\tLoss: 21487.021484\n"
     ]
    },
    {
     "name": "stderr",
     "output_type": "stream",
     "text": [
      " 57%|█████▋    | 287/500 [15:42:40<11:32:34, 195.09s/it]"
     ]
    },
    {
     "name": "stdout",
     "output_type": "stream",
     "text": [
      "\n",
      "Test set: Average loss: 2.3027, Accuracy: 1000/10000 (10%)\n",
      "\n",
      "Epoch 286:\n",
      "loss train: tensor(21350.8730, device='cuda:0', grad_fn=<DivBackward0>)\n",
      "acc train: 0.1\n",
      "loss test: 2.302682848739624\n",
      "acc test: 0.1\n",
      "Train Epoch: 287 [0/50000 (0%)]\tLoss: 21285.400391\n"
     ]
    },
    {
     "name": "stderr",
     "output_type": "stream",
     "text": [
      " 58%|█████▊    | 288/500 [15:45:55<11:29:11, 195.06s/it]"
     ]
    },
    {
     "name": "stdout",
     "output_type": "stream",
     "text": [
      "\n",
      "Test set: Average loss: 2.3027, Accuracy: 1000/10000 (10%)\n",
      "\n",
      "Epoch 287:\n",
      "loss train: tensor(21216.1855, device='cuda:0', grad_fn=<DivBackward0>)\n",
      "acc train: 0.1\n",
      "loss test: 2.3026814445495605\n",
      "acc test: 0.1\n",
      "Train Epoch: 288 [0/50000 (0%)]\tLoss: 21115.751953\n"
     ]
    },
    {
     "name": "stderr",
     "output_type": "stream",
     "text": [
      " 58%|█████▊    | 289/500 [15:49:10<11:25:52, 195.04s/it]"
     ]
    },
    {
     "name": "stdout",
     "output_type": "stream",
     "text": [
      "\n",
      "Test set: Average loss: 2.3027, Accuracy: 1000/10000 (10%)\n",
      "\n",
      "Epoch 288:\n",
      "loss train: tensor(21055.3340, device='cuda:0', grad_fn=<DivBackward0>)\n",
      "acc train: 0.1\n",
      "loss test: 2.3026806343078614\n",
      "acc test: 0.1\n",
      "Train Epoch: 289 [0/50000 (0%)]\tLoss: 20965.314453\n"
     ]
    },
    {
     "name": "stderr",
     "output_type": "stream",
     "text": [
      " 58%|█████▊    | 290/500 [15:52:25<11:22:43, 195.06s/it]"
     ]
    },
    {
     "name": "stdout",
     "output_type": "stream",
     "text": [
      "\n",
      "Test set: Average loss: 2.3027, Accuracy: 1000/10000 (10%)\n",
      "\n",
      "Epoch 289:\n",
      "loss train: tensor(20888.5059, device='cuda:0', grad_fn=<DivBackward0>)\n",
      "acc train: 0.1\n",
      "loss test: 2.302680121231079\n",
      "acc test: 0.1\n",
      "Train Epoch: 290 [0/50000 (0%)]\tLoss: 20856.263672\n"
     ]
    },
    {
     "name": "stderr",
     "output_type": "stream",
     "text": [
      " 58%|█████▊    | 291/500 [15:55:40<11:19:27, 195.06s/it]"
     ]
    },
    {
     "name": "stdout",
     "output_type": "stream",
     "text": [
      "\n",
      "Test set: Average loss: 2.3027, Accuracy: 1000/10000 (10%)\n",
      "\n",
      "Epoch 290:\n",
      "loss train: tensor(20788.0078, device='cuda:0', grad_fn=<DivBackward0>)\n",
      "acc train: 0.1\n",
      "loss test: 2.3026773780822754\n",
      "acc test: 0.1\n",
      "Train Epoch: 291 [0/50000 (0%)]\tLoss: 20733.263672\n"
     ]
    },
    {
     "name": "stderr",
     "output_type": "stream",
     "text": [
      " 58%|█████▊    | 292/500 [15:58:55<11:16:09, 195.05s/it]"
     ]
    },
    {
     "name": "stdout",
     "output_type": "stream",
     "text": [
      "\n",
      "Test set: Average loss: 2.3027, Accuracy: 1000/10000 (10%)\n",
      "\n",
      "Epoch 291:\n",
      "loss train: tensor(20664.7773, device='cuda:0', grad_fn=<DivBackward0>)\n",
      "acc train: 0.1\n",
      "loss test: 2.302677665710449\n",
      "acc test: 0.1\n",
      "Train Epoch: 292 [0/50000 (0%)]\tLoss: 20618.318359\n"
     ]
    },
    {
     "name": "stderr",
     "output_type": "stream",
     "text": [
      " 59%|█████▊    | 293/500 [16:02:11<11:13:00, 195.08s/it]"
     ]
    },
    {
     "name": "stdout",
     "output_type": "stream",
     "text": [
      "\n",
      "Test set: Average loss: 2.3027, Accuracy: 1000/10000 (10%)\n",
      "\n",
      "Epoch 292:\n",
      "loss train: tensor(20532.3066, device='cuda:0', grad_fn=<DivBackward0>)\n",
      "acc train: 0.1\n",
      "loss test: 2.302674718093872\n",
      "acc test: 0.1\n",
      "Train Epoch: 293 [0/50000 (0%)]\tLoss: 20428.691406\n"
     ]
    },
    {
     "name": "stderr",
     "output_type": "stream",
     "text": [
      " 59%|█████▉    | 294/500 [16:05:26<11:09:48, 195.09s/it]"
     ]
    },
    {
     "name": "stdout",
     "output_type": "stream",
     "text": [
      "\n",
      "Test set: Average loss: 2.3027, Accuracy: 1000/10000 (10%)\n",
      "\n",
      "Epoch 293:\n",
      "loss train: tensor(20379.0742, device='cuda:0', grad_fn=<DivBackward0>)\n",
      "acc train: 0.1\n",
      "loss test: 2.3026737213134765\n",
      "acc test: 0.1\n",
      "Train Epoch: 294 [0/50000 (0%)]\tLoss: 20309.357422\n"
     ]
    },
    {
     "name": "stderr",
     "output_type": "stream",
     "text": [
      " 59%|█████▉    | 295/500 [16:08:41<11:06:34, 195.09s/it]"
     ]
    },
    {
     "name": "stdout",
     "output_type": "stream",
     "text": [
      "\n",
      "Test set: Average loss: 2.3027, Accuracy: 1000/10000 (10%)\n",
      "\n",
      "Epoch 294:\n",
      "loss train: tensor(20263.8457, device='cuda:0', grad_fn=<DivBackward0>)\n",
      "acc train: 0.1\n",
      "loss test: 2.3026732521057127\n",
      "acc test: 0.1\n",
      "Train Epoch: 295 [0/50000 (0%)]\tLoss: 20201.539062\n"
     ]
    },
    {
     "name": "stderr",
     "output_type": "stream",
     "text": [
      " 59%|█████▉    | 296/500 [16:11:56<11:03:15, 195.07s/it]"
     ]
    },
    {
     "name": "stdout",
     "output_type": "stream",
     "text": [
      "\n",
      "Test set: Average loss: 2.3027, Accuracy: 1000/10000 (10%)\n",
      "\n",
      "Epoch 295:\n",
      "loss train: tensor(20140.4375, device='cuda:0', grad_fn=<DivBackward0>)\n",
      "acc train: 0.1\n",
      "loss test: 2.302671971130371\n",
      "acc test: 0.1\n",
      "Train Epoch: 296 [0/50000 (0%)]\tLoss: 20078.230469\n"
     ]
    },
    {
     "name": "stderr",
     "output_type": "stream",
     "text": [
      " 59%|█████▉    | 297/500 [16:15:11<10:59:59, 195.07s/it]"
     ]
    },
    {
     "name": "stdout",
     "output_type": "stream",
     "text": [
      "\n",
      "Test set: Average loss: 2.3027, Accuracy: 1000/10000 (10%)\n",
      "\n",
      "Epoch 296:\n",
      "loss train: tensor(20020.0156, device='cuda:0', grad_fn=<DivBackward0>)\n",
      "acc train: 0.1\n",
      "loss test: 2.302670032119751\n",
      "acc test: 0.1\n",
      "Train Epoch: 297 [0/50000 (0%)]\tLoss: 19985.166016\n"
     ]
    },
    {
     "name": "stderr",
     "output_type": "stream",
     "text": [
      " 60%|█████▉    | 298/500 [16:18:26<10:56:49, 195.10s/it]"
     ]
    },
    {
     "name": "stdout",
     "output_type": "stream",
     "text": [
      "\n",
      "Test set: Average loss: 2.3027, Accuracy: 1000/10000 (10%)\n",
      "\n",
      "Epoch 297:\n",
      "loss train: tensor(19869.9961, device='cuda:0', grad_fn=<DivBackward0>)\n",
      "acc train: 0.1\n",
      "loss test: 2.3026690357208253\n",
      "acc test: 0.1\n",
      "Train Epoch: 298 [0/50000 (0%)]\tLoss: 19727.261719\n"
     ]
    },
    {
     "name": "stderr",
     "output_type": "stream",
     "text": [
      " 60%|█████▉    | 299/500 [16:21:41<10:53:29, 195.07s/it]"
     ]
    },
    {
     "name": "stdout",
     "output_type": "stream",
     "text": [
      "\n",
      "Test set: Average loss: 2.3027, Accuracy: 1000/10000 (10%)\n",
      "\n",
      "Epoch 298:\n",
      "loss train: tensor(19704.2109, device='cuda:0', grad_fn=<DivBackward0>)\n",
      "acc train: 0.1\n",
      "loss test: 2.302668757247925\n",
      "acc test: 0.1\n",
      "Train Epoch: 299 [0/50000 (0%)]\tLoss: 19619.492188\n",
      "\n",
      "Test set: Average loss: 2.3027, Accuracy: 1000/10000 (10%)\n",
      "\n",
      "Epoch 299:\n",
      "loss train: tensor(19506.7695, device='cuda:0', grad_fn=<DivBackward0>)\n",
      "acc train: 0.1\n",
      "loss test: 2.302666430282593\n",
      "acc test: 0.1\n"
     ]
    },
    {
     "name": "stderr",
     "output_type": "stream",
     "text": [
      " 60%|██████    | 300/500 [16:25:15<11:09:20, 200.80s/it]"
     ]
    },
    {
     "name": "stdout",
     "output_type": "stream",
     "text": [
      "PGD attack Acc 10.000\n",
      "pgd_acc test: 0.1\n",
      "Train Epoch: 300 [0/50000 (0%)]\tLoss: 19290.343750\n"
     ]
    },
    {
     "name": "stderr",
     "output_type": "stream",
     "text": [
      " 60%|██████    | 301/500 [16:28:30<11:00:21, 199.10s/it]"
     ]
    },
    {
     "name": "stdout",
     "output_type": "stream",
     "text": [
      "\n",
      "Test set: Average loss: 2.3027, Accuracy: 1000/10000 (10%)\n",
      "\n",
      "Epoch 300:\n",
      "loss train: tensor(19212.6562, device='cuda:0', grad_fn=<DivBackward0>)\n",
      "acc train: 0.1\n",
      "loss test: 2.302666181564331\n",
      "acc test: 0.1\n",
      "Train Epoch: 301 [0/50000 (0%)]\tLoss: 19118.142578\n"
     ]
    },
    {
     "name": "stderr",
     "output_type": "stream",
     "text": [
      " 60%|██████    | 302/500 [16:31:45<10:52:56, 197.86s/it]"
     ]
    },
    {
     "name": "stdout",
     "output_type": "stream",
     "text": [
      "\n",
      "Test set: Average loss: 2.3027, Accuracy: 1000/10000 (10%)\n",
      "\n",
      "Epoch 301:\n",
      "loss train: tensor(19058.0391, device='cuda:0', grad_fn=<DivBackward0>)\n",
      "acc train: 0.1\n",
      "loss test: 2.302663980102539\n",
      "acc test: 0.1\n",
      "Train Epoch: 302 [0/50000 (0%)]\tLoss: 18941.656250\n"
     ]
    },
    {
     "name": "stderr",
     "output_type": "stream",
     "text": [
      " 61%|██████    | 303/500 [16:35:00<10:46:51, 197.01s/it]"
     ]
    },
    {
     "name": "stdout",
     "output_type": "stream",
     "text": [
      "\n",
      "Test set: Average loss: 2.3027, Accuracy: 1000/10000 (10%)\n",
      "\n",
      "Epoch 302:\n",
      "loss train: tensor(18815.3105, device='cuda:0', grad_fn=<DivBackward0>)\n",
      "acc train: 0.1\n",
      "loss test: 2.3026633476257325\n",
      "acc test: 0.1\n",
      "Train Epoch: 303 [0/50000 (0%)]\tLoss: 18659.644531\n"
     ]
    },
    {
     "name": "stderr",
     "output_type": "stream",
     "text": [
      " 61%|██████    | 304/500 [16:38:16<10:41:59, 196.53s/it]"
     ]
    },
    {
     "name": "stdout",
     "output_type": "stream",
     "text": [
      "\n",
      "Test set: Average loss: 2.3027, Accuracy: 1000/10000 (10%)\n",
      "\n",
      "Epoch 303:\n",
      "loss train: tensor(18457.9492, device='cuda:0', grad_fn=<DivBackward0>)\n",
      "acc train: 0.1\n",
      "loss test: 2.302663530731201\n",
      "acc test: 0.1\n",
      "Train Epoch: 304 [0/50000 (0%)]\tLoss: 18518.880859\n"
     ]
    },
    {
     "name": "stderr",
     "output_type": "stream",
     "text": [
      " 61%|██████    | 305/500 [16:41:31<10:37:43, 196.22s/it]"
     ]
    },
    {
     "name": "stdout",
     "output_type": "stream",
     "text": [
      "\n",
      "Test set: Average loss: 2.3027, Accuracy: 1000/10000 (10%)\n",
      "\n",
      "Epoch 304:\n",
      "loss train: tensor(18452.0195, device='cuda:0', grad_fn=<DivBackward0>)\n",
      "acc train: 0.1\n",
      "loss test: 2.3026622699737547\n",
      "acc test: 0.1\n",
      "Train Epoch: 305 [0/50000 (0%)]\tLoss: 18399.587891\n"
     ]
    },
    {
     "name": "stderr",
     "output_type": "stream",
     "text": [
      " 61%|██████    | 306/500 [16:44:46<10:33:16, 195.86s/it]"
     ]
    },
    {
     "name": "stdout",
     "output_type": "stream",
     "text": [
      "\n",
      "Test set: Average loss: 2.3027, Accuracy: 1000/10000 (10%)\n",
      "\n",
      "Epoch 305:\n",
      "loss train: tensor(18319.8145, device='cuda:0', grad_fn=<DivBackward0>)\n",
      "acc train: 0.1\n",
      "loss test: 2.302660598754883\n",
      "acc test: 0.1\n",
      "Train Epoch: 306 [0/50000 (0%)]\tLoss: 18285.476562\n"
     ]
    },
    {
     "name": "stderr",
     "output_type": "stream",
     "text": [
      " 61%|██████▏   | 307/500 [16:48:02<10:29:27, 195.69s/it]"
     ]
    },
    {
     "name": "stdout",
     "output_type": "stream",
     "text": [
      "\n",
      "Test set: Average loss: 2.3027, Accuracy: 1000/10000 (10%)\n",
      "\n",
      "Epoch 306:\n",
      "loss train: tensor(18156.9746, device='cuda:0', grad_fn=<DivBackward0>)\n",
      "acc train: 0.1\n",
      "loss test: 2.3026592937469483\n",
      "acc test: 0.1\n",
      "Train Epoch: 307 [0/50000 (0%)]\tLoss: 18039.365234\n"
     ]
    },
    {
     "name": "stderr",
     "output_type": "stream",
     "text": [
      " 62%|██████▏   | 308/500 [16:51:17<10:25:38, 195.52s/it]"
     ]
    },
    {
     "name": "stdout",
     "output_type": "stream",
     "text": [
      "\n",
      "Test set: Average loss: 2.3027, Accuracy: 1000/10000 (10%)\n",
      "\n",
      "Epoch 307:\n",
      "loss train: tensor(17995.9023, device='cuda:0', grad_fn=<DivBackward0>)\n",
      "acc train: 0.1\n",
      "loss test: 2.302658218383789\n",
      "acc test: 0.1\n",
      "Train Epoch: 308 [0/50000 (0%)]\tLoss: 17957.072266\n"
     ]
    },
    {
     "name": "stderr",
     "output_type": "stream",
     "text": [
      " 62%|██████▏   | 309/500 [16:54:31<10:21:31, 195.24s/it]"
     ]
    },
    {
     "name": "stdout",
     "output_type": "stream",
     "text": [
      "\n",
      "Test set: Average loss: 2.3027, Accuracy: 1000/10000 (10%)\n",
      "\n",
      "Epoch 308:\n",
      "loss train: tensor(17890.4805, device='cuda:0', grad_fn=<DivBackward0>)\n",
      "acc train: 0.1\n",
      "loss test: 2.3026567924499513\n",
      "acc test: 0.1\n",
      "Train Epoch: 309 [0/50000 (0%)]\tLoss: 17846.113281\n"
     ]
    },
    {
     "name": "stderr",
     "output_type": "stream",
     "text": [
      " 62%|██████▏   | 310/500 [16:57:47<10:18:40, 195.37s/it]"
     ]
    },
    {
     "name": "stdout",
     "output_type": "stream",
     "text": [
      "\n",
      "Test set: Average loss: 2.3027, Accuracy: 1000/10000 (10%)\n",
      "\n",
      "Epoch 309:\n",
      "loss train: tensor(17691.7910, device='cuda:0', grad_fn=<DivBackward0>)\n",
      "acc train: 0.1\n",
      "loss test: 2.302656909942627\n",
      "acc test: 0.1\n",
      "Train Epoch: 310 [0/50000 (0%)]\tLoss: 17624.703125\n"
     ]
    },
    {
     "name": "stderr",
     "output_type": "stream",
     "text": [
      " 62%|██████▏   | 311/500 [17:01:03<10:15:36, 195.43s/it]"
     ]
    },
    {
     "name": "stdout",
     "output_type": "stream",
     "text": [
      "\n",
      "Test set: Average loss: 2.3027, Accuracy: 1000/10000 (10%)\n",
      "\n",
      "Epoch 310:\n",
      "loss train: tensor(17519.9844, device='cuda:0', grad_fn=<DivBackward0>)\n",
      "acc train: 0.1\n",
      "loss test: 2.3026559188842772\n",
      "acc test: 0.1\n",
      "Train Epoch: 311 [0/50000 (0%)]\tLoss: 17462.261719\n"
     ]
    },
    {
     "name": "stderr",
     "output_type": "stream",
     "text": [
      " 62%|██████▏   | 312/500 [17:04:18<10:12:16, 195.41s/it]"
     ]
    },
    {
     "name": "stdout",
     "output_type": "stream",
     "text": [
      "\n",
      "Test set: Average loss: 2.3027, Accuracy: 1000/10000 (10%)\n",
      "\n",
      "Epoch 311:\n",
      "loss train: tensor(17444.3359, device='cuda:0', grad_fn=<DivBackward0>)\n",
      "acc train: 0.1\n",
      "loss test: 2.3026545051574705\n",
      "acc test: 0.1\n",
      "Train Epoch: 312 [0/50000 (0%)]\tLoss: 17422.697266\n"
     ]
    },
    {
     "name": "stderr",
     "output_type": "stream",
     "text": [
      " 63%|██████▎   | 313/500 [17:07:34<10:09:15, 195.49s/it]"
     ]
    },
    {
     "name": "stdout",
     "output_type": "stream",
     "text": [
      "\n",
      "Test set: Average loss: 2.3027, Accuracy: 1000/10000 (10%)\n",
      "\n",
      "Epoch 312:\n",
      "loss train: tensor(17352.2656, device='cuda:0', grad_fn=<DivBackward0>)\n",
      "acc train: 0.1\n",
      "loss test: 2.3026528076171875\n",
      "acc test: 0.1\n",
      "Train Epoch: 313 [0/50000 (0%)]\tLoss: 17203.326172\n"
     ]
    },
    {
     "name": "stderr",
     "output_type": "stream",
     "text": [
      " 63%|██████▎   | 314/500 [17:10:49<10:06:04, 195.51s/it]"
     ]
    },
    {
     "name": "stdout",
     "output_type": "stream",
     "text": [
      "\n",
      "Test set: Average loss: 2.3027, Accuracy: 1000/10000 (10%)\n",
      "\n",
      "Epoch 313:\n",
      "loss train: tensor(17107.1934, device='cuda:0', grad_fn=<DivBackward0>)\n",
      "acc train: 0.1\n",
      "loss test: 2.302651781463623\n",
      "acc test: 0.1\n",
      "Train Epoch: 314 [0/50000 (0%)]\tLoss: 17045.912109\n"
     ]
    },
    {
     "name": "stderr",
     "output_type": "stream",
     "text": [
      " 63%|██████▎   | 315/500 [17:14:04<10:02:03, 195.26s/it]"
     ]
    },
    {
     "name": "stdout",
     "output_type": "stream",
     "text": [
      "\n",
      "Test set: Average loss: 2.3027, Accuracy: 1000/10000 (10%)\n",
      "\n",
      "Epoch 314:\n",
      "loss train: tensor(17004.9004, device='cuda:0', grad_fn=<DivBackward0>)\n",
      "acc train: 0.1\n",
      "loss test: 2.302651193237305\n",
      "acc test: 0.1\n",
      "Train Epoch: 315 [0/50000 (0%)]\tLoss: 16973.636719\n"
     ]
    },
    {
     "name": "stderr",
     "output_type": "stream",
     "text": [
      " 63%|██████▎   | 316/500 [17:17:19<9:58:25, 195.14s/it] "
     ]
    },
    {
     "name": "stdout",
     "output_type": "stream",
     "text": [
      "\n",
      "Test set: Average loss: 2.3027, Accuracy: 1000/10000 (10%)\n",
      "\n",
      "Epoch 315:\n",
      "loss train: tensor(16914.4395, device='cuda:0', grad_fn=<DivBackward0>)\n",
      "acc train: 0.1\n",
      "loss test: 2.302650785446167\n",
      "acc test: 0.1\n",
      "Train Epoch: 316 [0/50000 (0%)]\tLoss: 16860.208984\n"
     ]
    },
    {
     "name": "stderr",
     "output_type": "stream",
     "text": [
      " 63%|██████▎   | 317/500 [17:20:34<9:55:00, 195.09s/it]"
     ]
    },
    {
     "name": "stdout",
     "output_type": "stream",
     "text": [
      "\n",
      "Test set: Average loss: 2.3026, Accuracy: 1000/10000 (10%)\n",
      "\n",
      "Epoch 316:\n",
      "loss train: tensor(16822.3320, device='cuda:0', grad_fn=<DivBackward0>)\n",
      "acc train: 0.1\n",
      "loss test: 2.3026493587493895\n",
      "acc test: 0.1\n",
      "Train Epoch: 317 [0/50000 (0%)]\tLoss: 16785.357422\n"
     ]
    },
    {
     "name": "stderr",
     "output_type": "stream",
     "text": [
      " 64%|██████▎   | 318/500 [17:23:48<9:51:30, 195.00s/it]"
     ]
    },
    {
     "name": "stdout",
     "output_type": "stream",
     "text": [
      "\n",
      "Test set: Average loss: 2.3026, Accuracy: 1000/10000 (10%)\n",
      "\n",
      "Epoch 317:\n",
      "loss train: tensor(16727.5645, device='cuda:0', grad_fn=<DivBackward0>)\n",
      "acc train: 0.1\n",
      "loss test: 2.3026483768463133\n",
      "acc test: 0.1\n",
      "Train Epoch: 318 [0/50000 (0%)]\tLoss: 16675.775391\n"
     ]
    },
    {
     "name": "stderr",
     "output_type": "stream",
     "text": [
      " 64%|██████▍   | 319/500 [17:27:03<9:48:01, 194.93s/it]"
     ]
    },
    {
     "name": "stdout",
     "output_type": "stream",
     "text": [
      "\n",
      "Test set: Average loss: 2.3026, Accuracy: 1000/10000 (10%)\n",
      "\n",
      "Epoch 318:\n",
      "loss train: tensor(16635.4414, device='cuda:0', grad_fn=<DivBackward0>)\n",
      "acc train: 0.1\n",
      "loss test: 2.3026477039337157\n",
      "acc test: 0.1\n",
      "Train Epoch: 319 [0/50000 (0%)]\tLoss: 16594.830078\n"
     ]
    },
    {
     "name": "stderr",
     "output_type": "stream",
     "text": [
      " 64%|██████▍   | 320/500 [17:30:18<9:44:51, 194.95s/it]"
     ]
    },
    {
     "name": "stdout",
     "output_type": "stream",
     "text": [
      "\n",
      "Test set: Average loss: 2.3026, Accuracy: 1000/10000 (10%)\n",
      "\n",
      "Epoch 319:\n",
      "loss train: tensor(16536.6738, device='cuda:0', grad_fn=<DivBackward0>)\n",
      "acc train: 0.1\n",
      "loss test: 2.3026470153808596\n",
      "acc test: 0.1\n",
      "Train Epoch: 320 [0/50000 (0%)]\tLoss: 16474.878906\n"
     ]
    },
    {
     "name": "stderr",
     "output_type": "stream",
     "text": [
      " 64%|██████▍   | 321/500 [17:33:34<9:42:09, 195.13s/it]"
     ]
    },
    {
     "name": "stdout",
     "output_type": "stream",
     "text": [
      "\n",
      "Test set: Average loss: 2.3026, Accuracy: 1000/10000 (10%)\n",
      "\n",
      "Epoch 320:\n",
      "loss train: tensor(16415.8203, device='cuda:0', grad_fn=<DivBackward0>)\n",
      "acc train: 0.1\n",
      "loss test: 2.302646405029297\n",
      "acc test: 0.1\n",
      "Train Epoch: 321 [0/50000 (0%)]\tLoss: 16361.666016\n"
     ]
    },
    {
     "name": "stderr",
     "output_type": "stream",
     "text": [
      " 64%|██████▍   | 322/500 [17:36:49<9:39:07, 195.21s/it]"
     ]
    },
    {
     "name": "stdout",
     "output_type": "stream",
     "text": [
      "\n",
      "Test set: Average loss: 2.3026, Accuracy: 1000/10000 (10%)\n",
      "\n",
      "Epoch 321:\n",
      "loss train: tensor(16291.4688, device='cuda:0', grad_fn=<DivBackward0>)\n",
      "acc train: 0.1\n",
      "loss test: 2.302645595932007\n",
      "acc test: 0.1\n",
      "Train Epoch: 322 [0/50000 (0%)]\tLoss: 16225.681641\n"
     ]
    },
    {
     "name": "stderr",
     "output_type": "stream",
     "text": [
      " 65%|██████▍   | 323/500 [17:40:04<9:35:47, 195.18s/it]"
     ]
    },
    {
     "name": "stdout",
     "output_type": "stream",
     "text": [
      "\n",
      "Test set: Average loss: 2.3026, Accuracy: 1000/10000 (10%)\n",
      "\n",
      "Epoch 322:\n",
      "loss train: tensor(16165.6455, device='cuda:0', grad_fn=<DivBackward0>)\n",
      "acc train: 0.1\n",
      "loss test: 2.302644533920288\n",
      "acc test: 0.1\n",
      "Train Epoch: 323 [0/50000 (0%)]\tLoss: 16089.620117\n"
     ]
    },
    {
     "name": "stderr",
     "output_type": "stream",
     "text": [
      " 65%|██████▍   | 324/500 [17:43:19<9:32:26, 195.15s/it]"
     ]
    },
    {
     "name": "stdout",
     "output_type": "stream",
     "text": [
      "\n",
      "Test set: Average loss: 2.3026, Accuracy: 1000/10000 (10%)\n",
      "\n",
      "Epoch 323:\n",
      "loss train: tensor(16035.4131, device='cuda:0', grad_fn=<DivBackward0>)\n",
      "acc train: 0.1\n",
      "loss test: 2.302643812942505\n",
      "acc test: 0.1\n",
      "Train Epoch: 324 [0/50000 (0%)]\tLoss: 15983.931641\n"
     ]
    },
    {
     "name": "stderr",
     "output_type": "stream",
     "text": [
      " 65%|██████▌   | 325/500 [17:46:34<9:28:58, 195.08s/it]"
     ]
    },
    {
     "name": "stdout",
     "output_type": "stream",
     "text": [
      "\n",
      "Test set: Average loss: 2.3026, Accuracy: 1000/10000 (10%)\n",
      "\n",
      "Epoch 324:\n",
      "loss train: tensor(15909.9375, device='cuda:0', grad_fn=<DivBackward0>)\n",
      "acc train: 0.1\n",
      "loss test: 2.3026429203033447\n",
      "acc test: 0.1\n",
      "Train Epoch: 325 [0/50000 (0%)]\tLoss: 15856.410156\n"
     ]
    },
    {
     "name": "stderr",
     "output_type": "stream",
     "text": [
      " 65%|██████▌   | 326/500 [17:49:49<9:25:44, 195.08s/it]"
     ]
    },
    {
     "name": "stdout",
     "output_type": "stream",
     "text": [
      "\n",
      "Test set: Average loss: 2.3026, Accuracy: 1000/10000 (10%)\n",
      "\n",
      "Epoch 325:\n",
      "loss train: tensor(15804.7344, device='cuda:0', grad_fn=<DivBackward0>)\n",
      "acc train: 0.1\n",
      "loss test: 2.3026418369293213\n",
      "acc test: 0.1\n",
      "Train Epoch: 326 [0/50000 (0%)]\tLoss: 15748.855469\n"
     ]
    },
    {
     "name": "stderr",
     "output_type": "stream",
     "text": [
      " 65%|██████▌   | 327/500 [17:53:04<9:22:29, 195.08s/it]"
     ]
    },
    {
     "name": "stdout",
     "output_type": "stream",
     "text": [
      "\n",
      "Test set: Average loss: 2.3026, Accuracy: 1000/10000 (10%)\n",
      "\n",
      "Epoch 326:\n",
      "loss train: tensor(15631.0752, device='cuda:0', grad_fn=<DivBackward0>)\n",
      "acc train: 0.1\n",
      "loss test: 2.3026408111572265\n",
      "acc test: 0.1\n",
      "Train Epoch: 327 [0/50000 (0%)]\tLoss: 15475.802734\n"
     ]
    },
    {
     "name": "stderr",
     "output_type": "stream",
     "text": [
      " 66%|██████▌   | 328/500 [17:56:19<9:19:08, 195.05s/it]"
     ]
    },
    {
     "name": "stdout",
     "output_type": "stream",
     "text": [
      "\n",
      "Test set: Average loss: 2.3026, Accuracy: 1000/10000 (10%)\n",
      "\n",
      "Epoch 327:\n",
      "loss train: tensor(15440.7578, device='cuda:0', grad_fn=<DivBackward0>)\n",
      "acc train: 0.1\n",
      "loss test: 2.302640102767944\n",
      "acc test: 0.1\n",
      "Train Epoch: 328 [0/50000 (0%)]\tLoss: 15403.762695\n"
     ]
    },
    {
     "name": "stderr",
     "output_type": "stream",
     "text": [
      " 66%|██████▌   | 329/500 [17:59:34<9:15:54, 195.05s/it]"
     ]
    },
    {
     "name": "stdout",
     "output_type": "stream",
     "text": [
      "\n",
      "Test set: Average loss: 2.3026, Accuracy: 1000/10000 (10%)\n",
      "\n",
      "Epoch 328:\n",
      "loss train: tensor(15377.7109, device='cuda:0', grad_fn=<DivBackward0>)\n",
      "acc train: 0.1\n",
      "loss test: 2.3026395729064943\n",
      "acc test: 0.1\n",
      "Train Epoch: 329 [0/50000 (0%)]\tLoss: 15354.667969\n"
     ]
    },
    {
     "name": "stderr",
     "output_type": "stream",
     "text": [
      " 66%|██████▌   | 330/500 [18:02:50<9:12:43, 195.08s/it]"
     ]
    },
    {
     "name": "stdout",
     "output_type": "stream",
     "text": [
      "\n",
      "Test set: Average loss: 2.3026, Accuracy: 1000/10000 (10%)\n",
      "\n",
      "Epoch 329:\n",
      "loss train: tensor(15330.0234, device='cuda:0', grad_fn=<DivBackward0>)\n",
      "acc train: 0.1\n",
      "loss test: 2.3026387008666993\n",
      "acc test: 0.1\n",
      "Train Epoch: 330 [0/50000 (0%)]\tLoss: 15296.343750\n"
     ]
    },
    {
     "name": "stderr",
     "output_type": "stream",
     "text": [
      " 66%|██████▌   | 331/500 [18:06:05<9:09:30, 195.09s/it]"
     ]
    },
    {
     "name": "stdout",
     "output_type": "stream",
     "text": [
      "\n",
      "Test set: Average loss: 2.3026, Accuracy: 1000/10000 (10%)\n",
      "\n",
      "Epoch 330:\n",
      "loss train: tensor(15261.6426, device='cuda:0', grad_fn=<DivBackward0>)\n",
      "acc train: 0.1\n",
      "loss test: 2.3026380558013915\n",
      "acc test: 0.1\n",
      "Train Epoch: 331 [0/50000 (0%)]\tLoss: 15217.664062\n"
     ]
    },
    {
     "name": "stderr",
     "output_type": "stream",
     "text": [
      " 66%|██████▋   | 332/500 [18:09:20<9:06:23, 195.14s/it]"
     ]
    },
    {
     "name": "stdout",
     "output_type": "stream",
     "text": [
      "\n",
      "Test set: Average loss: 2.3026, Accuracy: 1000/10000 (10%)\n",
      "\n",
      "Epoch 331:\n",
      "loss train: tensor(15166.9414, device='cuda:0', grad_fn=<DivBackward0>)\n",
      "acc train: 0.1\n",
      "loss test: 2.3026373126983644\n",
      "acc test: 0.1\n",
      "Train Epoch: 332 [0/50000 (0%)]\tLoss: 15158.967773\n"
     ]
    },
    {
     "name": "stderr",
     "output_type": "stream",
     "text": [
      " 67%|██████▋   | 333/500 [18:12:35<9:03:01, 195.10s/it]"
     ]
    },
    {
     "name": "stdout",
     "output_type": "stream",
     "text": [
      "\n",
      "Test set: Average loss: 2.3026, Accuracy: 1000/10000 (10%)\n",
      "\n",
      "Epoch 332:\n",
      "loss train: tensor(15072.8047, device='cuda:0', grad_fn=<DivBackward0>)\n",
      "acc train: 0.1\n",
      "loss test: 2.3026362552642823\n",
      "acc test: 0.1\n",
      "Train Epoch: 333 [0/50000 (0%)]\tLoss: 15000.217773\n"
     ]
    },
    {
     "name": "stderr",
     "output_type": "stream",
     "text": [
      " 67%|██████▋   | 334/500 [18:15:50<8:59:35, 195.03s/it]"
     ]
    },
    {
     "name": "stdout",
     "output_type": "stream",
     "text": [
      "\n",
      "Test set: Average loss: 2.3026, Accuracy: 1000/10000 (10%)\n",
      "\n",
      "Epoch 333:\n",
      "loss train: tensor(14981.0264, device='cuda:0', grad_fn=<DivBackward0>)\n",
      "acc train: 0.1\n",
      "loss test: 2.3026356300354003\n",
      "acc test: 0.1\n",
      "Train Epoch: 334 [0/50000 (0%)]\tLoss: 14949.395508\n"
     ]
    },
    {
     "name": "stderr",
     "output_type": "stream",
     "text": [
      " 67%|██████▋   | 335/500 [18:19:05<8:56:21, 195.04s/it]"
     ]
    },
    {
     "name": "stdout",
     "output_type": "stream",
     "text": [
      "\n",
      "Test set: Average loss: 2.3026, Accuracy: 1000/10000 (10%)\n",
      "\n",
      "Epoch 334:\n",
      "loss train: tensor(14924.9014, device='cuda:0', grad_fn=<DivBackward0>)\n",
      "acc train: 0.1\n",
      "loss test: 2.3026349369049073\n",
      "acc test: 0.1\n",
      "Train Epoch: 335 [0/50000 (0%)]\tLoss: 14883.977539\n"
     ]
    },
    {
     "name": "stderr",
     "output_type": "stream",
     "text": [
      " 67%|██████▋   | 336/500 [18:22:20<8:53:13, 195.08s/it]"
     ]
    },
    {
     "name": "stdout",
     "output_type": "stream",
     "text": [
      "\n",
      "Test set: Average loss: 2.3026, Accuracy: 1000/10000 (10%)\n",
      "\n",
      "Epoch 335:\n",
      "loss train: tensor(14881.4209, device='cuda:0', grad_fn=<DivBackward0>)\n",
      "acc train: 0.1\n",
      "loss test: 2.3026340648651122\n",
      "acc test: 0.1\n",
      "Train Epoch: 336 [0/50000 (0%)]\tLoss: 14865.049805\n"
     ]
    },
    {
     "name": "stderr",
     "output_type": "stream",
     "text": [
      " 67%|██████▋   | 337/500 [18:25:35<8:50:01, 195.10s/it]"
     ]
    },
    {
     "name": "stdout",
     "output_type": "stream",
     "text": [
      "\n",
      "Test set: Average loss: 2.3026, Accuracy: 1000/10000 (10%)\n",
      "\n",
      "Epoch 336:\n",
      "loss train: tensor(14752.1885, device='cuda:0', grad_fn=<DivBackward0>)\n",
      "acc train: 0.1\n",
      "loss test: 2.3026344947814943\n",
      "acc test: 0.1\n",
      "Train Epoch: 337 [0/50000 (0%)]\tLoss: 14702.768555\n"
     ]
    },
    {
     "name": "stderr",
     "output_type": "stream",
     "text": [
      " 68%|██████▊   | 338/500 [18:28:50<8:46:46, 195.10s/it]"
     ]
    },
    {
     "name": "stdout",
     "output_type": "stream",
     "text": [
      "\n",
      "Test set: Average loss: 2.3026, Accuracy: 1000/10000 (10%)\n",
      "\n",
      "Epoch 337:\n",
      "loss train: tensor(14636.6592, device='cuda:0', grad_fn=<DivBackward0>)\n",
      "acc train: 0.1\n",
      "loss test: 2.3026324920654297\n",
      "acc test: 0.1\n",
      "Train Epoch: 338 [0/50000 (0%)]\tLoss: 14567.499023\n"
     ]
    },
    {
     "name": "stderr",
     "output_type": "stream",
     "text": [
      " 68%|██████▊   | 339/500 [18:32:05<8:43:26, 195.07s/it]"
     ]
    },
    {
     "name": "stdout",
     "output_type": "stream",
     "text": [
      "\n",
      "Test set: Average loss: 2.3026, Accuracy: 1000/10000 (10%)\n",
      "\n",
      "Epoch 338:\n",
      "loss train: tensor(14549.0830, device='cuda:0', grad_fn=<DivBackward0>)\n",
      "acc train: 0.1\n",
      "loss test: 2.3026323081970217\n",
      "acc test: 0.1\n",
      "Train Epoch: 339 [0/50000 (0%)]\tLoss: 14508.878906\n"
     ]
    },
    {
     "name": "stderr",
     "output_type": "stream",
     "text": [
      " 68%|██████▊   | 340/500 [18:35:21<8:40:24, 195.15s/it]"
     ]
    },
    {
     "name": "stdout",
     "output_type": "stream",
     "text": [
      "\n",
      "Test set: Average loss: 2.3026, Accuracy: 1000/10000 (10%)\n",
      "\n",
      "Epoch 339:\n",
      "loss train: tensor(14480.2842, device='cuda:0', grad_fn=<DivBackward0>)\n",
      "acc train: 0.1\n",
      "loss test: 2.302631573867798\n",
      "acc test: 0.1\n",
      "Train Epoch: 340 [0/50000 (0%)]\tLoss: 14445.045898\n"
     ]
    },
    {
     "name": "stderr",
     "output_type": "stream",
     "text": [
      " 68%|██████▊   | 341/500 [18:38:36<8:37:38, 195.34s/it]"
     ]
    },
    {
     "name": "stdout",
     "output_type": "stream",
     "text": [
      "\n",
      "Test set: Average loss: 2.3026, Accuracy: 1000/10000 (10%)\n",
      "\n",
      "Epoch 340:\n",
      "loss train: tensor(14406.0684, device='cuda:0', grad_fn=<DivBackward0>)\n",
      "acc train: 0.1\n",
      "loss test: 2.3026345458984374\n",
      "acc test: 0.1\n",
      "Train Epoch: 341 [0/50000 (0%)]\tLoss: 14303.220703\n"
     ]
    },
    {
     "name": "stderr",
     "output_type": "stream",
     "text": [
      " 68%|██████▊   | 342/500 [18:41:52<8:34:32, 195.40s/it]"
     ]
    },
    {
     "name": "stdout",
     "output_type": "stream",
     "text": [
      "\n",
      "Test set: Average loss: 2.3026, Accuracy: 1000/10000 (10%)\n",
      "\n",
      "Epoch 341:\n",
      "loss train: tensor(14294.4482, device='cuda:0', grad_fn=<DivBackward0>)\n",
      "acc train: 0.1\n",
      "loss test: 2.302630216217041\n",
      "acc test: 0.1\n",
      "Train Epoch: 342 [0/50000 (0%)]\tLoss: 14267.948242\n"
     ]
    },
    {
     "name": "stderr",
     "output_type": "stream",
     "text": [
      " 69%|██████▊   | 343/500 [18:45:08<8:31:43, 195.56s/it]"
     ]
    },
    {
     "name": "stdout",
     "output_type": "stream",
     "text": [
      "\n",
      "Test set: Average loss: 2.3026, Accuracy: 1000/10000 (10%)\n",
      "\n",
      "Epoch 342:\n",
      "loss train: tensor(14234.1436, device='cuda:0', grad_fn=<DivBackward0>)\n",
      "acc train: 0.1\n",
      "loss test: 2.302629393005371\n",
      "acc test: 0.1\n",
      "Train Epoch: 343 [0/50000 (0%)]\tLoss: 14201.083008\n"
     ]
    },
    {
     "name": "stderr",
     "output_type": "stream",
     "text": [
      " 69%|██████▉   | 344/500 [18:48:24<8:28:56, 195.74s/it]"
     ]
    },
    {
     "name": "stdout",
     "output_type": "stream",
     "text": [
      "\n",
      "Test set: Average loss: 2.3026, Accuracy: 1000/10000 (10%)\n",
      "\n",
      "Epoch 343:\n",
      "loss train: tensor(14159.2881, device='cuda:0', grad_fn=<DivBackward0>)\n",
      "acc train: 0.1\n",
      "loss test: 2.302628966140747\n",
      "acc test: 0.1\n",
      "Train Epoch: 344 [0/50000 (0%)]\tLoss: 14078.646484\n"
     ]
    },
    {
     "name": "stderr",
     "output_type": "stream",
     "text": [
      " 69%|██████▉   | 345/500 [18:51:40<8:25:36, 195.72s/it]"
     ]
    },
    {
     "name": "stdout",
     "output_type": "stream",
     "text": [
      "\n",
      "Test set: Average loss: 2.3026, Accuracy: 1000/10000 (10%)\n",
      "\n",
      "Epoch 344:\n",
      "loss train: tensor(14039.2637, device='cuda:0', grad_fn=<DivBackward0>)\n",
      "acc train: 0.1\n",
      "loss test: 2.302628106689453\n",
      "acc test: 0.1\n",
      "Train Epoch: 345 [0/50000 (0%)]\tLoss: 13973.238281\n"
     ]
    },
    {
     "name": "stderr",
     "output_type": "stream",
     "text": [
      " 69%|██████▉   | 346/500 [18:54:56<8:22:36, 195.82s/it]"
     ]
    },
    {
     "name": "stdout",
     "output_type": "stream",
     "text": [
      "\n",
      "Test set: Average loss: 2.3026, Accuracy: 1000/10000 (10%)\n",
      "\n",
      "Epoch 345:\n",
      "loss train: tensor(13923.5664, device='cuda:0', grad_fn=<DivBackward0>)\n",
      "acc train: 0.1\n",
      "loss test: 2.3026278629302976\n",
      "acc test: 0.1\n",
      "Train Epoch: 346 [0/50000 (0%)]\tLoss: 13883.400391\n"
     ]
    },
    {
     "name": "stderr",
     "output_type": "stream",
     "text": [
      " 69%|██████▉   | 347/500 [18:58:12<8:19:40, 195.95s/it]"
     ]
    },
    {
     "name": "stdout",
     "output_type": "stream",
     "text": [
      "\n",
      "Test set: Average loss: 2.3026, Accuracy: 1000/10000 (10%)\n",
      "\n",
      "Epoch 346:\n",
      "loss train: tensor(13858.5869, device='cuda:0', grad_fn=<DivBackward0>)\n",
      "acc train: 0.1\n",
      "loss test: 2.3026271533966063\n",
      "acc test: 0.1\n",
      "Train Epoch: 347 [0/50000 (0%)]\tLoss: 13779.849609\n"
     ]
    },
    {
     "name": "stderr",
     "output_type": "stream",
     "text": [
      " 70%|██████▉   | 348/500 [19:01:28<8:16:29, 195.98s/it]"
     ]
    },
    {
     "name": "stdout",
     "output_type": "stream",
     "text": [
      "\n",
      "Test set: Average loss: 2.3026, Accuracy: 1000/10000 (10%)\n",
      "\n",
      "Epoch 347:\n",
      "loss train: tensor(13616.1689, device='cuda:0', grad_fn=<DivBackward0>)\n",
      "acc train: 0.1\n",
      "loss test: 2.3026255958557127\n",
      "acc test: 0.1\n",
      "Train Epoch: 348 [0/50000 (0%)]\tLoss: 13477.468750\n"
     ]
    },
    {
     "name": "stderr",
     "output_type": "stream",
     "text": [
      " 70%|██████▉   | 349/500 [19:04:44<8:13:09, 195.96s/it]"
     ]
    },
    {
     "name": "stdout",
     "output_type": "stream",
     "text": [
      "\n",
      "Test set: Average loss: 2.3026, Accuracy: 1000/10000 (10%)\n",
      "\n",
      "Epoch 348:\n",
      "loss train: tensor(13416.5537, device='cuda:0', grad_fn=<DivBackward0>)\n",
      "acc train: 0.1\n",
      "loss test: 2.3026256355285644\n",
      "acc test: 0.1\n",
      "Train Epoch: 349 [0/50000 (0%)]\tLoss: 13369.424805\n",
      "\n",
      "Test set: Average loss: 2.3026, Accuracy: 1000/10000 (10%)\n",
      "\n",
      "Epoch 349:\n",
      "loss train: tensor(13342.9287, device='cuda:0', grad_fn=<DivBackward0>)\n",
      "acc train: 0.1\n",
      "loss test: 2.302624877548218\n",
      "acc test: 0.1\n"
     ]
    },
    {
     "name": "stderr",
     "output_type": "stream",
     "text": [
      " 70%|███████   | 350/500 [19:08:20<8:24:38, 201.85s/it]"
     ]
    },
    {
     "name": "stdout",
     "output_type": "stream",
     "text": [
      "PGD attack Acc 10.000\n",
      "pgd_acc test: 0.1\n",
      "Train Epoch: 350 [0/50000 (0%)]\tLoss: 13302.502930\n"
     ]
    },
    {
     "name": "stderr",
     "output_type": "stream",
     "text": [
      " 70%|███████   | 351/500 [19:11:36<8:16:55, 200.11s/it]"
     ]
    },
    {
     "name": "stdout",
     "output_type": "stream",
     "text": [
      "\n",
      "Test set: Average loss: 2.3026, Accuracy: 1000/10000 (10%)\n",
      "\n",
      "Epoch 350:\n",
      "loss train: tensor(13274.5918, device='cuda:0', grad_fn=<DivBackward0>)\n",
      "acc train: 0.1\n",
      "loss test: 2.302624493408203\n",
      "acc test: 0.1\n",
      "Train Epoch: 351 [0/50000 (0%)]\tLoss: 13236.533203\n"
     ]
    },
    {
     "name": "stderr",
     "output_type": "stream",
     "text": [
      " 70%|███████   | 352/500 [19:14:51<8:10:19, 198.78s/it]"
     ]
    },
    {
     "name": "stdout",
     "output_type": "stream",
     "text": [
      "\n",
      "Test set: Average loss: 2.3026, Accuracy: 1000/10000 (10%)\n",
      "\n",
      "Epoch 351:\n",
      "loss train: tensor(13184.3301, device='cuda:0', grad_fn=<DivBackward0>)\n",
      "acc train: 0.1\n",
      "loss test: 2.3026239582061767\n",
      "acc test: 0.1\n",
      "Train Epoch: 352 [0/50000 (0%)]\tLoss: 13138.440430\n"
     ]
    },
    {
     "name": "stderr",
     "output_type": "stream",
     "text": [
      " 71%|███████   | 353/500 [19:18:07<8:04:56, 197.93s/it]"
     ]
    },
    {
     "name": "stdout",
     "output_type": "stream",
     "text": [
      "\n",
      "Test set: Average loss: 2.3026, Accuracy: 1000/10000 (10%)\n",
      "\n",
      "Epoch 352:\n",
      "loss train: tensor(13113.3037, device='cuda:0', grad_fn=<DivBackward0>)\n",
      "acc train: 0.1\n",
      "loss test: 2.302623487472534\n",
      "acc test: 0.1\n",
      "Train Epoch: 353 [0/50000 (0%)]\tLoss: 13095.860352\n"
     ]
    },
    {
     "name": "stderr",
     "output_type": "stream",
     "text": [
      " 71%|███████   | 354/500 [19:21:23<8:00:06, 197.30s/it]"
     ]
    },
    {
     "name": "stdout",
     "output_type": "stream",
     "text": [
      "\n",
      "Test set: Average loss: 2.3026, Accuracy: 1000/10000 (10%)\n",
      "\n",
      "Epoch 353:\n",
      "loss train: tensor(13090.8223, device='cuda:0', grad_fn=<DivBackward0>)\n",
      "acc train: 0.1\n",
      "loss test: 2.3026227935791015\n",
      "acc test: 0.1\n",
      "Train Epoch: 354 [0/50000 (0%)]\tLoss: 13073.066406\n"
     ]
    },
    {
     "name": "stderr",
     "output_type": "stream",
     "text": [
      " 71%|███████   | 355/500 [19:24:39<7:55:45, 196.86s/it]"
     ]
    },
    {
     "name": "stdout",
     "output_type": "stream",
     "text": [
      "\n",
      "Test set: Average loss: 2.3026, Accuracy: 1000/10000 (10%)\n",
      "\n",
      "Epoch 354:\n",
      "loss train: tensor(13037.0254, device='cuda:0', grad_fn=<DivBackward0>)\n",
      "acc train: 0.1\n",
      "loss test: 2.302622478866577\n",
      "acc test: 0.1\n",
      "Train Epoch: 355 [0/50000 (0%)]\tLoss: 12988.309570\n"
     ]
    },
    {
     "name": "stderr",
     "output_type": "stream",
     "text": [
      " 71%|███████   | 356/500 [19:27:55<7:51:55, 196.63s/it]"
     ]
    },
    {
     "name": "stdout",
     "output_type": "stream",
     "text": [
      "\n",
      "Test set: Average loss: 2.3026, Accuracy: 1000/10000 (10%)\n",
      "\n",
      "Epoch 355:\n",
      "loss train: tensor(12956.5371, device='cuda:0', grad_fn=<DivBackward0>)\n",
      "acc train: 0.1\n",
      "loss test: 2.302621918487549\n",
      "acc test: 0.1\n",
      "Train Epoch: 356 [0/50000 (0%)]\tLoss: 12919.327148\n"
     ]
    },
    {
     "name": "stderr",
     "output_type": "stream",
     "text": [
      " 71%|███████▏  | 357/500 [19:31:11<7:48:06, 196.41s/it]"
     ]
    },
    {
     "name": "stdout",
     "output_type": "stream",
     "text": [
      "\n",
      "Test set: Average loss: 2.3026, Accuracy: 1000/10000 (10%)\n",
      "\n",
      "Epoch 356:\n",
      "loss train: tensor(12892.3701, device='cuda:0', grad_fn=<DivBackward0>)\n",
      "acc train: 0.1\n",
      "loss test: 2.302621601486206\n",
      "acc test: 0.1\n",
      "Train Epoch: 357 [0/50000 (0%)]\tLoss: 12862.194336\n"
     ]
    },
    {
     "name": "stderr",
     "output_type": "stream",
     "text": [
      " 72%|███████▏  | 358/500 [19:34:26<7:44:04, 196.09s/it]"
     ]
    },
    {
     "name": "stdout",
     "output_type": "stream",
     "text": [
      "\n",
      "Test set: Average loss: 2.3026, Accuracy: 1000/10000 (10%)\n",
      "\n",
      "Epoch 357:\n",
      "loss train: tensor(12850.2646, device='cuda:0', grad_fn=<DivBackward0>)\n",
      "acc train: 0.1\n",
      "loss test: 2.302621262359619\n",
      "acc test: 0.1\n",
      "Train Epoch: 358 [0/50000 (0%)]\tLoss: 12827.716797\n"
     ]
    },
    {
     "name": "stderr",
     "output_type": "stream",
     "text": [
      " 72%|███████▏  | 359/500 [19:37:41<7:40:06, 195.79s/it]"
     ]
    },
    {
     "name": "stdout",
     "output_type": "stream",
     "text": [
      "\n",
      "Test set: Average loss: 2.3026, Accuracy: 1000/10000 (10%)\n",
      "\n",
      "Epoch 358:\n",
      "loss train: tensor(12788.8730, device='cuda:0', grad_fn=<DivBackward0>)\n",
      "acc train: 0.1\n",
      "loss test: 2.302620658493042\n",
      "acc test: 0.1\n",
      "Train Epoch: 359 [0/50000 (0%)]\tLoss: 12758.510742\n"
     ]
    },
    {
     "name": "stderr",
     "output_type": "stream",
     "text": [
      " 72%|███████▏  | 360/500 [19:40:56<7:36:17, 195.55s/it]"
     ]
    },
    {
     "name": "stdout",
     "output_type": "stream",
     "text": [
      "\n",
      "Test set: Average loss: 2.3026, Accuracy: 1000/10000 (10%)\n",
      "\n",
      "Epoch 359:\n",
      "loss train: tensor(12743.0791, device='cuda:0', grad_fn=<DivBackward0>)\n",
      "acc train: 0.1\n",
      "loss test: 2.3026207935333254\n",
      "acc test: 0.1\n",
      "Train Epoch: 360 [0/50000 (0%)]\tLoss: 12737.836914\n"
     ]
    },
    {
     "name": "stderr",
     "output_type": "stream",
     "text": [
      " 72%|███████▏  | 361/500 [19:44:11<7:32:40, 195.40s/it]"
     ]
    },
    {
     "name": "stdout",
     "output_type": "stream",
     "text": [
      "\n",
      "Test set: Average loss: 2.3026, Accuracy: 1000/10000 (10%)\n",
      "\n",
      "Epoch 360:\n",
      "loss train: tensor(12686.0205, device='cuda:0', grad_fn=<DivBackward0>)\n",
      "acc train: 0.1\n",
      "loss test: 2.3026196578979494\n",
      "acc test: 0.1\n",
      "Train Epoch: 361 [0/50000 (0%)]\tLoss: 12680.945312\n"
     ]
    },
    {
     "name": "stderr",
     "output_type": "stream",
     "text": [
      " 72%|███████▏  | 362/500 [19:47:27<7:29:14, 195.32s/it]"
     ]
    },
    {
     "name": "stdout",
     "output_type": "stream",
     "text": [
      "\n",
      "Test set: Average loss: 2.3026, Accuracy: 1000/10000 (10%)\n",
      "\n",
      "Epoch 361:\n",
      "loss train: tensor(12632.5508, device='cuda:0', grad_fn=<DivBackward0>)\n",
      "acc train: 0.1\n",
      "loss test: 2.30261916847229\n",
      "acc test: 0.1\n",
      "Train Epoch: 362 [0/50000 (0%)]\tLoss: 12606.181641\n"
     ]
    },
    {
     "name": "stderr",
     "output_type": "stream",
     "text": [
      " 73%|███████▎  | 363/500 [19:50:42<7:25:47, 195.24s/it]"
     ]
    },
    {
     "name": "stdout",
     "output_type": "stream",
     "text": [
      "\n",
      "Test set: Average loss: 2.3026, Accuracy: 1000/10000 (10%)\n",
      "\n",
      "Epoch 362:\n",
      "loss train: tensor(12580.8721, device='cuda:0', grad_fn=<DivBackward0>)\n",
      "acc train: 0.1\n",
      "loss test: 2.3026186916351317\n",
      "acc test: 0.1\n",
      "Train Epoch: 363 [0/50000 (0%)]\tLoss: 12539.309570\n"
     ]
    },
    {
     "name": "stderr",
     "output_type": "stream",
     "text": [
      " 73%|███████▎  | 364/500 [19:53:57<7:22:25, 195.19s/it]"
     ]
    },
    {
     "name": "stdout",
     "output_type": "stream",
     "text": [
      "\n",
      "Test set: Average loss: 2.3026, Accuracy: 1000/10000 (10%)\n",
      "\n",
      "Epoch 363:\n",
      "loss train: tensor(12530.7168, device='cuda:0', grad_fn=<DivBackward0>)\n",
      "acc train: 0.1\n",
      "loss test: 2.3026182983398438\n",
      "acc test: 0.1\n",
      "Train Epoch: 364 [0/50000 (0%)]\tLoss: 12494.636719\n"
     ]
    },
    {
     "name": "stderr",
     "output_type": "stream",
     "text": [
      " 73%|███████▎  | 365/500 [19:57:12<7:19:02, 195.13s/it]"
     ]
    },
    {
     "name": "stdout",
     "output_type": "stream",
     "text": [
      "\n",
      "Test set: Average loss: 2.3026, Accuracy: 1000/10000 (10%)\n",
      "\n",
      "Epoch 364:\n",
      "loss train: tensor(12483.1758, device='cuda:0', grad_fn=<DivBackward0>)\n",
      "acc train: 0.1\n",
      "loss test: 2.3026183292388915\n",
      "acc test: 0.1\n",
      "Train Epoch: 365 [0/50000 (0%)]\tLoss: 12461.464844\n"
     ]
    },
    {
     "name": "stderr",
     "output_type": "stream",
     "text": [
      " 73%|███████▎  | 366/500 [20:00:27<7:15:38, 195.06s/it]"
     ]
    },
    {
     "name": "stdout",
     "output_type": "stream",
     "text": [
      "\n",
      "Test set: Average loss: 2.3026, Accuracy: 1000/10000 (10%)\n",
      "\n",
      "Epoch 365:\n",
      "loss train: tensor(12441.3467, device='cuda:0', grad_fn=<DivBackward0>)\n",
      "acc train: 0.1\n",
      "loss test: 2.3026174850463867\n",
      "acc test: 0.1\n",
      "Train Epoch: 366 [0/50000 (0%)]\tLoss: 12411.602539\n"
     ]
    },
    {
     "name": "stderr",
     "output_type": "stream",
     "text": [
      " 73%|███████▎  | 367/500 [20:03:42<7:12:20, 195.04s/it]"
     ]
    },
    {
     "name": "stdout",
     "output_type": "stream",
     "text": [
      "\n",
      "Test set: Average loss: 2.3026, Accuracy: 1000/10000 (10%)\n",
      "\n",
      "Epoch 366:\n",
      "loss train: tensor(12392.9014, device='cuda:0', grad_fn=<DivBackward0>)\n",
      "acc train: 0.1\n",
      "loss test: 2.3026172367095947\n",
      "acc test: 0.1\n",
      "Train Epoch: 367 [0/50000 (0%)]\tLoss: 12351.351562\n"
     ]
    },
    {
     "name": "stderr",
     "output_type": "stream",
     "text": [
      " 74%|███████▎  | 368/500 [20:06:57<7:09:04, 195.03s/it]"
     ]
    },
    {
     "name": "stdout",
     "output_type": "stream",
     "text": [
      "\n",
      "Test set: Average loss: 2.3026, Accuracy: 1000/10000 (10%)\n",
      "\n",
      "Epoch 367:\n",
      "loss train: tensor(12317.6016, device='cuda:0', grad_fn=<DivBackward0>)\n",
      "acc train: 0.1\n",
      "loss test: 2.302616404724121\n",
      "acc test: 0.1\n",
      "Train Epoch: 368 [0/50000 (0%)]\tLoss: 12279.782227\n"
     ]
    },
    {
     "name": "stderr",
     "output_type": "stream",
     "text": [
      " 74%|███████▍  | 369/500 [20:10:11<7:05:42, 194.98s/it]"
     ]
    },
    {
     "name": "stdout",
     "output_type": "stream",
     "text": [
      "\n",
      "Test set: Average loss: 2.3026, Accuracy: 1000/10000 (10%)\n",
      "\n",
      "Epoch 368:\n",
      "loss train: tensor(12272.1045, device='cuda:0', grad_fn=<DivBackward0>)\n",
      "acc train: 0.1\n",
      "loss test: 2.3026161918640136\n",
      "acc test: 0.1\n",
      "Train Epoch: 369 [0/50000 (0%)]\tLoss: 12241.534180\n"
     ]
    },
    {
     "name": "stderr",
     "output_type": "stream",
     "text": [
      " 74%|███████▍  | 370/500 [20:13:26<7:02:31, 195.01s/it]"
     ]
    },
    {
     "name": "stdout",
     "output_type": "stream",
     "text": [
      "\n",
      "Test set: Average loss: 2.3026, Accuracy: 1000/10000 (10%)\n",
      "\n",
      "Epoch 369:\n",
      "loss train: tensor(12214.7559, device='cuda:0', grad_fn=<DivBackward0>)\n",
      "acc train: 0.1\n",
      "loss test: 2.3026156551361083\n",
      "acc test: 0.1\n",
      "Train Epoch: 370 [0/50000 (0%)]\tLoss: 12148.865234\n"
     ]
    },
    {
     "name": "stderr",
     "output_type": "stream",
     "text": [
      " 74%|███████▍  | 371/500 [20:16:41<6:59:05, 194.93s/it]"
     ]
    },
    {
     "name": "stdout",
     "output_type": "stream",
     "text": [
      "\n",
      "Test set: Average loss: 2.3026, Accuracy: 1000/10000 (10%)\n",
      "\n",
      "Epoch 370:\n",
      "loss train: tensor(12075.4414, device='cuda:0', grad_fn=<DivBackward0>)\n",
      "acc train: 0.1\n",
      "loss test: 2.302616049194336\n",
      "acc test: 0.1\n",
      "Train Epoch: 371 [0/50000 (0%)]\tLoss: 12029.565430\n"
     ]
    },
    {
     "name": "stderr",
     "output_type": "stream",
     "text": [
      " 74%|███████▍  | 372/500 [20:19:56<6:55:48, 194.91s/it]"
     ]
    },
    {
     "name": "stdout",
     "output_type": "stream",
     "text": [
      "\n",
      "Test set: Average loss: 2.3026, Accuracy: 1000/10000 (10%)\n",
      "\n",
      "Epoch 371:\n",
      "loss train: tensor(12010.0996, device='cuda:0', grad_fn=<DivBackward0>)\n",
      "acc train: 0.1\n",
      "loss test: 2.3026149433135985\n",
      "acc test: 0.1\n",
      "Train Epoch: 372 [0/50000 (0%)]\tLoss: 11988.140625\n"
     ]
    },
    {
     "name": "stderr",
     "output_type": "stream",
     "text": [
      " 75%|███████▍  | 373/500 [20:23:11<6:52:42, 194.98s/it]"
     ]
    },
    {
     "name": "stdout",
     "output_type": "stream",
     "text": [
      "\n",
      "Test set: Average loss: 2.3026, Accuracy: 1000/10000 (10%)\n",
      "\n",
      "Epoch 372:\n",
      "loss train: tensor(11967.1826, device='cuda:0', grad_fn=<DivBackward0>)\n",
      "acc train: 0.1\n",
      "loss test: 2.3026149196624757\n",
      "acc test: 0.1\n",
      "Train Epoch: 373 [0/50000 (0%)]\tLoss: 11952.764648\n"
     ]
    },
    {
     "name": "stderr",
     "output_type": "stream",
     "text": [
      " 75%|███████▍  | 374/500 [20:26:26<6:49:31, 195.02s/it]"
     ]
    },
    {
     "name": "stdout",
     "output_type": "stream",
     "text": [
      "\n",
      "Test set: Average loss: 2.3026, Accuracy: 1000/10000 (10%)\n",
      "\n",
      "Epoch 373:\n",
      "loss train: tensor(11925.1680, device='cuda:0', grad_fn=<DivBackward0>)\n",
      "acc train: 0.1\n",
      "loss test: 2.30261442489624\n",
      "acc test: 0.1\n",
      "Train Epoch: 374 [0/50000 (0%)]\tLoss: 11902.912109\n"
     ]
    },
    {
     "name": "stderr",
     "output_type": "stream",
     "text": [
      " 75%|███████▌  | 375/500 [20:29:41<6:46:12, 194.98s/it]"
     ]
    },
    {
     "name": "stdout",
     "output_type": "stream",
     "text": [
      "\n",
      "Test set: Average loss: 2.3026, Accuracy: 1000/10000 (10%)\n",
      "\n",
      "Epoch 374:\n",
      "loss train: tensor(11881.4268, device='cuda:0', grad_fn=<DivBackward0>)\n",
      "acc train: 0.1\n",
      "loss test: 2.3026140644073485\n",
      "acc test: 0.1\n",
      "Train Epoch: 375 [0/50000 (0%)]\tLoss: 11857.435547\n"
     ]
    },
    {
     "name": "stderr",
     "output_type": "stream",
     "text": [
      " 75%|███████▌  | 376/500 [20:32:56<6:42:52, 194.94s/it]"
     ]
    },
    {
     "name": "stdout",
     "output_type": "stream",
     "text": [
      "\n",
      "Test set: Average loss: 2.3026, Accuracy: 1000/10000 (10%)\n",
      "\n",
      "Epoch 375:\n",
      "loss train: tensor(11820.6621, device='cuda:0', grad_fn=<DivBackward0>)\n",
      "acc train: 0.1\n",
      "loss test: 2.302613480377197\n",
      "acc test: 0.1\n",
      "Train Epoch: 376 [0/50000 (0%)]\tLoss: 11790.483398\n"
     ]
    },
    {
     "name": "stderr",
     "output_type": "stream",
     "text": [
      " 75%|███████▌  | 377/500 [20:36:11<6:39:30, 194.89s/it]"
     ]
    },
    {
     "name": "stdout",
     "output_type": "stream",
     "text": [
      "\n",
      "Test set: Average loss: 2.3026, Accuracy: 1000/10000 (10%)\n",
      "\n",
      "Epoch 376:\n",
      "loss train: tensor(11764.3633, device='cuda:0', grad_fn=<DivBackward0>)\n",
      "acc train: 0.1\n",
      "loss test: 2.3026128532409667\n",
      "acc test: 0.1\n",
      "Train Epoch: 377 [0/50000 (0%)]\tLoss: 11738.774414\n"
     ]
    },
    {
     "name": "stderr",
     "output_type": "stream",
     "text": [
      " 76%|███████▌  | 378/500 [20:39:26<6:36:28, 194.99s/it]"
     ]
    },
    {
     "name": "stdout",
     "output_type": "stream",
     "text": [
      "\n",
      "Test set: Average loss: 2.3026, Accuracy: 1000/10000 (10%)\n",
      "\n",
      "Epoch 377:\n",
      "loss train: tensor(11695.3506, device='cuda:0', grad_fn=<DivBackward0>)\n",
      "acc train: 0.1\n",
      "loss test: 2.3026132843017577\n",
      "acc test: 0.1\n",
      "Train Epoch: 378 [0/50000 (0%)]\tLoss: 11683.667969\n"
     ]
    },
    {
     "name": "stderr",
     "output_type": "stream",
     "text": [
      " 76%|███████▌  | 379/500 [20:42:42<6:33:35, 195.17s/it]"
     ]
    },
    {
     "name": "stdout",
     "output_type": "stream",
     "text": [
      "\n",
      "Test set: Average loss: 2.3026, Accuracy: 1000/10000 (10%)\n",
      "\n",
      "Epoch 378:\n",
      "loss train: tensor(11663.3604, device='cuda:0', grad_fn=<DivBackward0>)\n",
      "acc train: 0.1\n",
      "loss test: 2.302613286590576\n",
      "acc test: 0.1\n",
      "Train Epoch: 379 [0/50000 (0%)]\tLoss: 11651.987305\n"
     ]
    },
    {
     "name": "stderr",
     "output_type": "stream",
     "text": [
      " 76%|███████▌  | 380/500 [20:45:57<6:30:31, 195.26s/it]"
     ]
    },
    {
     "name": "stdout",
     "output_type": "stream",
     "text": [
      "\n",
      "Test set: Average loss: 2.3026, Accuracy: 1000/10000 (10%)\n",
      "\n",
      "Epoch 379:\n",
      "loss train: tensor(11613.9141, device='cuda:0', grad_fn=<DivBackward0>)\n",
      "acc train: 0.1\n",
      "loss test: 2.30261254196167\n",
      "acc test: 0.1\n",
      "Train Epoch: 380 [0/50000 (0%)]\tLoss: 11596.647461\n"
     ]
    },
    {
     "name": "stderr",
     "output_type": "stream",
     "text": [
      " 76%|███████▌  | 381/500 [20:49:12<6:26:54, 195.08s/it]"
     ]
    },
    {
     "name": "stdout",
     "output_type": "stream",
     "text": [
      "\n",
      "Test set: Average loss: 2.3026, Accuracy: 1000/10000 (10%)\n",
      "\n",
      "Epoch 380:\n",
      "loss train: tensor(11549.8418, device='cuda:0', grad_fn=<DivBackward0>)\n",
      "acc train: 0.1\n",
      "loss test: 2.30261178817749\n",
      "acc test: 0.1\n",
      "Train Epoch: 381 [0/50000 (0%)]\tLoss: 11522.625000\n"
     ]
    },
    {
     "name": "stderr",
     "output_type": "stream",
     "text": [
      " 76%|███████▋  | 382/500 [20:52:27<6:23:39, 195.08s/it]"
     ]
    },
    {
     "name": "stdout",
     "output_type": "stream",
     "text": [
      "\n",
      "Test set: Average loss: 2.3026, Accuracy: 1000/10000 (10%)\n",
      "\n",
      "Epoch 381:\n",
      "loss train: tensor(11505.1621, device='cuda:0', grad_fn=<DivBackward0>)\n",
      "acc train: 0.1\n",
      "loss test: 2.3026116481781007\n",
      "acc test: 0.1\n",
      "Train Epoch: 382 [0/50000 (0%)]\tLoss: 11477.237305\n"
     ]
    },
    {
     "name": "stderr",
     "output_type": "stream",
     "text": [
      " 77%|███████▋  | 383/500 [20:55:42<6:20:33, 195.16s/it]"
     ]
    },
    {
     "name": "stdout",
     "output_type": "stream",
     "text": [
      "\n",
      "Test set: Average loss: 2.3026, Accuracy: 1000/10000 (10%)\n",
      "\n",
      "Epoch 382:\n",
      "loss train: tensor(11431.2266, device='cuda:0', grad_fn=<DivBackward0>)\n",
      "acc train: 0.1\n",
      "loss test: 2.3026109683990477\n",
      "acc test: 0.1\n",
      "Train Epoch: 383 [0/50000 (0%)]\tLoss: 11391.091797\n"
     ]
    },
    {
     "name": "stderr",
     "output_type": "stream",
     "text": [
      " 77%|███████▋  | 384/500 [20:58:57<6:17:17, 195.15s/it]"
     ]
    },
    {
     "name": "stdout",
     "output_type": "stream",
     "text": [
      "\n",
      "Test set: Average loss: 2.3026, Accuracy: 1000/10000 (10%)\n",
      "\n",
      "Epoch 383:\n",
      "loss train: tensor(11383.3379, device='cuda:0', grad_fn=<DivBackward0>)\n",
      "acc train: 0.1\n",
      "loss test: 2.302610903930664\n",
      "acc test: 0.1\n",
      "Train Epoch: 384 [0/50000 (0%)]\tLoss: 11389.981445\n"
     ]
    },
    {
     "name": "stderr",
     "output_type": "stream",
     "text": [
      " 77%|███████▋  | 385/500 [21:02:12<6:13:46, 195.01s/it]"
     ]
    },
    {
     "name": "stdout",
     "output_type": "stream",
     "text": [
      "\n",
      "Test set: Average loss: 2.3026, Accuracy: 1000/10000 (10%)\n",
      "\n",
      "Epoch 384:\n",
      "loss train: tensor(11361.8828, device='cuda:0', grad_fn=<DivBackward0>)\n",
      "acc train: 0.1\n",
      "loss test: 2.3026108825683593\n",
      "acc test: 0.1\n",
      "Train Epoch: 385 [0/50000 (0%)]\tLoss: 11323.398438\n"
     ]
    },
    {
     "name": "stderr",
     "output_type": "stream",
     "text": [
      " 77%|███████▋  | 386/500 [21:05:27<6:10:36, 195.06s/it]"
     ]
    },
    {
     "name": "stdout",
     "output_type": "stream",
     "text": [
      "\n",
      "Test set: Average loss: 2.3026, Accuracy: 1000/10000 (10%)\n",
      "\n",
      "Epoch 385:\n",
      "loss train: tensor(11297.7383, device='cuda:0', grad_fn=<DivBackward0>)\n",
      "acc train: 0.1\n",
      "loss test: 2.302610166168213\n",
      "acc test: 0.1\n",
      "Train Epoch: 386 [0/50000 (0%)]\tLoss: 11230.852539\n"
     ]
    },
    {
     "name": "stderr",
     "output_type": "stream",
     "text": [
      " 77%|███████▋  | 387/500 [21:08:42<6:07:08, 194.94s/it]"
     ]
    },
    {
     "name": "stdout",
     "output_type": "stream",
     "text": [
      "\n",
      "Test set: Average loss: 2.3026, Accuracy: 1000/10000 (10%)\n",
      "\n",
      "Epoch 386:\n",
      "loss train: tensor(11213.4756, device='cuda:0', grad_fn=<DivBackward0>)\n",
      "acc train: 0.1\n",
      "loss test: 2.3026102935791015\n",
      "acc test: 0.1\n",
      "Train Epoch: 387 [0/50000 (0%)]\tLoss: 11225.853516\n"
     ]
    },
    {
     "name": "stderr",
     "output_type": "stream",
     "text": [
      " 78%|███████▊  | 388/500 [21:11:57<6:03:49, 194.90s/it]"
     ]
    },
    {
     "name": "stdout",
     "output_type": "stream",
     "text": [
      "\n",
      "Test set: Average loss: 2.3026, Accuracy: 1000/10000 (10%)\n",
      "\n",
      "Epoch 387:\n",
      "loss train: tensor(11171.1768, device='cuda:0', grad_fn=<DivBackward0>)\n",
      "acc train: 0.1\n",
      "loss test: 2.3026100776672362\n",
      "acc test: 0.1\n",
      "Train Epoch: 388 [0/50000 (0%)]\tLoss: 11152.750977\n"
     ]
    },
    {
     "name": "stderr",
     "output_type": "stream",
     "text": [
      " 78%|███████▊  | 389/500 [21:15:12<6:00:48, 195.03s/it]"
     ]
    },
    {
     "name": "stdout",
     "output_type": "stream",
     "text": [
      "\n",
      "Test set: Average loss: 2.3026, Accuracy: 1000/10000 (10%)\n",
      "\n",
      "Epoch 388:\n",
      "loss train: tensor(11129.9189, device='cuda:0', grad_fn=<DivBackward0>)\n",
      "acc train: 0.1\n",
      "loss test: 2.302609844970703\n",
      "acc test: 0.1\n",
      "Train Epoch: 389 [0/50000 (0%)]\tLoss: 11109.273438\n"
     ]
    },
    {
     "name": "stderr",
     "output_type": "stream",
     "text": [
      " 78%|███████▊  | 390/500 [21:18:27<5:57:42, 195.12s/it]"
     ]
    },
    {
     "name": "stdout",
     "output_type": "stream",
     "text": [
      "\n",
      "Test set: Average loss: 2.3026, Accuracy: 1000/10000 (10%)\n",
      "\n",
      "Epoch 389:\n",
      "loss train: tensor(11079.3203, device='cuda:0', grad_fn=<DivBackward0>)\n",
      "acc train: 0.1\n",
      "loss test: 2.302609496688843\n",
      "acc test: 0.1\n",
      "Train Epoch: 390 [0/50000 (0%)]\tLoss: 11069.731445\n"
     ]
    },
    {
     "name": "stderr",
     "output_type": "stream",
     "text": [
      " 78%|███████▊  | 391/500 [21:21:43<5:54:35, 195.19s/it]"
     ]
    },
    {
     "name": "stdout",
     "output_type": "stream",
     "text": [
      "\n",
      "Test set: Average loss: 2.3026, Accuracy: 1000/10000 (10%)\n",
      "\n",
      "Epoch 390:\n",
      "loss train: tensor(11047.1826, device='cuda:0', grad_fn=<DivBackward0>)\n",
      "acc train: 0.1\n",
      "loss test: 2.30260860748291\n",
      "acc test: 0.1\n",
      "Train Epoch: 391 [0/50000 (0%)]\tLoss: 11009.010742\n"
     ]
    },
    {
     "name": "stderr",
     "output_type": "stream",
     "text": [
      " 78%|███████▊  | 392/500 [21:24:58<5:51:20, 195.19s/it]"
     ]
    },
    {
     "name": "stdout",
     "output_type": "stream",
     "text": [
      "\n",
      "Test set: Average loss: 2.3026, Accuracy: 1000/10000 (10%)\n",
      "\n",
      "Epoch 391:\n",
      "loss train: tensor(10969.3369, device='cuda:0', grad_fn=<DivBackward0>)\n",
      "acc train: 0.1\n",
      "loss test: 2.302608228302002\n",
      "acc test: 0.1\n",
      "Train Epoch: 392 [0/50000 (0%)]\tLoss: 10925.109375\n"
     ]
    },
    {
     "name": "stderr",
     "output_type": "stream",
     "text": [
      " 79%|███████▊  | 393/500 [21:28:13<5:47:57, 195.11s/it]"
     ]
    },
    {
     "name": "stdout",
     "output_type": "stream",
     "text": [
      "\n",
      "Test set: Average loss: 2.3026, Accuracy: 1000/10000 (10%)\n",
      "\n",
      "Epoch 392:\n",
      "loss train: tensor(10914.1367, device='cuda:0', grad_fn=<DivBackward0>)\n",
      "acc train: 0.1\n",
      "loss test: 2.3026085872650146\n",
      "acc test: 0.1\n",
      "Train Epoch: 393 [0/50000 (0%)]\tLoss: 10896.050781\n"
     ]
    },
    {
     "name": "stderr",
     "output_type": "stream",
     "text": [
      " 79%|███████▉  | 394/500 [21:31:28<5:44:35, 195.05s/it]"
     ]
    },
    {
     "name": "stdout",
     "output_type": "stream",
     "text": [
      "\n",
      "Test set: Average loss: 2.3026, Accuracy: 1000/10000 (10%)\n",
      "\n",
      "Epoch 393:\n",
      "loss train: tensor(10870.4385, device='cuda:0', grad_fn=<DivBackward0>)\n",
      "acc train: 0.1\n",
      "loss test: 2.30260807723999\n",
      "acc test: 0.1\n",
      "Train Epoch: 394 [0/50000 (0%)]\tLoss: 10847.210938\n"
     ]
    },
    {
     "name": "stderr",
     "output_type": "stream",
     "text": [
      " 79%|███████▉  | 395/500 [21:34:43<5:41:24, 195.09s/it]"
     ]
    },
    {
     "name": "stdout",
     "output_type": "stream",
     "text": [
      "\n",
      "Test set: Average loss: 2.3026, Accuracy: 1000/10000 (10%)\n",
      "\n",
      "Epoch 394:\n",
      "loss train: tensor(10828.7676, device='cuda:0', grad_fn=<DivBackward0>)\n",
      "acc train: 0.1\n",
      "loss test: 2.3026079498291017\n",
      "acc test: 0.1\n",
      "Train Epoch: 395 [0/50000 (0%)]\tLoss: 10820.488281\n"
     ]
    },
    {
     "name": "stderr",
     "output_type": "stream",
     "text": [
      " 79%|███████▉  | 396/500 [21:37:58<5:38:10, 195.10s/it]"
     ]
    },
    {
     "name": "stdout",
     "output_type": "stream",
     "text": [
      "\n",
      "Test set: Average loss: 2.3026, Accuracy: 1000/10000 (10%)\n",
      "\n",
      "Epoch 395:\n",
      "loss train: tensor(10804.4424, device='cuda:0', grad_fn=<DivBackward0>)\n",
      "acc train: 0.1\n",
      "loss test: 2.3026077629089357\n",
      "acc test: 0.1\n",
      "Train Epoch: 396 [0/50000 (0%)]\tLoss: 10805.762695\n"
     ]
    },
    {
     "name": "stderr",
     "output_type": "stream",
     "text": [
      " 79%|███████▉  | 397/500 [21:41:13<5:34:47, 195.03s/it]"
     ]
    },
    {
     "name": "stdout",
     "output_type": "stream",
     "text": [
      "\n",
      "Test set: Average loss: 2.3026, Accuracy: 1000/10000 (10%)\n",
      "\n",
      "Epoch 396:\n",
      "loss train: tensor(10795.6436, device='cuda:0', grad_fn=<DivBackward0>)\n",
      "acc train: 0.1\n",
      "loss test: 2.3026070167541506\n",
      "acc test: 0.1\n",
      "Train Epoch: 397 [0/50000 (0%)]\tLoss: 10767.436523\n"
     ]
    },
    {
     "name": "stderr",
     "output_type": "stream",
     "text": [
      " 80%|███████▉  | 398/500 [21:44:28<5:31:37, 195.07s/it]"
     ]
    },
    {
     "name": "stdout",
     "output_type": "stream",
     "text": [
      "\n",
      "Test set: Average loss: 2.3026, Accuracy: 1000/10000 (10%)\n",
      "\n",
      "Epoch 397:\n",
      "loss train: tensor(10778.6338, device='cuda:0', grad_fn=<DivBackward0>)\n",
      "acc train: 0.1\n",
      "loss test: 2.302607258605957\n",
      "acc test: 0.1\n",
      "Train Epoch: 398 [0/50000 (0%)]\tLoss: 10778.552734\n"
     ]
    },
    {
     "name": "stderr",
     "output_type": "stream",
     "text": [
      " 80%|███████▉  | 399/500 [21:47:43<5:28:28, 195.13s/it]"
     ]
    },
    {
     "name": "stdout",
     "output_type": "stream",
     "text": [
      "\n",
      "Test set: Average loss: 2.3026, Accuracy: 1000/10000 (10%)\n",
      "\n",
      "Epoch 398:\n",
      "loss train: tensor(10788.8418, device='cuda:0', grad_fn=<DivBackward0>)\n",
      "acc train: 0.1\n",
      "loss test: 2.3026076499938966\n",
      "acc test: 0.1\n",
      "Train Epoch: 399 [0/50000 (0%)]\tLoss: 10800.638672\n",
      "\n",
      "Test set: Average loss: 2.3026, Accuracy: 1000/10000 (10%)\n",
      "\n",
      "Epoch 399:\n",
      "loss train: tensor(10788.0381, device='cuda:0', grad_fn=<DivBackward0>)\n",
      "acc train: 0.1\n",
      "loss test: 2.302606690597534\n",
      "acc test: 0.1\n"
     ]
    },
    {
     "name": "stderr",
     "output_type": "stream",
     "text": [
      " 80%|████████  | 400/500 [21:51:17<5:34:36, 200.77s/it]"
     ]
    },
    {
     "name": "stdout",
     "output_type": "stream",
     "text": [
      "PGD attack Acc 10.000\n",
      "pgd_acc test: 0.1\n",
      "Train Epoch: 400 [0/50000 (0%)]\tLoss: 10791.868164\n"
     ]
    },
    {
     "name": "stderr",
     "output_type": "stream",
     "text": [
      " 80%|████████  | 401/500 [21:54:32<5:28:21, 199.00s/it]"
     ]
    },
    {
     "name": "stdout",
     "output_type": "stream",
     "text": [
      "\n",
      "Test set: Average loss: 2.3026, Accuracy: 1000/10000 (10%)\n",
      "\n",
      "Epoch 400:\n",
      "loss train: tensor(10766.3838, device='cuda:0', grad_fn=<DivBackward0>)\n",
      "acc train: 0.1\n",
      "loss test: 2.30260624961853\n",
      "acc test: 0.1\n",
      "Train Epoch: 401 [0/50000 (0%)]\tLoss: 10743.176758\n"
     ]
    },
    {
     "name": "stderr",
     "output_type": "stream",
     "text": [
      " 80%|████████  | 402/500 [21:57:47<5:23:01, 197.78s/it]"
     ]
    },
    {
     "name": "stdout",
     "output_type": "stream",
     "text": [
      "\n",
      "Test set: Average loss: 2.3026, Accuracy: 1000/10000 (10%)\n",
      "\n",
      "Epoch 401:\n",
      "loss train: tensor(10728.5020, device='cuda:0', grad_fn=<DivBackward0>)\n",
      "acc train: 0.1\n",
      "loss test: 2.3026059474945066\n",
      "acc test: 0.1\n",
      "Train Epoch: 402 [0/50000 (0%)]\tLoss: 10677.215820\n"
     ]
    },
    {
     "name": "stderr",
     "output_type": "stream",
     "text": [
      " 81%|████████  | 403/500 [22:01:02<5:18:19, 196.90s/it]"
     ]
    },
    {
     "name": "stdout",
     "output_type": "stream",
     "text": [
      "\n",
      "Test set: Average loss: 2.3026, Accuracy: 1000/10000 (10%)\n",
      "\n",
      "Epoch 402:\n",
      "loss train: tensor(10644.3682, device='cuda:0', grad_fn=<DivBackward0>)\n",
      "acc train: 0.1\n",
      "loss test: 2.3026055797576905\n",
      "acc test: 0.1\n",
      "Train Epoch: 403 [0/50000 (0%)]\tLoss: 10614.162109\n"
     ]
    },
    {
     "name": "stderr",
     "output_type": "stream",
     "text": [
      " 81%|████████  | 404/500 [22:04:17<5:14:13, 196.40s/it]"
     ]
    },
    {
     "name": "stdout",
     "output_type": "stream",
     "text": [
      "\n",
      "Test set: Average loss: 2.3026, Accuracy: 1000/10000 (10%)\n",
      "\n",
      "Epoch 403:\n",
      "loss train: tensor(10598.2686, device='cuda:0', grad_fn=<DivBackward0>)\n",
      "acc train: 0.1\n",
      "loss test: 2.3026054370880127\n",
      "acc test: 0.1\n",
      "Train Epoch: 404 [0/50000 (0%)]\tLoss: 10576.519531\n"
     ]
    },
    {
     "name": "stderr",
     "output_type": "stream",
     "text": [
      " 81%|████████  | 405/500 [22:07:32<5:10:18, 195.99s/it]"
     ]
    },
    {
     "name": "stdout",
     "output_type": "stream",
     "text": [
      "\n",
      "Test set: Average loss: 2.3026, Accuracy: 1000/10000 (10%)\n",
      "\n",
      "Epoch 404:\n",
      "loss train: tensor(10586.2500, device='cuda:0', grad_fn=<DivBackward0>)\n",
      "acc train: 0.1\n",
      "loss test: 2.302605055618286\n",
      "acc test: 0.1\n",
      "Train Epoch: 405 [0/50000 (0%)]\tLoss: 10595.163086\n"
     ]
    },
    {
     "name": "stderr",
     "output_type": "stream",
     "text": [
      " 81%|████████  | 406/500 [22:10:47<5:06:31, 195.65s/it]"
     ]
    },
    {
     "name": "stdout",
     "output_type": "stream",
     "text": [
      "\n",
      "Test set: Average loss: 2.3026, Accuracy: 1000/10000 (10%)\n",
      "\n",
      "Epoch 405:\n",
      "loss train: tensor(10583.8564, device='cuda:0', grad_fn=<DivBackward0>)\n",
      "acc train: 0.1\n",
      "loss test: 2.3026050830841065\n",
      "acc test: 0.1\n",
      "Train Epoch: 406 [0/50000 (0%)]\tLoss: 10575.379883\n"
     ]
    },
    {
     "name": "stderr",
     "output_type": "stream",
     "text": [
      " 81%|████████▏ | 407/500 [22:14:02<5:02:55, 195.44s/it]"
     ]
    },
    {
     "name": "stdout",
     "output_type": "stream",
     "text": [
      "\n",
      "Test set: Average loss: 2.3026, Accuracy: 1000/10000 (10%)\n",
      "\n",
      "Epoch 406:\n",
      "loss train: tensor(10557.4971, device='cuda:0', grad_fn=<DivBackward0>)\n",
      "acc train: 0.1\n",
      "loss test: 2.3026047382354737\n",
      "acc test: 0.1\n",
      "Train Epoch: 407 [0/50000 (0%)]\tLoss: 10527.481445\n"
     ]
    },
    {
     "name": "stderr",
     "output_type": "stream",
     "text": [
      " 82%|████████▏ | 408/500 [22:17:17<4:59:32, 195.35s/it]"
     ]
    },
    {
     "name": "stdout",
     "output_type": "stream",
     "text": [
      "\n",
      "Test set: Average loss: 2.3026, Accuracy: 1000/10000 (10%)\n",
      "\n",
      "Epoch 407:\n",
      "loss train: tensor(10523.1074, device='cuda:0', grad_fn=<DivBackward0>)\n",
      "acc train: 0.1\n",
      "loss test: 2.3026046546936034\n",
      "acc test: 0.1\n",
      "Train Epoch: 408 [0/50000 (0%)]\tLoss: 10521.261719\n"
     ]
    },
    {
     "name": "stderr",
     "output_type": "stream",
     "text": [
      " 82%|████████▏ | 409/500 [22:20:32<4:56:08, 195.26s/it]"
     ]
    },
    {
     "name": "stdout",
     "output_type": "stream",
     "text": [
      "\n",
      "Test set: Average loss: 2.3026, Accuracy: 1000/10000 (10%)\n",
      "\n",
      "Epoch 408:\n",
      "loss train: tensor(10522.0605, device='cuda:0', grad_fn=<DivBackward0>)\n",
      "acc train: 0.1\n",
      "loss test: 2.302604451370239\n",
      "acc test: 0.1\n",
      "Train Epoch: 409 [0/50000 (0%)]\tLoss: 10509.564453\n"
     ]
    },
    {
     "name": "stderr",
     "output_type": "stream",
     "text": [
      " 82%|████████▏ | 410/500 [22:23:47<4:52:51, 195.24s/it]"
     ]
    },
    {
     "name": "stdout",
     "output_type": "stream",
     "text": [
      "\n",
      "Test set: Average loss: 2.3026, Accuracy: 1000/10000 (10%)\n",
      "\n",
      "Epoch 409:\n",
      "loss train: tensor(10517.4795, device='cuda:0', grad_fn=<DivBackward0>)\n",
      "acc train: 0.1\n",
      "loss test: 2.3026049331665037\n",
      "acc test: 0.1\n",
      "Train Epoch: 410 [0/50000 (0%)]\tLoss: 10513.072266\n"
     ]
    },
    {
     "name": "stderr",
     "output_type": "stream",
     "text": [
      " 82%|████████▏ | 411/500 [22:27:02<4:49:30, 195.18s/it]"
     ]
    },
    {
     "name": "stdout",
     "output_type": "stream",
     "text": [
      "\n",
      "Test set: Average loss: 2.3026, Accuracy: 1000/10000 (10%)\n",
      "\n",
      "Epoch 410:\n",
      "loss train: tensor(10515.7422, device='cuda:0', grad_fn=<DivBackward0>)\n",
      "acc train: 0.1\n",
      "loss test: 2.3026040241241454\n",
      "acc test: 0.1\n",
      "Train Epoch: 411 [0/50000 (0%)]\tLoss: 10524.392578\n"
     ]
    },
    {
     "name": "stderr",
     "output_type": "stream",
     "text": [
      " 82%|████████▏ | 412/500 [22:30:17<4:46:12, 195.14s/it]"
     ]
    },
    {
     "name": "stdout",
     "output_type": "stream",
     "text": [
      "\n",
      "Test set: Average loss: 2.3026, Accuracy: 1000/10000 (10%)\n",
      "\n",
      "Epoch 411:\n",
      "loss train: tensor(10513.4189, device='cuda:0', grad_fn=<DivBackward0>)\n",
      "acc train: 0.1\n",
      "loss test: 2.3026039627075194\n",
      "acc test: 0.1\n",
      "Train Epoch: 412 [0/50000 (0%)]\tLoss: 10526.374023\n"
     ]
    },
    {
     "name": "stderr",
     "output_type": "stream",
     "text": [
      " 83%|████████▎ | 413/500 [22:33:32<4:42:48, 195.04s/it]"
     ]
    },
    {
     "name": "stdout",
     "output_type": "stream",
     "text": [
      "\n",
      "Test set: Average loss: 2.3026, Accuracy: 1000/10000 (10%)\n",
      "\n",
      "Epoch 412:\n",
      "loss train: tensor(10523.7969, device='cuda:0', grad_fn=<DivBackward0>)\n",
      "acc train: 0.1\n",
      "loss test: 2.3026034183502198\n",
      "acc test: 0.1\n",
      "Train Epoch: 413 [0/50000 (0%)]\tLoss: 10526.161133\n"
     ]
    },
    {
     "name": "stderr",
     "output_type": "stream",
     "text": [
      " 83%|████████▎ | 414/500 [22:36:47<4:39:29, 195.00s/it]"
     ]
    },
    {
     "name": "stdout",
     "output_type": "stream",
     "text": [
      "\n",
      "Test set: Average loss: 2.3026, Accuracy: 1000/10000 (10%)\n",
      "\n",
      "Epoch 413:\n",
      "loss train: tensor(10551.3027, device='cuda:0', grad_fn=<DivBackward0>)\n",
      "acc train: 0.1\n",
      "loss test: 2.3026035251617434\n",
      "acc test: 0.1\n",
      "Train Epoch: 414 [0/50000 (0%)]\tLoss: 10557.168945\n"
     ]
    },
    {
     "name": "stderr",
     "output_type": "stream",
     "text": [
      " 83%|████████▎ | 415/500 [22:40:03<4:36:25, 195.12s/it]"
     ]
    },
    {
     "name": "stdout",
     "output_type": "stream",
     "text": [
      "\n",
      "Test set: Average loss: 2.3026, Accuracy: 1000/10000 (10%)\n",
      "\n",
      "Epoch 414:\n",
      "loss train: tensor(10561.0146, device='cuda:0', grad_fn=<DivBackward0>)\n",
      "acc train: 0.1\n",
      "loss test: 2.3026033866882325\n",
      "acc test: 0.1\n",
      "Train Epoch: 415 [0/50000 (0%)]\tLoss: 10556.630859\n"
     ]
    },
    {
     "name": "stderr",
     "output_type": "stream",
     "text": [
      " 83%|████████▎ | 416/500 [22:43:18<4:33:12, 195.15s/it]"
     ]
    },
    {
     "name": "stdout",
     "output_type": "stream",
     "text": [
      "\n",
      "Test set: Average loss: 2.3026, Accuracy: 1000/10000 (10%)\n",
      "\n",
      "Epoch 415:\n",
      "loss train: tensor(10556.3096, device='cuda:0', grad_fn=<DivBackward0>)\n",
      "acc train: 0.1\n",
      "loss test: 2.302602933883667\n",
      "acc test: 0.1\n",
      "Train Epoch: 416 [0/50000 (0%)]\tLoss: 10550.924805\n"
     ]
    },
    {
     "name": "stderr",
     "output_type": "stream",
     "text": [
      " 83%|████████▎ | 417/500 [22:46:33<4:29:54, 195.12s/it]"
     ]
    },
    {
     "name": "stdout",
     "output_type": "stream",
     "text": [
      "\n",
      "Test set: Average loss: 2.3026, Accuracy: 1000/10000 (10%)\n",
      "\n",
      "Epoch 416:\n",
      "loss train: tensor(10566.4707, device='cuda:0', grad_fn=<DivBackward0>)\n",
      "acc train: 0.1\n",
      "loss test: 2.302602914428711\n",
      "acc test: 0.1\n",
      "Train Epoch: 417 [0/50000 (0%)]\tLoss: 10574.339844\n"
     ]
    },
    {
     "name": "stderr",
     "output_type": "stream",
     "text": [
      " 84%|████████▎ | 418/500 [22:49:48<4:26:36, 195.08s/it]"
     ]
    },
    {
     "name": "stdout",
     "output_type": "stream",
     "text": [
      "\n",
      "Test set: Average loss: 2.3026, Accuracy: 1000/10000 (10%)\n",
      "\n",
      "Epoch 417:\n",
      "loss train: tensor(10565.1113, device='cuda:0', grad_fn=<DivBackward0>)\n",
      "acc train: 0.1\n",
      "loss test: 2.302602774810791\n",
      "acc test: 0.1\n",
      "Train Epoch: 418 [0/50000 (0%)]\tLoss: 10559.541992\n"
     ]
    },
    {
     "name": "stderr",
     "output_type": "stream",
     "text": [
      " 84%|████████▍ | 419/500 [22:53:03<4:23:13, 194.98s/it]"
     ]
    },
    {
     "name": "stdout",
     "output_type": "stream",
     "text": [
      "\n",
      "Test set: Average loss: 2.3026, Accuracy: 1000/10000 (10%)\n",
      "\n",
      "Epoch 418:\n",
      "loss train: tensor(10550.4697, device='cuda:0', grad_fn=<DivBackward0>)\n",
      "acc train: 0.1\n",
      "loss test: 2.3026025447845457\n",
      "acc test: 0.1\n",
      "Train Epoch: 419 [0/50000 (0%)]\tLoss: 10495.351562\n"
     ]
    },
    {
     "name": "stderr",
     "output_type": "stream",
     "text": [
      " 84%|████████▍ | 420/500 [22:56:18<4:19:58, 194.98s/it]"
     ]
    },
    {
     "name": "stdout",
     "output_type": "stream",
     "text": [
      "\n",
      "Test set: Average loss: 2.3026, Accuracy: 1000/10000 (10%)\n",
      "\n",
      "Epoch 419:\n",
      "loss train: tensor(10538.7090, device='cuda:0', grad_fn=<DivBackward0>)\n",
      "acc train: 0.1\n",
      "loss test: 2.3026025356292723\n",
      "acc test: 0.1\n",
      "Train Epoch: 420 [0/50000 (0%)]\tLoss: 10526.559570\n"
     ]
    },
    {
     "name": "stderr",
     "output_type": "stream",
     "text": [
      " 84%|████████▍ | 421/500 [22:59:32<4:16:35, 194.88s/it]"
     ]
    },
    {
     "name": "stdout",
     "output_type": "stream",
     "text": [
      "\n",
      "Test set: Average loss: 2.3026, Accuracy: 1000/10000 (10%)\n",
      "\n",
      "Epoch 420:\n",
      "loss train: tensor(10510.1367, device='cuda:0', grad_fn=<DivBackward0>)\n",
      "acc train: 0.1\n",
      "loss test: 2.302602132034302\n",
      "acc test: 0.1\n",
      "Train Epoch: 421 [0/50000 (0%)]\tLoss: 10500.768555\n"
     ]
    },
    {
     "name": "stderr",
     "output_type": "stream",
     "text": [
      " 84%|████████▍ | 422/500 [23:02:47<4:13:22, 194.90s/it]"
     ]
    },
    {
     "name": "stdout",
     "output_type": "stream",
     "text": [
      "\n",
      "Test set: Average loss: 2.3026, Accuracy: 1000/10000 (10%)\n",
      "\n",
      "Epoch 421:\n",
      "loss train: tensor(10471.0557, device='cuda:0', grad_fn=<DivBackward0>)\n",
      "acc train: 0.1\n",
      "loss test: 2.3026021053314207\n",
      "acc test: 0.1\n",
      "Train Epoch: 422 [0/50000 (0%)]\tLoss: 10449.055664\n"
     ]
    },
    {
     "name": "stderr",
     "output_type": "stream",
     "text": [
      " 85%|████████▍ | 423/500 [23:06:02<4:10:06, 194.89s/it]"
     ]
    },
    {
     "name": "stdout",
     "output_type": "stream",
     "text": [
      "\n",
      "Test set: Average loss: 2.3026, Accuracy: 1000/10000 (10%)\n",
      "\n",
      "Epoch 422:\n",
      "loss train: tensor(10446.0801, device='cuda:0', grad_fn=<DivBackward0>)\n",
      "acc train: 0.1\n",
      "loss test: 2.302602032852173\n",
      "acc test: 0.1\n",
      "Train Epoch: 423 [0/50000 (0%)]\tLoss: 10442.631836\n"
     ]
    },
    {
     "name": "stderr",
     "output_type": "stream",
     "text": [
      " 85%|████████▍ | 424/500 [23:09:17<4:06:47, 194.84s/it]"
     ]
    },
    {
     "name": "stdout",
     "output_type": "stream",
     "text": [
      "\n",
      "Test set: Average loss: 2.3026, Accuracy: 1000/10000 (10%)\n",
      "\n",
      "Epoch 423:\n",
      "loss train: tensor(10420.5312, device='cuda:0', grad_fn=<DivBackward0>)\n",
      "acc train: 0.1\n",
      "loss test: 2.302601810455322\n",
      "acc test: 0.1\n",
      "Train Epoch: 424 [0/50000 (0%)]\tLoss: 10414.455078\n"
     ]
    },
    {
     "name": "stderr",
     "output_type": "stream",
     "text": [
      " 85%|████████▌ | 425/500 [23:12:32<4:03:39, 194.92s/it]"
     ]
    },
    {
     "name": "stdout",
     "output_type": "stream",
     "text": [
      "\n",
      "Test set: Average loss: 2.3026, Accuracy: 1000/10000 (10%)\n",
      "\n",
      "Epoch 424:\n",
      "loss train: tensor(10406.8135, device='cuda:0', grad_fn=<DivBackward0>)\n",
      "acc train: 0.1\n",
      "loss test: 2.302601697540283\n",
      "acc test: 0.1\n",
      "Train Epoch: 425 [0/50000 (0%)]\tLoss: 10387.458008\n"
     ]
    },
    {
     "name": "stderr",
     "output_type": "stream",
     "text": [
      " 85%|████████▌ | 426/500 [23:15:47<4:00:25, 194.93s/it]"
     ]
    },
    {
     "name": "stdout",
     "output_type": "stream",
     "text": [
      "\n",
      "Test set: Average loss: 2.3026, Accuracy: 1000/10000 (10%)\n",
      "\n",
      "Epoch 425:\n",
      "loss train: tensor(10377.0273, device='cuda:0', grad_fn=<DivBackward0>)\n",
      "acc train: 0.1\n",
      "loss test: 2.3026016883850096\n",
      "acc test: 0.1\n",
      "Train Epoch: 426 [0/50000 (0%)]\tLoss: 10365.002930\n"
     ]
    },
    {
     "name": "stderr",
     "output_type": "stream",
     "text": [
      " 85%|████████▌ | 427/500 [23:19:01<3:57:04, 194.85s/it]"
     ]
    },
    {
     "name": "stdout",
     "output_type": "stream",
     "text": [
      "\n",
      "Test set: Average loss: 2.3026, Accuracy: 1000/10000 (10%)\n",
      "\n",
      "Epoch 426:\n",
      "loss train: tensor(10353.8467, device='cuda:0', grad_fn=<DivBackward0>)\n",
      "acc train: 0.1\n",
      "loss test: 2.3026013076782226\n",
      "acc test: 0.1\n",
      "Train Epoch: 427 [0/50000 (0%)]\tLoss: 10347.024414\n"
     ]
    },
    {
     "name": "stderr",
     "output_type": "stream",
     "text": [
      " 86%|████████▌ | 428/500 [23:22:16<3:53:44, 194.78s/it]"
     ]
    },
    {
     "name": "stdout",
     "output_type": "stream",
     "text": [
      "\n",
      "Test set: Average loss: 2.3026, Accuracy: 1000/10000 (10%)\n",
      "\n",
      "Epoch 427:\n",
      "loss train: tensor(10329.7139, device='cuda:0', grad_fn=<DivBackward0>)\n",
      "acc train: 0.1\n",
      "loss test: 2.3026013916015624\n",
      "acc test: 0.1\n",
      "Train Epoch: 428 [0/50000 (0%)]\tLoss: 10326.646484\n"
     ]
    },
    {
     "name": "stderr",
     "output_type": "stream",
     "text": [
      " 86%|████████▌ | 429/500 [23:25:31<3:50:23, 194.69s/it]"
     ]
    },
    {
     "name": "stdout",
     "output_type": "stream",
     "text": [
      "\n",
      "Test set: Average loss: 2.3026, Accuracy: 1000/10000 (10%)\n",
      "\n",
      "Epoch 428:\n",
      "loss train: tensor(10310.2207, device='cuda:0', grad_fn=<DivBackward0>)\n",
      "acc train: 0.1\n",
      "loss test: 2.3026007797241212\n",
      "acc test: 0.1\n",
      "Train Epoch: 429 [0/50000 (0%)]\tLoss: 10303.257812\n"
     ]
    },
    {
     "name": "stderr",
     "output_type": "stream",
     "text": [
      " 86%|████████▌ | 430/500 [23:28:46<3:47:17, 194.82s/it]"
     ]
    },
    {
     "name": "stdout",
     "output_type": "stream",
     "text": [
      "\n",
      "Test set: Average loss: 2.3026, Accuracy: 1000/10000 (10%)\n",
      "\n",
      "Epoch 429:\n",
      "loss train: tensor(10288.6270, device='cuda:0', grad_fn=<DivBackward0>)\n",
      "acc train: 0.1\n",
      "loss test: 2.302600826263428\n",
      "acc test: 0.1\n",
      "Train Epoch: 430 [0/50000 (0%)]\tLoss: 10275.830078\n"
     ]
    },
    {
     "name": "stderr",
     "output_type": "stream",
     "text": [
      " 86%|████████▌ | 431/500 [23:32:01<3:44:06, 194.88s/it]"
     ]
    },
    {
     "name": "stdout",
     "output_type": "stream",
     "text": [
      "\n",
      "Test set: Average loss: 2.3026, Accuracy: 1000/10000 (10%)\n",
      "\n",
      "Epoch 430:\n",
      "loss train: tensor(10270.2979, device='cuda:0', grad_fn=<DivBackward0>)\n",
      "acc train: 0.1\n",
      "loss test: 2.30260118560791\n",
      "acc test: 0.1\n",
      "Train Epoch: 431 [0/50000 (0%)]\tLoss: 10274.400391\n"
     ]
    },
    {
     "name": "stderr",
     "output_type": "stream",
     "text": [
      " 86%|████████▋ | 432/500 [23:35:16<3:40:56, 194.95s/it]"
     ]
    },
    {
     "name": "stdout",
     "output_type": "stream",
     "text": [
      "\n",
      "Test set: Average loss: 2.3026, Accuracy: 1000/10000 (10%)\n",
      "\n",
      "Epoch 431:\n",
      "loss train: tensor(10259.7402, device='cuda:0', grad_fn=<DivBackward0>)\n",
      "acc train: 0.1\n",
      "loss test: 2.302600368499756\n",
      "acc test: 0.1\n",
      "Train Epoch: 432 [0/50000 (0%)]\tLoss: 10256.417969\n"
     ]
    },
    {
     "name": "stderr",
     "output_type": "stream",
     "text": [
      " 87%|████████▋ | 433/500 [23:38:31<3:37:42, 194.96s/it]"
     ]
    },
    {
     "name": "stdout",
     "output_type": "stream",
     "text": [
      "\n",
      "Test set: Average loss: 2.3026, Accuracy: 1000/10000 (10%)\n",
      "\n",
      "Epoch 432:\n",
      "loss train: tensor(10250.1270, device='cuda:0', grad_fn=<DivBackward0>)\n",
      "acc train: 0.1\n",
      "loss test: 2.3026004528045654\n",
      "acc test: 0.1\n",
      "Train Epoch: 433 [0/50000 (0%)]\tLoss: 10246.770508\n"
     ]
    },
    {
     "name": "stderr",
     "output_type": "stream",
     "text": [
      " 87%|████████▋ | 434/500 [23:41:46<3:34:23, 194.90s/it]"
     ]
    },
    {
     "name": "stdout",
     "output_type": "stream",
     "text": [
      "\n",
      "Test set: Average loss: 2.3026, Accuracy: 1000/10000 (10%)\n",
      "\n",
      "Epoch 433:\n",
      "loss train: tensor(10203.3555, device='cuda:0', grad_fn=<DivBackward0>)\n",
      "acc train: 0.1\n",
      "loss test: 2.302600045776367\n",
      "acc test: 0.1\n",
      "Train Epoch: 434 [0/50000 (0%)]\tLoss: 10168.029297\n"
     ]
    },
    {
     "name": "stderr",
     "output_type": "stream",
     "text": [
      " 87%|████████▋ | 435/500 [23:45:01<3:31:12, 194.96s/it]"
     ]
    },
    {
     "name": "stdout",
     "output_type": "stream",
     "text": [
      "\n",
      "Test set: Average loss: 2.3026, Accuracy: 1000/10000 (10%)\n",
      "\n",
      "Epoch 434:\n",
      "loss train: tensor(10153.3320, device='cuda:0', grad_fn=<DivBackward0>)\n",
      "acc train: 0.1\n",
      "loss test: 2.302600308609009\n",
      "acc test: 0.1\n",
      "Train Epoch: 435 [0/50000 (0%)]\tLoss: 10141.806641\n"
     ]
    },
    {
     "name": "stderr",
     "output_type": "stream",
     "text": [
      " 87%|████████▋ | 436/500 [23:48:16<3:27:58, 194.97s/it]"
     ]
    },
    {
     "name": "stdout",
     "output_type": "stream",
     "text": [
      "\n",
      "Test set: Average loss: 2.3026, Accuracy: 1000/10000 (10%)\n",
      "\n",
      "Epoch 435:\n",
      "loss train: tensor(10138.0078, device='cuda:0', grad_fn=<DivBackward0>)\n",
      "acc train: 0.1\n",
      "loss test: 2.3025998706817625\n",
      "acc test: 0.1\n",
      "Train Epoch: 436 [0/50000 (0%)]\tLoss: 10129.672852\n"
     ]
    },
    {
     "name": "stderr",
     "output_type": "stream",
     "text": [
      " 87%|████████▋ | 437/500 [23:51:31<3:24:47, 195.04s/it]"
     ]
    },
    {
     "name": "stdout",
     "output_type": "stream",
     "text": [
      "\n",
      "Test set: Average loss: 2.3026, Accuracy: 1000/10000 (10%)\n",
      "\n",
      "Epoch 436:\n",
      "loss train: tensor(10114.3828, device='cuda:0', grad_fn=<DivBackward0>)\n",
      "acc train: 0.1\n",
      "loss test: 2.3025998851776124\n",
      "acc test: 0.1\n",
      "Train Epoch: 437 [0/50000 (0%)]\tLoss: 10082.760742\n"
     ]
    },
    {
     "name": "stderr",
     "output_type": "stream",
     "text": [
      " 88%|████████▊ | 438/500 [23:54:46<3:21:32, 195.05s/it]"
     ]
    },
    {
     "name": "stdout",
     "output_type": "stream",
     "text": [
      "\n",
      "Test set: Average loss: 2.3026, Accuracy: 1000/10000 (10%)\n",
      "\n",
      "Epoch 437:\n",
      "loss train: tensor(10027.8496, device='cuda:0', grad_fn=<DivBackward0>)\n",
      "acc train: 0.1\n",
      "loss test: 2.3025997745513918\n",
      "acc test: 0.1\n",
      "Train Epoch: 438 [0/50000 (0%)]\tLoss: 9974.692383\n"
     ]
    },
    {
     "name": "stderr",
     "output_type": "stream",
     "text": [
      " 88%|████████▊ | 439/500 [23:58:01<3:18:14, 195.00s/it]"
     ]
    },
    {
     "name": "stdout",
     "output_type": "stream",
     "text": [
      "\n",
      "Test set: Average loss: 2.3026, Accuracy: 1000/10000 (10%)\n",
      "\n",
      "Epoch 438:\n",
      "loss train: tensor(9932.1396, device='cuda:0', grad_fn=<DivBackward0>)\n",
      "acc train: 0.1\n",
      "loss test: 2.302599739074707\n",
      "acc test: 0.1\n",
      "Train Epoch: 439 [0/50000 (0%)]\tLoss: 9900.819336\n"
     ]
    },
    {
     "name": "stderr",
     "output_type": "stream",
     "text": [
      " 88%|████████▊ | 440/500 [24:01:16<3:14:56, 194.95s/it]"
     ]
    },
    {
     "name": "stdout",
     "output_type": "stream",
     "text": [
      "\n",
      "Test set: Average loss: 2.3026, Accuracy: 1000/10000 (10%)\n",
      "\n",
      "Epoch 439:\n",
      "loss train: tensor(9899.0352, device='cuda:0', grad_fn=<DivBackward0>)\n",
      "acc train: 0.1\n",
      "loss test: 2.302599324798584\n",
      "acc test: 0.1\n",
      "Train Epoch: 440 [0/50000 (0%)]\tLoss: 9919.025391\n"
     ]
    },
    {
     "name": "stderr",
     "output_type": "stream",
     "text": [
      " 88%|████████▊ | 441/500 [24:04:30<3:11:39, 194.91s/it]"
     ]
    },
    {
     "name": "stdout",
     "output_type": "stream",
     "text": [
      "\n",
      "Test set: Average loss: 2.3026, Accuracy: 1000/10000 (10%)\n",
      "\n",
      "Epoch 440:\n",
      "loss train: tensor(9934.0918, device='cuda:0', grad_fn=<DivBackward0>)\n",
      "acc train: 0.1\n",
      "loss test: 2.302598971939087\n",
      "acc test: 0.1\n",
      "Train Epoch: 441 [0/50000 (0%)]\tLoss: 9954.353516\n"
     ]
    },
    {
     "name": "stderr",
     "output_type": "stream",
     "text": [
      " 88%|████████▊ | 442/500 [24:07:45<3:08:25, 194.92s/it]"
     ]
    },
    {
     "name": "stdout",
     "output_type": "stream",
     "text": [
      "\n",
      "Test set: Average loss: 2.3026, Accuracy: 1000/10000 (10%)\n",
      "\n",
      "Epoch 441:\n",
      "loss train: tensor(9975.3301, device='cuda:0', grad_fn=<DivBackward0>)\n",
      "acc train: 0.1\n",
      "loss test: 2.3025993415832517\n",
      "acc test: 0.1\n",
      "Train Epoch: 442 [0/50000 (0%)]\tLoss: 9980.952148\n"
     ]
    },
    {
     "name": "stderr",
     "output_type": "stream",
     "text": [
      " 89%|████████▊ | 443/500 [24:11:00<3:05:12, 194.95s/it]"
     ]
    },
    {
     "name": "stdout",
     "output_type": "stream",
     "text": [
      "\n",
      "Test set: Average loss: 2.3026, Accuracy: 1000/10000 (10%)\n",
      "\n",
      "Epoch 442:\n",
      "loss train: tensor(9945.3711, device='cuda:0', grad_fn=<DivBackward0>)\n",
      "acc train: 0.1\n",
      "loss test: 2.3025998748779295\n",
      "acc test: 0.1\n",
      "Train Epoch: 443 [0/50000 (0%)]\tLoss: 9916.138672\n"
     ]
    },
    {
     "name": "stderr",
     "output_type": "stream",
     "text": [
      " 89%|████████▉ | 444/500 [24:14:15<3:01:57, 194.96s/it]"
     ]
    },
    {
     "name": "stdout",
     "output_type": "stream",
     "text": [
      "\n",
      "Test set: Average loss: 2.3026, Accuracy: 1000/10000 (10%)\n",
      "\n",
      "Epoch 443:\n",
      "loss train: tensor(9901.1025, device='cuda:0', grad_fn=<DivBackward0>)\n",
      "acc train: 0.1\n",
      "loss test: 2.3025989307403565\n",
      "acc test: 0.1\n",
      "Train Epoch: 444 [0/50000 (0%)]\tLoss: 9900.510742\n"
     ]
    },
    {
     "name": "stderr",
     "output_type": "stream",
     "text": [
      " 89%|████████▉ | 445/500 [24:17:31<2:58:45, 195.01s/it]"
     ]
    },
    {
     "name": "stdout",
     "output_type": "stream",
     "text": [
      "\n",
      "Test set: Average loss: 2.3026, Accuracy: 1000/10000 (10%)\n",
      "\n",
      "Epoch 444:\n",
      "loss train: tensor(9885.9941, device='cuda:0', grad_fn=<DivBackward0>)\n",
      "acc train: 0.1\n",
      "loss test: 2.302598624420166\n",
      "acc test: 0.1\n",
      "Train Epoch: 445 [0/50000 (0%)]\tLoss: 9843.970703\n"
     ]
    },
    {
     "name": "stderr",
     "output_type": "stream",
     "text": [
      " 89%|████████▉ | 446/500 [24:20:46<2:55:31, 195.02s/it]"
     ]
    },
    {
     "name": "stdout",
     "output_type": "stream",
     "text": [
      "\n",
      "Test set: Average loss: 2.3026, Accuracy: 1000/10000 (10%)\n",
      "\n",
      "Epoch 445:\n",
      "loss train: tensor(9820.1680, device='cuda:0', grad_fn=<DivBackward0>)\n",
      "acc train: 0.1\n",
      "loss test: 2.302598572921753\n",
      "acc test: 0.1\n",
      "Train Epoch: 446 [0/50000 (0%)]\tLoss: 9804.034180\n"
     ]
    },
    {
     "name": "stderr",
     "output_type": "stream",
     "text": [
      " 89%|████████▉ | 447/500 [24:24:00<2:52:14, 195.00s/it]"
     ]
    },
    {
     "name": "stdout",
     "output_type": "stream",
     "text": [
      "\n",
      "Test set: Average loss: 2.3026, Accuracy: 1000/10000 (10%)\n",
      "\n",
      "Epoch 446:\n",
      "loss train: tensor(9802.5186, device='cuda:0', grad_fn=<DivBackward0>)\n",
      "acc train: 0.1\n",
      "loss test: 2.302598672866821\n",
      "acc test: 0.1\n",
      "Train Epoch: 447 [0/50000 (0%)]\tLoss: 9818.208008\n"
     ]
    },
    {
     "name": "stderr",
     "output_type": "stream",
     "text": [
      " 90%|████████▉ | 448/500 [24:27:15<2:48:57, 194.96s/it]"
     ]
    },
    {
     "name": "stdout",
     "output_type": "stream",
     "text": [
      "\n",
      "Test set: Average loss: 2.3026, Accuracy: 1000/10000 (10%)\n",
      "\n",
      "Epoch 447:\n",
      "loss train: tensor(9817.6797, device='cuda:0', grad_fn=<DivBackward0>)\n",
      "acc train: 0.1\n",
      "loss test: 2.3025984729766846\n",
      "acc test: 0.1\n",
      "Train Epoch: 448 [0/50000 (0%)]\tLoss: 9798.315430\n"
     ]
    },
    {
     "name": "stderr",
     "output_type": "stream",
     "text": [
      " 90%|████████▉ | 449/500 [24:30:30<2:45:42, 194.95s/it]"
     ]
    },
    {
     "name": "stdout",
     "output_type": "stream",
     "text": [
      "\n",
      "Test set: Average loss: 2.3026, Accuracy: 1000/10000 (10%)\n",
      "\n",
      "Epoch 448:\n",
      "loss train: tensor(9763.3369, device='cuda:0', grad_fn=<DivBackward0>)\n",
      "acc train: 0.1\n",
      "loss test: 2.3025983085632324\n",
      "acc test: 0.1\n",
      "Train Epoch: 449 [0/50000 (0%)]\tLoss: 9742.779297\n",
      "\n",
      "Test set: Average loss: 2.3026, Accuracy: 1000/10000 (10%)\n",
      "\n",
      "Epoch 449:\n",
      "loss train: tensor(9711.7393, device='cuda:0', grad_fn=<DivBackward0>)\n",
      "acc train: 0.1\n",
      "loss test: 2.3025982276916506\n",
      "acc test: 0.1\n"
     ]
    },
    {
     "name": "stderr",
     "output_type": "stream",
     "text": [
      " 90%|█████████ | 450/500 [24:34:05<2:47:24, 200.90s/it]"
     ]
    },
    {
     "name": "stdout",
     "output_type": "stream",
     "text": [
      "PGD attack Acc 10.000\n",
      "pgd_acc test: 0.1\n",
      "Train Epoch: 450 [0/50000 (0%)]\tLoss: 9692.397461\n"
     ]
    },
    {
     "name": "stderr",
     "output_type": "stream",
     "text": [
      " 90%|█████████ | 451/500 [24:37:20<2:42:39, 199.17s/it]"
     ]
    },
    {
     "name": "stdout",
     "output_type": "stream",
     "text": [
      "\n",
      "Test set: Average loss: 2.3026, Accuracy: 1000/10000 (10%)\n",
      "\n",
      "Epoch 450:\n",
      "loss train: tensor(9681.3311, device='cuda:0', grad_fn=<DivBackward0>)\n",
      "acc train: 0.1\n",
      "loss test: 2.302597872924805\n",
      "acc test: 0.1\n",
      "Train Epoch: 451 [0/50000 (0%)]\tLoss: 9668.853516\n"
     ]
    },
    {
     "name": "stderr",
     "output_type": "stream",
     "text": [
      " 90%|█████████ | 452/500 [24:40:35<2:38:15, 197.83s/it]"
     ]
    },
    {
     "name": "stdout",
     "output_type": "stream",
     "text": [
      "\n",
      "Test set: Average loss: 2.3026, Accuracy: 1000/10000 (10%)\n",
      "\n",
      "Epoch 451:\n",
      "loss train: tensor(9636.8965, device='cuda:0', grad_fn=<DivBackward0>)\n",
      "acc train: 0.1\n",
      "loss test: 2.302597775650024\n",
      "acc test: 0.1\n",
      "Train Epoch: 452 [0/50000 (0%)]\tLoss: 9611.505859\n"
     ]
    },
    {
     "name": "stderr",
     "output_type": "stream",
     "text": [
      " 91%|█████████ | 453/500 [24:43:50<2:34:18, 196.99s/it]"
     ]
    },
    {
     "name": "stdout",
     "output_type": "stream",
     "text": [
      "\n",
      "Test set: Average loss: 2.3026, Accuracy: 1000/10000 (10%)\n",
      "\n",
      "Epoch 452:\n",
      "loss train: tensor(9592.1201, device='cuda:0', grad_fn=<DivBackward0>)\n",
      "acc train: 0.1\n",
      "loss test: 2.302597919845581\n",
      "acc test: 0.1\n",
      "Train Epoch: 453 [0/50000 (0%)]\tLoss: 9582.679688\n"
     ]
    },
    {
     "name": "stderr",
     "output_type": "stream",
     "text": [
      " 91%|█████████ | 454/500 [24:47:05<2:30:37, 196.47s/it]"
     ]
    },
    {
     "name": "stdout",
     "output_type": "stream",
     "text": [
      "\n",
      "Test set: Average loss: 2.3026, Accuracy: 1000/10000 (10%)\n",
      "\n",
      "Epoch 453:\n",
      "loss train: tensor(9578.3359, device='cuda:0', grad_fn=<DivBackward0>)\n",
      "acc train: 0.1\n",
      "loss test: 2.302597882461548\n",
      "acc test: 0.1\n",
      "Train Epoch: 454 [0/50000 (0%)]\tLoss: 9562.872070\n"
     ]
    },
    {
     "name": "stderr",
     "output_type": "stream",
     "text": [
      " 91%|█████████ | 455/500 [24:50:20<2:26:59, 195.99s/it]"
     ]
    },
    {
     "name": "stdout",
     "output_type": "stream",
     "text": [
      "\n",
      "Test set: Average loss: 2.3026, Accuracy: 1000/10000 (10%)\n",
      "\n",
      "Epoch 454:\n",
      "loss train: tensor(9541.4326, device='cuda:0', grad_fn=<DivBackward0>)\n",
      "acc train: 0.1\n",
      "loss test: 2.302597838592529\n",
      "acc test: 0.1\n",
      "Train Epoch: 455 [0/50000 (0%)]\tLoss: 9527.311523\n"
     ]
    },
    {
     "name": "stderr",
     "output_type": "stream",
     "text": [
      " 91%|█████████ | 456/500 [24:53:35<2:23:32, 195.74s/it]"
     ]
    },
    {
     "name": "stdout",
     "output_type": "stream",
     "text": [
      "\n",
      "Test set: Average loss: 2.3026, Accuracy: 1000/10000 (10%)\n",
      "\n",
      "Epoch 455:\n",
      "loss train: tensor(9510.1846, device='cuda:0', grad_fn=<DivBackward0>)\n",
      "acc train: 0.1\n",
      "loss test: 2.302597500228882\n",
      "acc test: 0.1\n",
      "Train Epoch: 456 [0/50000 (0%)]\tLoss: 9495.001953\n"
     ]
    },
    {
     "name": "stderr",
     "output_type": "stream",
     "text": [
      " 91%|█████████▏| 457/500 [24:56:50<2:20:08, 195.55s/it]"
     ]
    },
    {
     "name": "stdout",
     "output_type": "stream",
     "text": [
      "\n",
      "Test set: Average loss: 2.3026, Accuracy: 1000/10000 (10%)\n",
      "\n",
      "Epoch 456:\n",
      "loss train: tensor(9477.8975, device='cuda:0', grad_fn=<DivBackward0>)\n",
      "acc train: 0.1\n",
      "loss test: 2.302597652053833\n",
      "acc test: 0.1\n",
      "Train Epoch: 457 [0/50000 (0%)]\tLoss: 9486.083008\n"
     ]
    },
    {
     "name": "stderr",
     "output_type": "stream",
     "text": [
      " 92%|█████████▏| 458/500 [25:00:05<2:16:46, 195.40s/it]"
     ]
    },
    {
     "name": "stdout",
     "output_type": "stream",
     "text": [
      "\n",
      "Test set: Average loss: 2.3026, Accuracy: 1000/10000 (10%)\n",
      "\n",
      "Epoch 457:\n",
      "loss train: tensor(9493.8604, device='cuda:0', grad_fn=<DivBackward0>)\n",
      "acc train: 0.1\n",
      "loss test: 2.3025976806640625\n",
      "acc test: 0.1\n",
      "Train Epoch: 458 [0/50000 (0%)]\tLoss: 9509.637695\n"
     ]
    },
    {
     "name": "stderr",
     "output_type": "stream",
     "text": [
      " 92%|█████████▏| 459/500 [25:03:20<2:13:26, 195.28s/it]"
     ]
    },
    {
     "name": "stdout",
     "output_type": "stream",
     "text": [
      "\n",
      "Test set: Average loss: 2.3026, Accuracy: 1000/10000 (10%)\n",
      "\n",
      "Epoch 458:\n",
      "loss train: tensor(9528.2959, device='cuda:0', grad_fn=<DivBackward0>)\n",
      "acc train: 0.1\n",
      "loss test: 2.3025974575042722\n",
      "acc test: 0.1\n",
      "Train Epoch: 459 [0/50000 (0%)]\tLoss: 9529.897461\n"
     ]
    },
    {
     "name": "stderr",
     "output_type": "stream",
     "text": [
      " 92%|█████████▏| 460/500 [25:06:36<2:10:09, 195.23s/it]"
     ]
    },
    {
     "name": "stdout",
     "output_type": "stream",
     "text": [
      "\n",
      "Test set: Average loss: 2.3026, Accuracy: 1000/10000 (10%)\n",
      "\n",
      "Epoch 459:\n",
      "loss train: tensor(9571.2061, device='cuda:0', grad_fn=<DivBackward0>)\n",
      "acc train: 0.1\n",
      "loss test: 2.302597443008423\n",
      "acc test: 0.1\n",
      "Train Epoch: 460 [0/50000 (0%)]\tLoss: 9597.007812\n"
     ]
    },
    {
     "name": "stderr",
     "output_type": "stream",
     "text": [
      " 92%|█████████▏| 461/500 [25:09:51<2:06:58, 195.34s/it]"
     ]
    },
    {
     "name": "stdout",
     "output_type": "stream",
     "text": [
      "\n",
      "Test set: Average loss: 2.3026, Accuracy: 1000/10000 (10%)\n",
      "\n",
      "Epoch 460:\n",
      "loss train: tensor(9614.8223, device='cuda:0', grad_fn=<DivBackward0>)\n",
      "acc train: 0.1\n",
      "loss test: 2.302597350311279\n",
      "acc test: 0.1\n",
      "Train Epoch: 461 [0/50000 (0%)]\tLoss: 9636.797852\n"
     ]
    },
    {
     "name": "stderr",
     "output_type": "stream",
     "text": [
      " 92%|█████████▏| 462/500 [25:13:07<2:03:46, 195.44s/it]"
     ]
    },
    {
     "name": "stdout",
     "output_type": "stream",
     "text": [
      "\n",
      "Test set: Average loss: 2.3026, Accuracy: 1000/10000 (10%)\n",
      "\n",
      "Epoch 461:\n",
      "loss train: tensor(9654.6934, device='cuda:0', grad_fn=<DivBackward0>)\n",
      "acc train: 0.1\n",
      "loss test: 2.3025975009918214\n",
      "acc test: 0.1\n",
      "Train Epoch: 462 [0/50000 (0%)]\tLoss: 9661.779297\n"
     ]
    },
    {
     "name": "stderr",
     "output_type": "stream",
     "text": [
      " 93%|█████████▎| 463/500 [25:16:22<2:00:29, 195.40s/it]"
     ]
    },
    {
     "name": "stdout",
     "output_type": "stream",
     "text": [
      "\n",
      "Test set: Average loss: 2.3026, Accuracy: 1000/10000 (10%)\n",
      "\n",
      "Epoch 462:\n",
      "loss train: tensor(9690.9697, device='cuda:0', grad_fn=<DivBackward0>)\n",
      "acc train: 0.1\n",
      "loss test: 2.302597265625\n",
      "acc test: 0.1\n",
      "Train Epoch: 463 [0/50000 (0%)]\tLoss: 9721.666016\n"
     ]
    },
    {
     "name": "stderr",
     "output_type": "stream",
     "text": [
      " 93%|█████████▎| 464/500 [25:19:37<1:57:09, 195.26s/it]"
     ]
    },
    {
     "name": "stdout",
     "output_type": "stream",
     "text": [
      "\n",
      "Test set: Average loss: 2.3026, Accuracy: 1000/10000 (10%)\n",
      "\n",
      "Epoch 463:\n",
      "loss train: tensor(9705.4766, device='cuda:0', grad_fn=<DivBackward0>)\n",
      "acc train: 0.1\n",
      "loss test: 2.3025971939086913\n",
      "acc test: 0.1\n",
      "Train Epoch: 464 [0/50000 (0%)]\tLoss: 9686.333984\n"
     ]
    },
    {
     "name": "stderr",
     "output_type": "stream",
     "text": [
      " 93%|█████████▎| 465/500 [25:22:52<1:53:49, 195.14s/it]"
     ]
    },
    {
     "name": "stdout",
     "output_type": "stream",
     "text": [
      "\n",
      "Test set: Average loss: 2.3026, Accuracy: 1000/10000 (10%)\n",
      "\n",
      "Epoch 464:\n",
      "loss train: tensor(9677.8428, device='cuda:0', grad_fn=<DivBackward0>)\n",
      "acc train: 0.1\n",
      "loss test: 2.302597190475464\n",
      "acc test: 0.1\n",
      "Train Epoch: 465 [0/50000 (0%)]\tLoss: 9664.729492\n"
     ]
    },
    {
     "name": "stderr",
     "output_type": "stream",
     "text": [
      " 93%|█████████▎| 466/500 [25:26:07<1:50:29, 194.99s/it]"
     ]
    },
    {
     "name": "stdout",
     "output_type": "stream",
     "text": [
      "\n",
      "Test set: Average loss: 2.3026, Accuracy: 1000/10000 (10%)\n",
      "\n",
      "Epoch 465:\n",
      "loss train: tensor(9662.2041, device='cuda:0', grad_fn=<DivBackward0>)\n",
      "acc train: 0.1\n",
      "loss test: 2.3025970176696777\n",
      "acc test: 0.1\n",
      "Train Epoch: 466 [0/50000 (0%)]\tLoss: 9663.364258\n"
     ]
    },
    {
     "name": "stderr",
     "output_type": "stream",
     "text": [
      " 93%|█████████▎| 467/500 [25:29:22<1:47:16, 195.04s/it]"
     ]
    },
    {
     "name": "stdout",
     "output_type": "stream",
     "text": [
      "\n",
      "Test set: Average loss: 2.3026, Accuracy: 1000/10000 (10%)\n",
      "\n",
      "Epoch 466:\n",
      "loss train: tensor(9678.9727, device='cuda:0', grad_fn=<DivBackward0>)\n",
      "acc train: 0.1\n",
      "loss test: 2.3025969234466555\n",
      "acc test: 0.1\n",
      "Train Epoch: 467 [0/50000 (0%)]\tLoss: 9702.297852\n"
     ]
    },
    {
     "name": "stderr",
     "output_type": "stream",
     "text": [
      " 94%|█████████▎| 468/500 [25:32:37<1:44:03, 195.12s/it]"
     ]
    },
    {
     "name": "stdout",
     "output_type": "stream",
     "text": [
      "\n",
      "Test set: Average loss: 2.3026, Accuracy: 1000/10000 (10%)\n",
      "\n",
      "Epoch 467:\n",
      "loss train: tensor(9721.6807, device='cuda:0', grad_fn=<DivBackward0>)\n",
      "acc train: 0.1\n",
      "loss test: 2.3025969482421873\n",
      "acc test: 0.1\n",
      "Train Epoch: 468 [0/50000 (0%)]\tLoss: 9738.536133\n"
     ]
    },
    {
     "name": "stderr",
     "output_type": "stream",
     "text": [
      " 94%|█████████▍| 469/500 [25:35:52<1:40:47, 195.08s/it]"
     ]
    },
    {
     "name": "stdout",
     "output_type": "stream",
     "text": [
      "\n",
      "Test set: Average loss: 2.3026, Accuracy: 1000/10000 (10%)\n",
      "\n",
      "Epoch 468:\n",
      "loss train: tensor(9761.8096, device='cuda:0', grad_fn=<DivBackward0>)\n",
      "acc train: 0.1\n",
      "loss test: 2.3025968246459962\n",
      "acc test: 0.1\n",
      "Train Epoch: 469 [0/50000 (0%)]\tLoss: 9782.443359\n"
     ]
    },
    {
     "name": "stderr",
     "output_type": "stream",
     "text": [
      " 94%|█████████▍| 470/500 [25:39:07<1:37:30, 195.03s/it]"
     ]
    },
    {
     "name": "stdout",
     "output_type": "stream",
     "text": [
      "\n",
      "Test set: Average loss: 2.3026, Accuracy: 1000/10000 (10%)\n",
      "\n",
      "Epoch 469:\n",
      "loss train: tensor(9815.3350, device='cuda:0', grad_fn=<DivBackward0>)\n",
      "acc train: 0.1\n",
      "loss test: 2.3025970874786377\n",
      "acc test: 0.1\n",
      "Train Epoch: 470 [0/50000 (0%)]\tLoss: 9841.270508\n"
     ]
    },
    {
     "name": "stderr",
     "output_type": "stream",
     "text": [
      " 94%|█████████▍| 471/500 [25:42:22<1:34:16, 195.05s/it]"
     ]
    },
    {
     "name": "stdout",
     "output_type": "stream",
     "text": [
      "\n",
      "Test set: Average loss: 2.3026, Accuracy: 1000/10000 (10%)\n",
      "\n",
      "Epoch 470:\n",
      "loss train: tensor(9881.7627, device='cuda:0', grad_fn=<DivBackward0>)\n",
      "acc train: 0.1\n",
      "loss test: 2.302596929168701\n",
      "acc test: 0.1\n",
      "Train Epoch: 471 [0/50000 (0%)]\tLoss: 9906.819336\n"
     ]
    },
    {
     "name": "stderr",
     "output_type": "stream",
     "text": [
      " 94%|█████████▍| 472/500 [25:45:37<1:31:00, 195.02s/it]"
     ]
    },
    {
     "name": "stdout",
     "output_type": "stream",
     "text": [
      "\n",
      "Test set: Average loss: 2.3026, Accuracy: 1000/10000 (10%)\n",
      "\n",
      "Epoch 471:\n",
      "loss train: tensor(9933.2422, device='cuda:0', grad_fn=<DivBackward0>)\n",
      "acc train: 0.1\n",
      "loss test: 2.3025971687316895\n",
      "acc test: 0.1\n",
      "Train Epoch: 472 [0/50000 (0%)]\tLoss: 9958.334961\n"
     ]
    },
    {
     "name": "stderr",
     "output_type": "stream",
     "text": [
      " 95%|█████████▍| 473/500 [25:48:52<1:27:44, 194.99s/it]"
     ]
    },
    {
     "name": "stdout",
     "output_type": "stream",
     "text": [
      "\n",
      "Test set: Average loss: 2.3026, Accuracy: 1000/10000 (10%)\n",
      "\n",
      "Epoch 472:\n",
      "loss train: tensor(9981.4551, device='cuda:0', grad_fn=<DivBackward0>)\n",
      "acc train: 0.1\n",
      "loss test: 2.3025969554901122\n",
      "acc test: 0.1\n",
      "Train Epoch: 473 [0/50000 (0%)]\tLoss: 10017.591797\n"
     ]
    },
    {
     "name": "stderr",
     "output_type": "stream",
     "text": [
      " 95%|█████████▍| 474/500 [25:52:07<1:24:30, 195.00s/it]"
     ]
    },
    {
     "name": "stdout",
     "output_type": "stream",
     "text": [
      "\n",
      "Test set: Average loss: 2.3026, Accuracy: 1000/10000 (10%)\n",
      "\n",
      "Epoch 473:\n",
      "loss train: tensor(10048.4863, device='cuda:0', grad_fn=<DivBackward0>)\n",
      "acc train: 0.1\n",
      "loss test: 2.302596995162964\n",
      "acc test: 0.1\n",
      "Train Epoch: 474 [0/50000 (0%)]\tLoss: 10102.947266\n"
     ]
    },
    {
     "name": "stderr",
     "output_type": "stream",
     "text": [
      " 95%|█████████▌| 475/500 [25:55:22<1:21:15, 195.03s/it]"
     ]
    },
    {
     "name": "stdout",
     "output_type": "stream",
     "text": [
      "\n",
      "Test set: Average loss: 2.3026, Accuracy: 1000/10000 (10%)\n",
      "\n",
      "Epoch 474:\n",
      "loss train: tensor(10115.8193, device='cuda:0', grad_fn=<DivBackward0>)\n",
      "acc train: 0.1\n",
      "loss test: 2.302596968078613\n",
      "acc test: 0.1\n",
      "Train Epoch: 475 [0/50000 (0%)]\tLoss: 10120.865234\n"
     ]
    },
    {
     "name": "stderr",
     "output_type": "stream",
     "text": [
      " 95%|█████████▌| 476/500 [25:58:37<1:17:59, 195.00s/it]"
     ]
    },
    {
     "name": "stdout",
     "output_type": "stream",
     "text": [
      "\n",
      "Test set: Average loss: 2.3026, Accuracy: 1000/10000 (10%)\n",
      "\n",
      "Epoch 475:\n",
      "loss train: tensor(10111.9102, device='cuda:0', grad_fn=<DivBackward0>)\n",
      "acc train: 0.1\n",
      "loss test: 2.302596992111206\n",
      "acc test: 0.1\n",
      "Train Epoch: 476 [0/50000 (0%)]\tLoss: 10110.211914\n"
     ]
    },
    {
     "name": "stderr",
     "output_type": "stream",
     "text": [
      " 95%|█████████▌| 477/500 [26:01:52<1:14:45, 195.02s/it]"
     ]
    },
    {
     "name": "stdout",
     "output_type": "stream",
     "text": [
      "\n",
      "Test set: Average loss: 2.3026, Accuracy: 1000/10000 (10%)\n",
      "\n",
      "Epoch 476:\n",
      "loss train: tensor(10110.7725, device='cuda:0', grad_fn=<DivBackward0>)\n",
      "acc train: 0.1\n",
      "loss test: 2.3025967807769776\n",
      "acc test: 0.1\n",
      "Train Epoch: 477 [0/50000 (0%)]\tLoss: 10112.314453\n"
     ]
    },
    {
     "name": "stderr",
     "output_type": "stream",
     "text": [
      " 96%|█████████▌| 478/500 [26:05:07<1:11:31, 195.05s/it]"
     ]
    },
    {
     "name": "stdout",
     "output_type": "stream",
     "text": [
      "\n",
      "Test set: Average loss: 2.3026, Accuracy: 1000/10000 (10%)\n",
      "\n",
      "Epoch 477:\n",
      "loss train: tensor(10128.6387, device='cuda:0', grad_fn=<DivBackward0>)\n",
      "acc train: 0.1\n",
      "loss test: 2.302596782684326\n",
      "acc test: 0.1\n",
      "Train Epoch: 478 [0/50000 (0%)]\tLoss: 10142.445312\n"
     ]
    },
    {
     "name": "stderr",
     "output_type": "stream",
     "text": [
      " 96%|█████████▌| 479/500 [26:08:22<1:08:14, 194.99s/it]"
     ]
    },
    {
     "name": "stdout",
     "output_type": "stream",
     "text": [
      "\n",
      "Test set: Average loss: 2.3026, Accuracy: 1000/10000 (10%)\n",
      "\n",
      "Epoch 478:\n",
      "loss train: tensor(10180.8047, device='cuda:0', grad_fn=<DivBackward0>)\n",
      "acc train: 0.1\n",
      "loss test: 2.30259677696228\n",
      "acc test: 0.1\n",
      "Train Epoch: 479 [0/50000 (0%)]\tLoss: 10206.152344\n"
     ]
    },
    {
     "name": "stderr",
     "output_type": "stream",
     "text": [
      " 96%|█████████▌| 480/500 [26:11:37<1:04:59, 194.98s/it]"
     ]
    },
    {
     "name": "stdout",
     "output_type": "stream",
     "text": [
      "\n",
      "Test set: Average loss: 2.3026, Accuracy: 1000/10000 (10%)\n",
      "\n",
      "Epoch 479:\n",
      "loss train: tensor(10242.6289, device='cuda:0', grad_fn=<DivBackward0>)\n",
      "acc train: 0.1\n",
      "loss test: 2.302596883773804\n",
      "acc test: 0.1\n",
      "Train Epoch: 480 [0/50000 (0%)]\tLoss: 10281.866211\n"
     ]
    },
    {
     "name": "stderr",
     "output_type": "stream",
     "text": [
      " 96%|█████████▌| 481/500 [26:14:52<1:01:44, 194.98s/it]"
     ]
    },
    {
     "name": "stdout",
     "output_type": "stream",
     "text": [
      "\n",
      "Test set: Average loss: 2.3026, Accuracy: 1000/10000 (10%)\n",
      "\n",
      "Epoch 480:\n",
      "loss train: tensor(10296.5225, device='cuda:0', grad_fn=<DivBackward0>)\n",
      "acc train: 0.1\n",
      "loss test: 2.302596755218506\n",
      "acc test: 0.1\n",
      "Train Epoch: 481 [0/50000 (0%)]\tLoss: 10303.555664\n"
     ]
    },
    {
     "name": "stderr",
     "output_type": "stream",
     "text": [
      " 96%|█████████▋| 482/500 [26:18:07<58:29, 194.98s/it]  "
     ]
    },
    {
     "name": "stdout",
     "output_type": "stream",
     "text": [
      "\n",
      "Test set: Average loss: 2.3026, Accuracy: 1000/10000 (10%)\n",
      "\n",
      "Epoch 481:\n",
      "loss train: tensor(10325.1885, device='cuda:0', grad_fn=<DivBackward0>)\n",
      "acc train: 0.1\n",
      "loss test: 2.3025968631744385\n",
      "acc test: 0.1\n",
      "Train Epoch: 482 [0/50000 (0%)]\tLoss: 10352.455078\n"
     ]
    },
    {
     "name": "stderr",
     "output_type": "stream",
     "text": [
      " 97%|█████████▋| 483/500 [26:21:22<55:13, 194.94s/it]"
     ]
    },
    {
     "name": "stdout",
     "output_type": "stream",
     "text": [
      "\n",
      "Test set: Average loss: 2.3026, Accuracy: 1000/10000 (10%)\n",
      "\n",
      "Epoch 482:\n",
      "loss train: tensor(10380.2441, device='cuda:0', grad_fn=<DivBackward0>)\n",
      "acc train: 0.1\n",
      "loss test: 2.302596685409546\n",
      "acc test: 0.1\n",
      "Train Epoch: 483 [0/50000 (0%)]\tLoss: 10410.543945\n"
     ]
    },
    {
     "name": "stderr",
     "output_type": "stream",
     "text": [
      " 97%|█████████▋| 484/500 [26:24:37<51:58, 194.94s/it]"
     ]
    },
    {
     "name": "stdout",
     "output_type": "stream",
     "text": [
      "\n",
      "Test set: Average loss: 2.3026, Accuracy: 1000/10000 (10%)\n",
      "\n",
      "Epoch 483:\n",
      "loss train: tensor(10457.3076, device='cuda:0', grad_fn=<DivBackward0>)\n",
      "acc train: 0.1\n",
      "loss test: 2.3025967864990236\n",
      "acc test: 0.1\n",
      "Train Epoch: 484 [0/50000 (0%)]\tLoss: 10503.345703\n"
     ]
    },
    {
     "name": "stderr",
     "output_type": "stream",
     "text": [
      " 97%|█████████▋| 485/500 [26:27:51<48:43, 194.88s/it]"
     ]
    },
    {
     "name": "stdout",
     "output_type": "stream",
     "text": [
      "\n",
      "Test set: Average loss: 2.3026, Accuracy: 1000/10000 (10%)\n",
      "\n",
      "Epoch 484:\n",
      "loss train: tensor(10545.3447, device='cuda:0', grad_fn=<DivBackward0>)\n",
      "acc train: 0.1\n",
      "loss test: 2.302596742248535\n",
      "acc test: 0.1\n",
      "Train Epoch: 485 [0/50000 (0%)]\tLoss: 10569.443359\n"
     ]
    },
    {
     "name": "stderr",
     "output_type": "stream",
     "text": [
      " 97%|█████████▋| 486/500 [26:31:06<45:28, 194.92s/it]"
     ]
    },
    {
     "name": "stdout",
     "output_type": "stream",
     "text": [
      "\n",
      "Test set: Average loss: 2.3026, Accuracy: 1000/10000 (10%)\n",
      "\n",
      "Epoch 485:\n",
      "loss train: tensor(10613.4453, device='cuda:0', grad_fn=<DivBackward0>)\n",
      "acc train: 0.1\n",
      "loss test: 2.302596658325195\n",
      "acc test: 0.1\n",
      "Train Epoch: 486 [0/50000 (0%)]\tLoss: 10672.139648\n"
     ]
    },
    {
     "name": "stderr",
     "output_type": "stream",
     "text": [
      " 97%|█████████▋| 487/500 [26:34:22<42:14, 195.00s/it]"
     ]
    },
    {
     "name": "stdout",
     "output_type": "stream",
     "text": [
      "\n",
      "Test set: Average loss: 2.3026, Accuracy: 1000/10000 (10%)\n",
      "\n",
      "Epoch 486:\n",
      "loss train: tensor(10714.1621, device='cuda:0', grad_fn=<DivBackward0>)\n",
      "acc train: 0.1\n",
      "loss test: 2.302596898651123\n",
      "acc test: 0.1\n",
      "Train Epoch: 487 [0/50000 (0%)]\tLoss: 10762.589844\n"
     ]
    },
    {
     "name": "stderr",
     "output_type": "stream",
     "text": [
      " 98%|█████████▊| 488/500 [26:37:37<39:01, 195.10s/it]"
     ]
    },
    {
     "name": "stdout",
     "output_type": "stream",
     "text": [
      "\n",
      "Test set: Average loss: 2.3026, Accuracy: 1000/10000 (10%)\n",
      "\n",
      "Epoch 487:\n",
      "loss train: tensor(10809.7588, device='cuda:0', grad_fn=<DivBackward0>)\n",
      "acc train: 0.1\n",
      "loss test: 2.3025967723846437\n",
      "acc test: 0.1\n",
      "Train Epoch: 488 [0/50000 (0%)]\tLoss: 10859.875977\n"
     ]
    },
    {
     "name": "stderr",
     "output_type": "stream",
     "text": [
      " 98%|█████████▊| 489/500 [26:40:53<35:47, 195.27s/it]"
     ]
    },
    {
     "name": "stdout",
     "output_type": "stream",
     "text": [
      "\n",
      "Test set: Average loss: 2.3026, Accuracy: 1000/10000 (10%)\n",
      "\n",
      "Epoch 488:\n",
      "loss train: tensor(10900.0020, device='cuda:0', grad_fn=<DivBackward0>)\n",
      "acc train: 0.1\n",
      "loss test: 2.3025968173980713\n",
      "acc test: 0.1\n",
      "Train Epoch: 489 [0/50000 (0%)]\tLoss: 10937.743164\n"
     ]
    },
    {
     "name": "stderr",
     "output_type": "stream",
     "text": [
      " 98%|█████████▊| 490/500 [26:44:08<32:32, 195.24s/it]"
     ]
    },
    {
     "name": "stdout",
     "output_type": "stream",
     "text": [
      "\n",
      "Test set: Average loss: 2.3026, Accuracy: 1000/10000 (10%)\n",
      "\n",
      "Epoch 489:\n",
      "loss train: tensor(10959.2871, device='cuda:0', grad_fn=<DivBackward0>)\n",
      "acc train: 0.1\n",
      "loss test: 2.302596838378906\n",
      "acc test: 0.1\n",
      "Train Epoch: 490 [0/50000 (0%)]\tLoss: 10988.952148\n"
     ]
    },
    {
     "name": "stderr",
     "output_type": "stream",
     "text": [
      " 98%|█████████▊| 491/500 [26:47:23<29:16, 195.22s/it]"
     ]
    },
    {
     "name": "stdout",
     "output_type": "stream",
     "text": [
      "\n",
      "Test set: Average loss: 2.3026, Accuracy: 1000/10000 (10%)\n",
      "\n",
      "Epoch 490:\n",
      "loss train: tensor(11046.2549, device='cuda:0', grad_fn=<DivBackward0>)\n",
      "acc train: 0.1\n",
      "loss test: 2.302596865081787\n",
      "acc test: 0.1\n",
      "Train Epoch: 491 [0/50000 (0%)]\tLoss: 11113.625977\n"
     ]
    },
    {
     "name": "stderr",
     "output_type": "stream",
     "text": [
      " 98%|█████████▊| 492/500 [26:50:38<26:02, 195.29s/it]"
     ]
    },
    {
     "name": "stdout",
     "output_type": "stream",
     "text": [
      "\n",
      "Test set: Average loss: 2.3026, Accuracy: 1000/10000 (10%)\n",
      "\n",
      "Epoch 491:\n",
      "loss train: tensor(11157.8506, device='cuda:0', grad_fn=<DivBackward0>)\n",
      "acc train: 0.1\n",
      "loss test: 2.3025968700408934\n",
      "acc test: 0.1\n",
      "Train Epoch: 492 [0/50000 (0%)]\tLoss: 11212.285156\n"
     ]
    },
    {
     "name": "stderr",
     "output_type": "stream",
     "text": [
      " 99%|█████████▊| 493/500 [26:53:54<22:47, 195.39s/it]"
     ]
    },
    {
     "name": "stdout",
     "output_type": "stream",
     "text": [
      "\n",
      "Test set: Average loss: 2.3026, Accuracy: 1000/10000 (10%)\n",
      "\n",
      "Epoch 492:\n",
      "loss train: tensor(11251.4326, device='cuda:0', grad_fn=<DivBackward0>)\n",
      "acc train: 0.1\n",
      "loss test: 2.3025968074798584\n",
      "acc test: 0.1\n",
      "Train Epoch: 493 [0/50000 (0%)]\tLoss: 11298.120117\n"
     ]
    },
    {
     "name": "stderr",
     "output_type": "stream",
     "text": [
      " 99%|█████████▉| 494/500 [26:57:10<19:32, 195.43s/it]"
     ]
    },
    {
     "name": "stdout",
     "output_type": "stream",
     "text": [
      "\n",
      "Test set: Average loss: 2.3026, Accuracy: 1000/10000 (10%)\n",
      "\n",
      "Epoch 493:\n",
      "loss train: tensor(11346.2461, device='cuda:0', grad_fn=<DivBackward0>)\n",
      "acc train: 0.1\n",
      "loss test: 2.302596841049194\n",
      "acc test: 0.1\n",
      "Train Epoch: 494 [0/50000 (0%)]\tLoss: 11397.285156\n"
     ]
    },
    {
     "name": "stderr",
     "output_type": "stream",
     "text": [
      " 99%|█████████▉| 495/500 [27:00:25<16:17, 195.43s/it]"
     ]
    },
    {
     "name": "stdout",
     "output_type": "stream",
     "text": [
      "\n",
      "Test set: Average loss: 2.3026, Accuracy: 1000/10000 (10%)\n",
      "\n",
      "Epoch 494:\n",
      "loss train: tensor(11453.6729, device='cuda:0', grad_fn=<DivBackward0>)\n",
      "acc train: 0.1\n",
      "loss test: 2.3025968864440918\n",
      "acc test: 0.1\n",
      "Train Epoch: 495 [0/50000 (0%)]\tLoss: 11499.297852\n"
     ]
    },
    {
     "name": "stderr",
     "output_type": "stream",
     "text": [
      " 99%|█████████▉| 496/500 [27:03:40<13:01, 195.45s/it]"
     ]
    },
    {
     "name": "stdout",
     "output_type": "stream",
     "text": [
      "\n",
      "Test set: Average loss: 2.3026, Accuracy: 1000/10000 (10%)\n",
      "\n",
      "Epoch 495:\n",
      "loss train: tensor(11531.1523, device='cuda:0', grad_fn=<DivBackward0>)\n",
      "acc train: 0.1\n",
      "loss test: 2.3025968536376955\n",
      "acc test: 0.1\n",
      "Train Epoch: 496 [0/50000 (0%)]\tLoss: 11572.630859\n"
     ]
    },
    {
     "name": "stderr",
     "output_type": "stream",
     "text": [
      " 99%|█████████▉| 497/500 [27:06:56<09:46, 195.57s/it]"
     ]
    },
    {
     "name": "stdout",
     "output_type": "stream",
     "text": [
      "\n",
      "Test set: Average loss: 2.3026, Accuracy: 1000/10000 (10%)\n",
      "\n",
      "Epoch 496:\n",
      "loss train: tensor(11616.4375, device='cuda:0', grad_fn=<DivBackward0>)\n",
      "acc train: 0.1\n",
      "loss test: 2.3025970500946045\n",
      "acc test: 0.1\n",
      "Train Epoch: 497 [0/50000 (0%)]\tLoss: 11670.385742\n"
     ]
    },
    {
     "name": "stderr",
     "output_type": "stream",
     "text": [
      "100%|█████████▉| 498/500 [27:10:12<06:31, 195.61s/it]"
     ]
    },
    {
     "name": "stdout",
     "output_type": "stream",
     "text": [
      "\n",
      "Test set: Average loss: 2.3026, Accuracy: 1000/10000 (10%)\n",
      "\n",
      "Epoch 497:\n",
      "loss train: tensor(11714.4795, device='cuda:0', grad_fn=<DivBackward0>)\n",
      "acc train: 0.1\n",
      "loss test: 2.3025971588134766\n",
      "acc test: 0.1\n",
      "Train Epoch: 498 [0/50000 (0%)]\tLoss: 11752.882812\n"
     ]
    },
    {
     "name": "stderr",
     "output_type": "stream",
     "text": [
      "100%|█████████▉| 499/500 [27:13:28<03:15, 195.65s/it]"
     ]
    },
    {
     "name": "stdout",
     "output_type": "stream",
     "text": [
      "\n",
      "Test set: Average loss: 2.3026, Accuracy: 1000/10000 (10%)\n",
      "\n",
      "Epoch 498:\n",
      "loss train: tensor(11794.8252, device='cuda:0', grad_fn=<DivBackward0>)\n",
      "acc train: 0.1\n",
      "loss test: 2.3025970684051513\n",
      "acc test: 0.1\n",
      "Train Epoch: 499 [0/50000 (0%)]\tLoss: 11833.487305\n",
      "\n",
      "Test set: Average loss: 2.3026, Accuracy: 1000/10000 (10%)\n",
      "\n",
      "Epoch 499:\n",
      "loss train: tensor(11851.1924, device='cuda:0', grad_fn=<DivBackward0>)\n",
      "acc train: 0.1\n",
      "loss test: 2.3025970096588133\n",
      "acc test: 0.1\n"
     ]
    },
    {
     "name": "stderr",
     "output_type": "stream",
     "text": [
      "100%|██████████| 500/500 [27:17:03<00:00, 196.45s/it]"
     ]
    },
    {
     "name": "stdout",
     "output_type": "stream",
     "text": [
      "PGD attack Acc 10.000\n",
      "pgd_acc test: 0.1\n"
     ]
    },
    {
     "name": "stderr",
     "output_type": "stream",
     "text": [
      "\n"
     ]
    }
   ],
   "source": [
    "# Begin training\n",
    "best_acc = 0\n",
    "\n",
    "for epoch in tqdm(range(args.epochs)):\n",
    "    train_loss, train_acc = train_adv(args, model, device, train_loader, optimizer, scheduler, epoch,\n",
    "      cycles=args.max_cycles, mse_parameter=args.mse_parameter, clean_parameter=args.clean_parameter, clean=args.clean)\n",
    "\n",
    "    test_loss, test_acc = test(args, model, device, test_loader, cycles=args.max_cycles, epoch=epoch)\n",
    "\n",
    "    print(f\"Epoch {epoch}:\")\n",
    "    print('loss', 'train:', train_loss)\n",
    "    print('acc', 'train:', train_acc)\n",
    "    print('loss', 'test:', test_loss)\n",
    "    print('acc', 'test:', test_acc)\n",
    "\n",
    "    # Save the model with the best accuracy\n",
    "    if test_acc > best_acc and args.save_model is not None:\n",
    "        best_acc = test_acc\n",
    "        experiment_fn = args.save_model\n",
    "        torch.save(model.state_dict(),\n",
    "                   args.model_dir + \"/{}-best.pt\".format(experiment_fn))\n",
    "\n",
    "    if ((epoch+1)%50)==0 and args.save_model is not None:\n",
    "        experiment_fn = args.save_model\n",
    "        torch.save(model.state_dict(),\n",
    "                   args.model_dir + \"/{}-epoch{}.pt\".format(experiment_fn,epoch))\n",
    "        pgd_acc = test_pgd(args, model, device, test_loader, epsilon=args.eps)\n",
    "\n",
    "        print('pgd_acc', 'test:', pgd_acc)\n",
    "\n",
    "# Save final model\n",
    "if args.save_model is not None:\n",
    "    experiment_fn = args.save_model\n",
    "    torch.save(model.state_dict(),\n",
    "               args.model_dir + \"/{}.pt\".format(experiment_fn))"
   ],
   "metadata": {
    "collapsed": false,
    "pycharm": {
     "name": "#%%\n"
    }
   }
  },
  {
   "cell_type": "code",
   "execution_count": null,
   "outputs": [],
   "source": [],
   "metadata": {
    "collapsed": false,
    "pycharm": {
     "name": "#%%\n"
    }
   }
  }
 ],
 "metadata": {
  "kernelspec": {
   "name": "python3",
   "language": "python",
   "display_name": "Python 3 (ipykernel)"
  },
  "language_info": {
   "codemirror_mode": {
    "name": "ipython",
    "version": 2
   },
   "file_extension": ".py",
   "mimetype": "text/x-python",
   "name": "python",
   "nbconvert_exporter": "python",
   "pygments_lexer": "ipython2",
   "version": "2.7.6"
  }
 },
 "nbformat": 4,
 "nbformat_minor": 0
}