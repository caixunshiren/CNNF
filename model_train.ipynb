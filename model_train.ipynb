{
 "cells": [
  {
   "cell_type": "code",
   "execution_count": 8,
   "metadata": {
    "collapsed": true,
    "pycharm": {
     "name": "#%%\n"
    }
   },
   "outputs": [],
   "source": [
    "import torch\n",
    "from cnnf.model_cifar import WideResNet\n",
    "import torchvision\n",
    "from torchvision import datasets, transforms\n",
    "import matplotlib.pyplot as plt\n",
    "from utils import *\n",
    "from tqdm import tqdm\n",
    "from train import train_adv, test, test_pgd"
   ]
  },
  {
   "cell_type": "code",
   "execution_count": 9,
   "outputs": [],
   "source": [
    "#args\n",
    "class Arg:\n",
    "    pass\n",
    "#opt params\n",
    "args = Arg()\n",
    "args.batch_size = 256\n",
    "args.test_batch_size = 128\n",
    "args.epochs = 500\n",
    "args.lr = 0.05\n",
    "args.power = 0.9\n",
    "args.momentum = 0.9\n",
    "args.wd = 5e-4\n",
    "args.grad_clip = True\n",
    "args.dataset = 'cifar10'\n",
    "args.schedule = 'poly'\n",
    "args.no_cuda = False\n",
    "args.seed = 0\n",
    "args.log_interval = 400\n",
    "\n",
    "#adver training params\n",
    "args.eps = 0.063\n",
    "args.eps_iter = 0.02\n",
    "args.nb_iter = 7\n",
    "args.clean = 'supclean'\n",
    "\n",
    "#hyper params\n",
    "args.mse_parameter = 0.1\n",
    "args.clean_parameter = 1.0\n",
    "args.res_parameter = 0.1\n",
    "\n",
    "#model params\n",
    "args.layers = 40\n",
    "args.widen_factor = 2\n",
    "args.droprate = 0.0\n",
    "args.ind = 5\n",
    "args.max_cycles = 2\n",
    "args.save_model = 'CNNF_superes_cifar'\n",
    "args.model_dir = 'models'"
   ],
   "metadata": {
    "collapsed": false,
    "pycharm": {
     "name": "#%%\n"
    }
   }
  },
  {
   "cell_type": "code",
   "execution_count": 10,
   "outputs": [],
   "source": [
    "#params cuda\n",
    "use_cuda = torch.cuda.is_available()\n",
    "device = torch.device(\"cuda\" if use_cuda else \"cpu\")\n",
    "kwargs = {'num_workers': 1, 'pin_memory': True} if use_cuda else {}\n",
    "seed_torch(args.seed)"
   ],
   "metadata": {
    "collapsed": false,
    "pycharm": {
     "name": "#%%\n"
    }
   }
  },
  {
   "cell_type": "code",
   "execution_count": 11,
   "outputs": [],
   "source": [
    "#transforms\n",
    "train_transform_cifar = transforms.Compose(\n",
    "  [transforms.RandomHorizontalFlip(),\n",
    "   transforms.RandomCrop(32, padding=4),\n",
    "   transforms.ToTensor(),\n",
    "   transforms.Normalize([0.5] * 3, [0.5] * 3)])\n",
    "\n",
    "test_transform_cifar = transforms.Compose(\n",
    "  [transforms.ToTensor(),\n",
    "   transforms.Normalize([0.5] * 3, [0.5] * 3)])"
   ],
   "metadata": {
    "collapsed": false,
    "pycharm": {
     "name": "#%%\n"
    }
   }
  },
  {
   "cell_type": "code",
   "execution_count": 12,
   "outputs": [
    {
     "name": "stdout",
     "output_type": "stream",
     "text": [
      "Files already downloaded and verified\n",
      "Files already downloaded and verified\n"
     ]
    }
   ],
   "source": [
    "#model and dataset\n",
    "train_data = datasets.CIFAR10(\n",
    "    'data', train=True, transform=train_transform_cifar, download=True)\n",
    "test_data = datasets.CIFAR10(\n",
    "    'data', train=False, transform=test_transform_cifar, download=True)\n",
    "train_loader = torch.utils.data.DataLoader(\n",
    "  train_data, batch_size=args.batch_size,\n",
    "  shuffle=True, num_workers=4, pin_memory=True)\n",
    "test_loader = torch.utils.data.DataLoader(\n",
    "  test_data, batch_size=args.test_batch_size,\n",
    "  shuffle=True, num_workers=4, pin_memory=True)\n",
    "num_classes = 10\n",
    "model = WideResNet(args.layers, 10, args.widen_factor, args.droprate, args.ind, args.max_cycles, args.res_parameter).to(device)"
   ],
   "metadata": {
    "collapsed": false,
    "pycharm": {
     "name": "#%%\n"
    }
   }
  },
  {
   "cell_type": "code",
   "execution_count": 13,
   "outputs": [],
   "source": [
    "#optimizer and scheduler\n",
    "optimizer = torch.optim.SGD(\n",
    "      model.parameters(),\n",
    "      args.lr,\n",
    "      momentum=args.momentum,\n",
    "      weight_decay=args.wd)\n",
    "\n",
    "if(args.schedule == 'cos'):\n",
    "    scheduler = torch.optim.lr_scheduler.LambdaLR(\n",
    "      optimizer, lr_lambda=lambda step: get_lr(step, args.epochs * len(train_loader), 1.0, 1e-5))\n",
    "else:\n",
    "    scheduler = torch.optim.lr_scheduler.LambdaLR(\n",
    "      optimizer, lr_lambda=lambda step: lr_poly(1.0, step, args.epochs * len(train_loader), args.power))"
   ],
   "metadata": {
    "collapsed": false,
    "pycharm": {
     "name": "#%%\n"
    }
   }
  },
  {
   "cell_type": "code",
   "execution_count": null,
   "outputs": [
    {
     "name": "stderr",
     "output_type": "stream",
     "text": [
      "  0%|          | 0/500 [00:00<?, ?it/s]"
     ]
    },
    {
     "name": "stdout",
     "output_type": "stream",
     "text": [
      "Train Epoch: 0 [0/50000 (0%)]\tLoss: 3.628608\n"
     ]
    },
    {
     "name": "stderr",
     "output_type": "stream",
     "text": [
      "  0%|          | 1/500 [03:30<29:14:38, 210.98s/it]"
     ]
    },
    {
     "name": "stdout",
     "output_type": "stream",
     "text": [
      "\n",
      "Test set: Average loss: 2.3038, Accuracy: 1000/10000 (10%)\n",
      "\n",
      "Train Epoch: 1 [0/50000 (0%)]\tLoss: 395.846039\n"
     ]
    },
    {
     "name": "stderr",
     "output_type": "stream",
     "text": [
      "  0%|          | 2/500 [07:01<29:08:50, 210.70s/it]"
     ]
    },
    {
     "name": "stdout",
     "output_type": "stream",
     "text": [
      "\n",
      "Test set: Average loss: 2.3028, Accuracy: 1000/10000 (10%)\n",
      "\n",
      "Train Epoch: 2 [0/50000 (0%)]\tLoss: 18635.318359\n"
     ]
    },
    {
     "name": "stderr",
     "output_type": "stream",
     "text": [
      "  1%|          | 3/500 [10:32<29:05:14, 210.69s/it]"
     ]
    },
    {
     "name": "stdout",
     "output_type": "stream",
     "text": [
      "\n",
      "Test set: Average loss: 2.3027, Accuracy: 1000/10000 (10%)\n",
      "\n",
      "Train Epoch: 3 [0/50000 (0%)]\tLoss: 184996.859375\n"
     ]
    },
    {
     "name": "stderr",
     "output_type": "stream",
     "text": [
      "  1%|          | 4/500 [14:01<28:58:50, 210.34s/it]"
     ]
    },
    {
     "name": "stdout",
     "output_type": "stream",
     "text": [
      "\n",
      "Test set: Average loss: 2.3027, Accuracy: 1000/10000 (10%)\n",
      "\n",
      "Train Epoch: 4 [0/50000 (0%)]\tLoss: 642231.437500\n"
     ]
    },
    {
     "name": "stderr",
     "output_type": "stream",
     "text": [
      "  1%|          | 5/500 [17:31<28:54:07, 210.20s/it]"
     ]
    },
    {
     "name": "stdout",
     "output_type": "stream",
     "text": [
      "\n",
      "Test set: Average loss: 2.3027, Accuracy: 1000/10000 (10%)\n",
      "\n",
      "Train Epoch: 5 [0/50000 (0%)]\tLoss: 1442293.375000\n"
     ]
    },
    {
     "name": "stderr",
     "output_type": "stream",
     "text": [
      "  1%|          | 6/500 [21:01<28:49:44, 210.09s/it]"
     ]
    },
    {
     "name": "stdout",
     "output_type": "stream",
     "text": [
      "\n",
      "Test set: Average loss: 2.3027, Accuracy: 1000/10000 (10%)\n",
      "\n",
      "Train Epoch: 6 [0/50000 (0%)]\tLoss: 2724302.250000\n"
     ]
    },
    {
     "name": "stderr",
     "output_type": "stream",
     "text": [
      "  1%|▏         | 7/500 [24:31<28:44:49, 209.92s/it]"
     ]
    },
    {
     "name": "stdout",
     "output_type": "stream",
     "text": [
      "\n",
      "Test set: Average loss: 2.3027, Accuracy: 1000/10000 (10%)\n",
      "\n",
      "Train Epoch: 7 [0/50000 (0%)]\tLoss: 4137909.250000\n"
     ]
    },
    {
     "name": "stderr",
     "output_type": "stream",
     "text": [
      "  2%|▏         | 8/500 [28:00<28:40:15, 209.79s/it]"
     ]
    },
    {
     "name": "stdout",
     "output_type": "stream",
     "text": [
      "\n",
      "Test set: Average loss: 2.3027, Accuracy: 1000/10000 (10%)\n",
      "\n",
      "Train Epoch: 8 [0/50000 (0%)]\tLoss: 6884122.500000\n"
     ]
    },
    {
     "name": "stderr",
     "output_type": "stream",
     "text": [
      "  2%|▏         | 9/500 [31:30<28:36:37, 209.77s/it]"
     ]
    },
    {
     "name": "stdout",
     "output_type": "stream",
     "text": [
      "\n",
      "Test set: Average loss: 2.3027, Accuracy: 1000/10000 (10%)\n",
      "\n",
      "Train Epoch: 9 [0/50000 (0%)]\tLoss: 9859707.000000\n"
     ]
    },
    {
     "name": "stderr",
     "output_type": "stream",
     "text": [
      "  2%|▏         | 10/500 [35:00<28:32:48, 209.73s/it]"
     ]
    },
    {
     "name": "stdout",
     "output_type": "stream",
     "text": [
      "\n",
      "Test set: Average loss: 2.3027, Accuracy: 1000/10000 (10%)\n",
      "\n",
      "Train Epoch: 10 [0/50000 (0%)]\tLoss: 17449952.000000\n"
     ]
    },
    {
     "name": "stderr",
     "output_type": "stream",
     "text": [
      "  2%|▏         | 11/500 [38:30<28:29:22, 209.74s/it]"
     ]
    },
    {
     "name": "stdout",
     "output_type": "stream",
     "text": [
      "\n",
      "Test set: Average loss: 2.3027, Accuracy: 1000/10000 (10%)\n",
      "\n",
      "Train Epoch: 11 [0/50000 (0%)]\tLoss: 25313376.000000\n"
     ]
    },
    {
     "name": "stderr",
     "output_type": "stream",
     "text": [
      "  2%|▏         | 12/500 [41:59<28:26:06, 209.77s/it]"
     ]
    },
    {
     "name": "stdout",
     "output_type": "stream",
     "text": [
      "\n",
      "Test set: Average loss: 2.3027, Accuracy: 1000/10000 (10%)\n",
      "\n",
      "Train Epoch: 12 [0/50000 (0%)]\tLoss: 26904694.000000\n"
     ]
    },
    {
     "name": "stderr",
     "output_type": "stream",
     "text": [
      "  3%|▎         | 13/500 [45:29<28:21:49, 209.67s/it]"
     ]
    },
    {
     "name": "stdout",
     "output_type": "stream",
     "text": [
      "\n",
      "Test set: Average loss: 2.3027, Accuracy: 1000/10000 (10%)\n",
      "\n",
      "Train Epoch: 13 [0/50000 (0%)]\tLoss: 34292580.000000\n"
     ]
    },
    {
     "name": "stderr",
     "output_type": "stream",
     "text": [
      "  3%|▎         | 14/500 [48:58<28:18:02, 209.63s/it]"
     ]
    },
    {
     "name": "stdout",
     "output_type": "stream",
     "text": [
      "\n",
      "Test set: Average loss: 2.3027, Accuracy: 1000/10000 (10%)\n",
      "\n",
      "Train Epoch: 14 [0/50000 (0%)]\tLoss: 35685740.000000\n"
     ]
    },
    {
     "name": "stderr",
     "output_type": "stream",
     "text": [
      "  3%|▎         | 15/500 [52:28<28:14:33, 209.64s/it]"
     ]
    },
    {
     "name": "stdout",
     "output_type": "stream",
     "text": [
      "\n",
      "Test set: Average loss: 2.3027, Accuracy: 1000/10000 (10%)\n",
      "\n",
      "Train Epoch: 15 [0/50000 (0%)]\tLoss: 38325592.000000\n"
     ]
    },
    {
     "name": "stderr",
     "output_type": "stream",
     "text": [
      "  3%|▎         | 16/500 [55:58<28:10:52, 209.61s/it]"
     ]
    },
    {
     "name": "stdout",
     "output_type": "stream",
     "text": [
      "\n",
      "Test set: Average loss: 2.3027, Accuracy: 1000/10000 (10%)\n",
      "\n",
      "Train Epoch: 16 [0/50000 (0%)]\tLoss: 44535944.000000\n"
     ]
    },
    {
     "name": "stderr",
     "output_type": "stream",
     "text": [
      "  3%|▎         | 17/500 [59:27<28:07:14, 209.60s/it]"
     ]
    },
    {
     "name": "stdout",
     "output_type": "stream",
     "text": [
      "\n",
      "Test set: Average loss: 2.3028, Accuracy: 1000/10000 (10%)\n",
      "\n",
      "Train Epoch: 17 [0/50000 (0%)]\tLoss: 50404304.000000\n"
     ]
    },
    {
     "name": "stderr",
     "output_type": "stream",
     "text": [
      "  4%|▎         | 18/500 [1:02:57<28:04:08, 209.64s/it]"
     ]
    },
    {
     "name": "stdout",
     "output_type": "stream",
     "text": [
      "\n",
      "Test set: Average loss: 2.3029, Accuracy: 1000/10000 (10%)\n",
      "\n",
      "Train Epoch: 18 [0/50000 (0%)]\tLoss: 58160652.000000\n"
     ]
    },
    {
     "name": "stderr",
     "output_type": "stream",
     "text": [
      "  4%|▍         | 19/500 [1:06:26<28:00:25, 209.62s/it]"
     ]
    },
    {
     "name": "stdout",
     "output_type": "stream",
     "text": [
      "\n",
      "Test set: Average loss: 2.3030, Accuracy: 1000/10000 (10%)\n",
      "\n",
      "Train Epoch: 19 [0/50000 (0%)]\tLoss: 63408592.000000\n"
     ]
    },
    {
     "name": "stderr",
     "output_type": "stream",
     "text": [
      "  4%|▍         | 20/500 [1:09:56<27:57:30, 209.69s/it]"
     ]
    },
    {
     "name": "stdout",
     "output_type": "stream",
     "text": [
      "\n",
      "Test set: Average loss: 2.3032, Accuracy: 1000/10000 (10%)\n",
      "\n",
      "Train Epoch: 20 [0/50000 (0%)]\tLoss: 68726720.000000\n"
     ]
    }
   ],
   "source": [
    "# Begin training\n",
    "best_acc = 0\n",
    "\n",
    "for epoch in tqdm(range(args.epochs)):\n",
    "    train_loss, train_acc = train_adv(args, model, device, train_loader, optimizer, scheduler, epoch,\n",
    "      cycles=args.max_cycles, mse_parameter=args.mse_parameter, clean_parameter=args.clean_parameter, clean=args.clean)\n",
    "\n",
    "    test_loss, test_acc = test(args, model, device, test_loader, cycles=args.max_cycles, epoch=epoch)\n",
    "\n",
    "    # print(f\"Epoch {epoch}:\")\n",
    "    # print('loss', 'train:', train_loss)\n",
    "    # print('acc', 'train:', train_acc)\n",
    "    # print('loss', 'test:', test_loss)\n",
    "    # print('acc', 'test:', test_acc)\n",
    "\n",
    "    # Save the model with the best accuracy\n",
    "    if test_acc > best_acc and args.save_model is not None:\n",
    "        best_acc = test_acc\n",
    "        experiment_fn = args.save_model\n",
    "        torch.save(model.state_dict(),\n",
    "                   args.model_dir + \"/{}-best.pt\".format(experiment_fn))\n",
    "\n",
    "    if ((epoch+1)%50)==0 and args.save_model is not None:\n",
    "        experiment_fn = args.save_model\n",
    "        torch.save(model.state_dict(),\n",
    "                   args.model_dir + \"/{}-epoch{}.pt\".format(experiment_fn,epoch))\n",
    "        pgd_acc = test_pgd(args, model, device, test_loader, epsilon=args.eps)\n",
    "\n",
    "        print('pgd_acc', 'test:', pgd_acc)\n",
    "\n",
    "# Save final model\n",
    "if args.save_model is not None:\n",
    "    experiment_fn = args.save_model\n",
    "    torch.save(model.state_dict(),\n",
    "               args.model_dir + \"/{}.pt\".format(experiment_fn))"
   ],
   "metadata": {
    "collapsed": false,
    "pycharm": {
     "name": "#%%\n"
    }
   }
  },
  {
   "cell_type": "code",
   "execution_count": null,
   "outputs": [],
   "source": [],
   "metadata": {
    "collapsed": false,
    "pycharm": {
     "name": "#%%\n"
    }
   }
  }
 ],
 "metadata": {
  "kernelspec": {
   "name": "python3",
   "language": "python",
   "display_name": "Python 3"
  },
  "language_info": {
   "codemirror_mode": {
    "name": "ipython",
    "version": 2
   },
   "file_extension": ".py",
   "mimetype": "text/x-python",
   "name": "python",
   "nbconvert_exporter": "python",
   "pygments_lexer": "ipython2",
   "version": "2.7.6"
  }
 },
 "nbformat": 4,
 "nbformat_minor": 0
}